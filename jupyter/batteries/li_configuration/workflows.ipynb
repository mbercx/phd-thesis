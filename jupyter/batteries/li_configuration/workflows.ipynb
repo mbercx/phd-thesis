{
 "cells": [
  {
   "cell_type": "code",
   "execution_count": 1,
   "metadata": {},
   "outputs": [],
   "source": [
    "# Notebook header\n",
    "\n",
    "from pymatgen.symmetry.analyzer import SpacegroupAnalyzer\n",
    "\n",
    "from pybat import Cathode\n",
    "from pybat.workflow.workflows import get_wf_configurations\n",
    "\n",
    "from vscworkflows.config import load_config"
   ]
  },
  {
   "cell_type": "markdown",
   "metadata": {},
   "source": [
    "# Li-configuration - workflow\n",
    "\n",
    "In order to study the stability of the Li2MnO3 structure in a charged state, we need to know the configuration of the remaining Li atoms. For the fully charged structure, this is not an issue, but this structure is found to be highly unstable, and hence difficult to study. In this notebook we set up the workflows for calculating the energy of all non-symmetric Li-configurations in both the O3 and O1 stacking of Li0.5MnO3."
   ]
  },
  {
   "cell_type": "markdown",
   "metadata": {},
   "source": [
    "## O3 Stacking\n",
    "\n",
    "For the O3 stacking, we convert the structure to the conventional unit cell, and consider all non-symmetric Li configurations in this unit cell."
   ]
  },
  {
   "cell_type": "code",
   "execution_count": 2,
   "metadata": {},
   "outputs": [],
   "source": [
    "cat = Cathode.from_file(\"o3-abc-fm_Li2MnO3_prim.json\")\n",
    "conv = SpacegroupAnalyzer(cat).get_conventional_standard_structure()\n",
    "conv.add_site_property(\"magmom\", 8*[0] + 4*[3] + 12*[0])\n",
    "cat_conv = Cathode.from_structure(conv)"
   ]
  },
  {
   "cell_type": "code",
   "execution_count": 3,
   "metadata": {},
   "outputs": [],
   "source": [
    "confs = cat_conv.get_cation_configurations(\n",
    "    substitution_sites=[i for i, s in enumerate(cat_conv) if s.species_string == \"Li\"],\n",
    "    cation_list=[\"Li\", \"Vac\"],\n",
    "    sizes=[1],\n",
    "#     concentration_restrictions={\"Li\": [0.08, 0.085]},\n",
    ")"
   ]
  },
  {
   "cell_type": "code",
   "execution_count": 4,
   "metadata": {},
   "outputs": [
    {
     "data": {
      "text/plain": [
       "88"
      ]
     },
     "execution_count": 4,
     "metadata": {},
     "output_type": "execute_result"
    }
   ],
   "source": [
    "len(confs)"
   ]
  },
  {
   "cell_type": "code",
   "execution_count": 5,
   "metadata": {},
   "outputs": [],
   "source": [
    "lpad = load_config(\"launchpad\", \"leibniz\")\n",
    "wf_dir = \"/scratch/antwerpen/202/vsc20248/batteries/Li2MnO3/o3-fm\""
   ]
  },
  {
   "cell_type": "code",
   "execution_count": 6,
   "metadata": {},
   "outputs": [],
   "source": [
    "wf = get_wf_configurations(\n",
    "    structure=cat_conv,\n",
    "    directory=wf_dir,\n",
    "    configuration_list=confs,\n",
    "    functional=(\"pbeu\", {\"LDAUU\": {\"Mn\": 3.9}, \"KPAR\": 4, \"NPAR\": 4}),\n",
    ")"
   ]
  },
  {
   "cell_type": "code",
   "execution_count": 7,
   "metadata": {},
   "outputs": [
    {
     "name": "stdout",
     "output_type": "stream",
     "text": [
      "2019-11-28 01:43:32,191 INFO Added a workflow. id_map: {-1: 141}\n"
     ]
    },
    {
     "data": {
      "text/plain": [
       "{-1: 141}"
      ]
     },
     "execution_count": 7,
     "metadata": {},
     "output_type": "execute_result"
    }
   ],
   "source": [
    "lpad.add_wf(wf)"
   ]
  },
  {
   "cell_type": "markdown",
   "metadata": {},
   "source": [
    "## O1 stacking\n",
    "\n",
    "For the O1 stacking, the conventional unit cell is rather small, and hence does not allow for a significant number of configurations. We therefore allow the `get_cation_configurations` script to generate unit cells up to size two, i.e. with two times the number of atoms in the conventional unit cell."
   ]
  },
  {
   "cell_type": "code",
   "execution_count": 7,
   "metadata": {},
   "outputs": [],
   "source": [
    "o1_cat = Cathode.from_file(\"o1-aaa-fm_Li2MnO3_prim.json\")\n",
    "o1_cat = Cathode.from_structure(SpacegroupAnalyzer(o1_cat).get_conventional_standard_structure())\n",
    "o1_cat.add_site_property(\"magmom\", 4*[0]+2*[3]+6*[0])"
   ]
  },
  {
   "cell_type": "code",
   "execution_count": 8,
   "metadata": {},
   "outputs": [],
   "source": [
    "confs = o1_cat.get_cation_configurations(\n",
    "    substitution_sites=list(range(4)),\n",
    "    cation_list=[\"Li\", \"Vac\"],\n",
    "    sizes=[1, 2],\n",
    "#     concentration_restrictions={\"Li\": [0.08, 0.085]},\n",
    ")"
   ]
  },
  {
   "cell_type": "code",
   "execution_count": 9,
   "metadata": {},
   "outputs": [
    {
     "data": {
      "text/plain": [
       "208"
      ]
     },
     "execution_count": 9,
     "metadata": {},
     "output_type": "execute_result"
    }
   ],
   "source": [
    "len(confs)"
   ]
  },
  {
   "cell_type": "code",
   "execution_count": 10,
   "metadata": {},
   "outputs": [],
   "source": [
    "lpad = load_config(\"launchpad\", \"leibniz\")\n",
    "wf_dir = \"/scratch/antwerpen/202/vsc20248/batteries/Li2MnO3/o1-fm\""
   ]
  },
  {
   "cell_type": "code",
   "execution_count": 11,
   "metadata": {},
   "outputs": [],
   "source": [
    "wf = get_wf_configurations(\n",
    "    structure=o1_cat,\n",
    "    directory=wf_dir,\n",
    "    configuration_list=confs,\n",
    "    functional=(\"pbeu\", {\"LDAUU\": {\"Mn\": 3.9}, \"KPAR\": 4, \"NPAR\": 4}),\n",
    ")"
   ]
  },
  {
   "cell_type": "code",
   "execution_count": 13,
   "metadata": {},
   "outputs": [
    {
     "name": "stdout",
     "output_type": "stream",
     "text": [
      "2019-11-28 01:49:13,472 INFO Added a workflow. id_map: {-2: 230}\n"
     ]
    },
    {
     "data": {
      "text/plain": [
       "{-2: 230}"
      ]
     },
     "execution_count": 13,
     "metadata": {},
     "output_type": "execute_result"
    }
   ],
   "source": [
    "lpad.add_wf(wf)"
   ]
  },
  {
   "cell_type": "code",
   "execution_count": null,
   "metadata": {},
   "outputs": [],
   "source": []
  }
 ],
 "metadata": {
  "kernelspec": {
   "display_name": "Python 3",
   "language": "python",
   "name": "python3"
  },
  "language_info": {
   "codemirror_mode": {
    "name": "ipython",
    "version": 3
   },
   "file_extension": ".py",
   "mimetype": "text/x-python",
   "name": "python",
   "nbconvert_exporter": "python",
   "pygments_lexer": "ipython3",
   "version": "3.7.5"
  },
  "latex_envs": {
   "LaTeX_envs_menu_present": true,
   "autoclose": false,
   "autocomplete": true,
   "bibliofile": "biblio.bib",
   "cite_by": "apalike",
   "current_citInitial": 1,
   "eqLabelWithNumbers": true,
   "eqNumInitial": 1,
   "hotkeys": {
    "equation": "Ctrl-E",
    "itemize": "Ctrl-I"
   },
   "labels_anchors": false,
   "latex_user_defs": false,
   "report_style_numbering": false,
   "user_envs_cfg": false
  }
 },
 "nbformat": 4,
 "nbformat_minor": 4
}
