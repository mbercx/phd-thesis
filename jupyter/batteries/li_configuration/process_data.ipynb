{
 "cells": [
  {
   "cell_type": "code",
   "execution_count": 1,
   "metadata": {},
   "outputs": [],
   "source": [
    "import os, json\n",
    "\n",
    "from monty.json import MontyEncoder\n",
    "from support_functions import get_configuration_data_list"
   ]
  },
  {
   "cell_type": "markdown",
   "metadata": {},
   "source": [
    "## Gathering the data"
   ]
  },
  {
   "cell_type": "code",
   "execution_count": 4,
   "metadata": {},
   "outputs": [
    {
     "name": "stderr",
     "output_type": "stream",
     "text": [
      "/home/mbercx/local_jupyter/li_configuration/analysis_functions.py:65: UserWarning: Could not find required output in directory: conf_115\n",
      "  + configuration)\n",
      "/home/mbercx/local_jupyter/li_configuration/analysis_functions.py:65: UserWarning: Could not find required output in directory: conf_126\n",
      "  + configuration)\n",
      "/home/mbercx/local_jupyter/li_configuration/analysis_functions.py:65: UserWarning: Could not find required output in directory: conf_134\n",
      "  + configuration)\n",
      "/home/mbercx/local_jupyter/li_configuration/analysis_functions.py:65: UserWarning: Could not find required output in directory: conf_181\n",
      "  + configuration)\n",
      "/home/mbercx/local_jupyter/li_configuration/analysis_functions.py:65: UserWarning: Could not find required output in directory: conf_200\n",
      "  + configuration)\n",
      "/home/mbercx/local_jupyter/li_configuration/analysis_functions.py:65: UserWarning: Could not find required output in directory: conf_63\n",
      "  + configuration)\n"
     ]
    }
   ],
   "source": [
    "O1_data_list = get_configuration_data_list(\n",
    "    directory=\"/mnt/data/mbercx/batteries/Li2MnO3/o1-fm\", \n",
    "    functional=\"pbeu_Mn3.9\", calculation=\"static\"\n",
    ")\n",
    "O3_data_list = get_configuration_data_list(\n",
    "    directory=\"/mnt/data/mbercx/batteries/Li2MnO3/o3-fm\", \n",
    "    functional=\"pbeu_Mn3.9\", calculation=\"static\"\n",
    ")"
   ]
  },
  {
   "cell_type": "code",
   "execution_count": 5,
   "metadata": {},
   "outputs": [],
   "source": [
    "with open(\"data/O1_data.json\", \"w\") as file:\n",
    "    file.write(json.dumps(O1_data_list, cls=MontyEncoder))\n",
    "with open(\"data/O3_data.json\", \"w\") as file:\n",
    "    file.write(json.dumps(O3_data_list, cls=MontyEncoder))"
   ]
  },
  {
   "cell_type": "code",
   "execution_count": null,
   "metadata": {},
   "outputs": [],
   "source": []
  }
 ],
 "metadata": {
  "kernelspec": {
   "display_name": "Python 3",
   "language": "python",
   "name": "python3"
  },
  "language_info": {
   "codemirror_mode": {
    "name": "ipython",
    "version": 3
   },
   "file_extension": ".py",
   "mimetype": "text/x-python",
   "name": "python",
   "nbconvert_exporter": "python",
   "pygments_lexer": "ipython3",
   "version": "3.8.1"
  }
 },
 "nbformat": 4,
 "nbformat_minor": 4
}
