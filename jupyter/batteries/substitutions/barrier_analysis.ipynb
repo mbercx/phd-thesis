{
 "cells": [
  {
   "cell_type": "markdown",
   "metadata": {},
   "source": [
    "# Kinetic barrier analysis\n",
    "\n",
    "To be able to quickly compare the various kinetic barriers, we'll use some interactive elements for extracting the data and generating the plots."
   ]
  },
  {
   "cell_type": "code",
   "execution_count": 1,
   "metadata": {},
   "outputs": [],
   "source": [
    "# Notebook header <----- Always run this cell first!\n",
    "\n",
    "%matplotlib inline\n",
    "\n",
    "import os\n",
    "\n",
    "from ipywidgets import interact\n",
    "from pybat.core import DimerNEBAnalysis\n",
    "\n",
    "def plot_barrier(dopant=\"Sn\", functional=\"scan\"):\n",
    "    \n",
    "    try:\n",
    "        neb = DimerNEBAnalysis.from_file(\n",
    "            os.path.join(\"data\", \"neb_\" + dopant + \"_\" + functional + \".json\")\n",
    "        )\n",
    "        neb.setup_interpolation(interp_options={\"spline\": \"zero_slope\"})\n",
    "        \n",
    "        print(\"Dimer distances for each image:\")\n",
    "        print(\"\")\n",
    "        for i, d in enumerate(neb.dimer_distances):\n",
    "            print(str(i) + \": \" + str(d))\n",
    "        print(\"\")\n",
    "        \n",
    "        return neb.get_plot()\n",
    "        \n",
    "    except FileNotFoundError:\n",
    "        print(\"Could not find requested data file in the 'data' directory.\")\n"
   ]
  },
  {
   "cell_type": "code",
   "execution_count": 2,
   "metadata": {},
   "outputs": [
    {
     "data": {
      "application/vnd.jupyter.widget-view+json": {
       "model_id": "48f2b8b82c7a4f7eba245a2f63d5470e",
       "version_major": 2,
       "version_minor": 0
      },
      "text/plain": [
       "interactive(children=(Dropdown(description='dopant', options=('Sn', 'V', 'Mo'), value='Sn'), Dropdown(descript…"
      ]
     },
     "metadata": {},
     "output_type": "display_data"
    },
    {
     "data": {
      "text/plain": [
       "<function __main__.plot_barrier(dopant='Sn', functional='scan')>"
      ]
     },
     "execution_count": 2,
     "metadata": {},
     "output_type": "execute_result"
    }
   ],
   "source": [
    "interact(plot_barrier, dopant=[\"Sn\", \"V\", \"Mo\"], functional=[\"scan\", \"pbeu\"])"
   ]
  },
  {
   "cell_type": "code",
   "execution_count": null,
   "metadata": {},
   "outputs": [],
   "source": []
  }
 ],
 "metadata": {
  "kernelspec": {
   "display_name": "Python 3",
   "language": "python",
   "name": "python3"
  },
  "language_info": {
   "codemirror_mode": {
    "name": "ipython",
    "version": 3
   },
   "file_extension": ".py",
   "mimetype": "text/x-python",
   "name": "python",
   "nbconvert_exporter": "python",
   "pygments_lexer": "ipython3",
   "version": "3.8.1"
  }
 },
 "nbformat": 4,
 "nbformat_minor": 4
}
