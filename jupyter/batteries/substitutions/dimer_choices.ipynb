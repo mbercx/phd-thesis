{
 "cells": [
  {
   "cell_type": "markdown",
   "metadata": {},
   "source": [
    "# Dimer choices\n",
    "\n",
    "In this notebook we'll use some quick visualization tools to try and determine which dimers we will investigate in order to understand the influence of substituting certain elements on the dimerization."
   ]
  },
  {
   "cell_type": "code",
   "execution_count": 4,
   "metadata": {},
   "outputs": [],
   "source": [
    "# Notebook Header\n",
    "\n",
    "%matplotlib inline\n",
    "import imolecule\n",
    "import os\n",
    "import pybat.core as pb\n",
    "\n",
    "from ipywidgets import interact_manual, fixed, IntSlider\n",
    "\n",
    "cathode_file = \"/Users/mbercx/Dropbox/Phd/projects/batteries/data/Li2MnO3_Codop/0.5/o1-aaa-1a-fm/222/\" \\\n",
    "    + \"O1-Li0.5MnO3_Codop-1a_222.json\"\n",
    "\n",
    "def visualize_dimer(cathode_file, dimer_index1, dimer_index2):\n",
    "    \"\"\"\n",
    "    Visualizes the dimer using \n",
    "    \"\"\"\n",
    "    \n",
    "    cat = pb.Cathode.from_file(cathode_file)\n",
    "       \n",
    "    cat.replace(dimer_index1, \"F\")\n",
    "    cat.replace(dimer_index2, \"F\")\n",
    "    cat.change_site_distance([dimer_index1, dimer_index2], 1.4)\n",
    "    cat.to(\"cif\", \"temp.cif\")\n",
    "    imolecule.draw(\"temp.cif\", element_properties={\n",
    "        \"Li\": { \"color\": 0x66ff66, \"radius\": 0.85 },\n",
    "        \"O\": { \"color\": 0xff0000, \"radius\": 0.7 },\n",
    "        \"F\": { \"color\": 0xffcc00, \"radius\": 0.7 },\n",
    "        \"Mn\": { \"color\": 0xf00fff, \"radius\": 1.35 },\n",
    "        \"Co\": { \"color\": 0x0000ff, \"radius\": 1.3},\n",
    "        \"Mo\": { \"color\": 0x0000ff, \"radius\": 1.3},\n",
    "        \"Sn\": { \"color\": 0x0000ff, \"radius\": 1.3},\n",
    "        \"V\": { \"color\": 0x0000ff, \"radius\": 1.3}})\n",
    "    \n",
    "def visualize_dimer_dir(dimer_directory):\n",
    "    \"\"\"\n",
    "    Visualizes the dimer using \n",
    "    \"\"\"\n",
    "    \n",
    "    if not os.path.isdir(dimer_directory):\n",
    "        print(\"Input path is not a directory.\")\n",
    "        return\n",
    "    \n",
    "    cat = pb.Cathode.from_file(os.path.join(dimer_directory, \"final\", \"final_cathode.json\"))\n",
    "    dimer_indices = [int(number) for number in os.path.basename(dimer_directory.strip(\"/\")).split(\"_\")[1:]]\n",
    "    \n",
    "    if dimer_indices == []:\n",
    "        print(\"Could not extract dimer indices from directory.\")\n",
    "    else:         \n",
    "        cat.replace(dimer_indices[0], \"F\")\n",
    "        cat.replace(dimer_indices[1], \"F\")\n",
    "        cat.to(\"cif\", \"temp.cif\")\n",
    "        imolecule.draw(\"temp.cif\", element_properties={\n",
    "            \"Li\": { \"color\": 0x66ff66, \"radius\": 0.85 },\n",
    "            \"O\": { \"color\": 0xff0000, \"radius\": 0.7 },\n",
    "            \"F\": { \"color\": 0xffcc00, \"radius\": 0.7 },\n",
    "            \"Mn\": { \"color\": 0xf00fff, \"radius\": 1.35 },\n",
    "            \"Co\": { \"color\": 0x0000ff, \"radius\": 1.3},\n",
    "            \"Mo\": { \"color\": 0x0000ff, \"radius\": 1.3},\n",
    "            \"Sn\": { \"color\": 0x0000ff, \"radius\": 1.3},\n",
    "            \"V\": { \"color\": 0x0000ff, \"radius\": 1.3}})"
   ]
  },
  {
   "cell_type": "code",
   "execution_count": 2,
   "metadata": {},
   "outputs": [
    {
     "data": {
      "application/vnd.jupyter.widget-view+json": {
       "model_id": "14e28d46763a4f438c561de176ba9161",
       "version_major": 2,
       "version_minor": 0
      },
      "text/plain": [
       "interactive(children=(IntSlider(value=48, description='dimer_index1', max=95, min=48), IntSlider(value=49, des…"
      ]
     },
     "metadata": {},
     "output_type": "display_data"
    }
   ],
   "source": [
    "interact_manual(visualize_dimer, cathode_file=fixed(cathode_file), \n",
    "         dimer_index1=IntSlider(value=48, min=48, max=95), \n",
    "         dimer_index2=IntSlider(value=49, min=48, max=95));"
   ]
  },
  {
   "cell_type": "markdown",
   "metadata": {},
   "source": [
    "The interactive tool above can be used to visualize various choices of dimers. Based on the dimers we found to be thermodynamically viable for Li2MnO3, we start by adding the following two dimers to the list of dimers that should be investigated:\n",
    "\n",
    "* `49-93`: This dimer corresponds to dimer E in our MRS advances paper.\n",
    "* `55-86`: This dimer corresponds to dimer A in our MRS advances paper.\n",
    "\n",
    "Note that the dimers are defined by the internal indices of the `Cathode` object. Basically, we want to check if substituting various elements has an influence on the dimerization of oxygen pairs with a similar immediate environment as we had for the thermodynamically viable dimers in O1-Li2MnO3. Moreover, we also want to check the oxygen pairs of the octahedron of the substituted element:"
   ]
  },
  {
   "cell_type": "code",
   "execution_count": 3,
   "metadata": {
    "scrolled": true
   },
   "outputs": [
    {
     "name": "stdout",
     "output_type": "stream",
     "text": [
      "Full Formula (Li8 Mn15 Co1 O48)\n",
      "Reduced Formula: Li8Mn15CoO48\n",
      "abc   :   9.997196   9.997127   8.230322\n",
      "angles:  89.999665  90.001539 120.001613\n",
      "Sites (96)\n",
      "  #  #VESTA    SP           a         b         c    magmom\n",
      "---  --------  ----  --------  --------  --------  --------\n",
      "  0  1         Li    0         0         0              0\n",
      "  1  2         Li    1         0         0.5            0\n",
      "  2  3         Li    0         0.5       0              0\n",
      "  3  4         Li    0         0.5       0.5            0\n",
      "  4  5         Li    0.5       1         1              0\n",
      "  5  6         Li    0.5       0         0.5            0\n",
      "  6  7         Li    0.5       0.5       0              0\n",
      "  7  8         Li    0.5       0.5       0.5            0\n",
      "  8  -         Vac   1         0         0.25           0\n",
      "  9  -         Vac   0         0         0.75           0\n",
      " 10  -         Vac   0         0.5       0.25           0\n",
      " 11  -         Vac   0         0.5       0.75           0\n",
      " 12  -         Vac   0.5       0         0.25           0\n",
      " 13  -         Vac   0.5       1         0.75           0\n",
      " 14  -         Vac   0.5       0.5       0.25           0\n",
      " 15  -         Vac   0.5       0.5       0.75           0\n",
      " 16  -         Vac   0.166668  0.333333  0              0\n",
      " 17  -         Vac   0.166668  0.333333  0.5            0\n",
      " 18  -         Vac   0.166668  0.833333  0              0\n",
      " 19  -         Vac   0.166668  0.833333  0.5            0\n",
      " 20  -         Vac   0.666668  0.333333  0              0\n",
      " 21  -         Vac   0.666668  0.333333  0.5            0\n",
      " 22  -         Vac   0.666668  0.833333  0              0\n",
      " 23  -         Vac   0.666668  0.833333  0.5            0\n",
      " 24  -         Vac   0.333332  0.166667  1              0\n",
      " 25  -         Vac   0.333332  0.166667  0.5            0\n",
      " 26  -         Vac   0.333332  0.666667  0              0\n",
      " 27  -         Vac   0.333332  0.666667  0.5            0\n",
      " 28  -         Vac   0.833332  0.166667  1              0\n",
      " 29  -         Vac   0.833332  0.166667  0.5            0\n",
      " 30  -         Vac   0.833332  0.666667  0              0\n",
      " 31  -         Vac   0.833332  0.666667  0.5            0\n",
      " 32  9         Co    0.166668  0.333333  0.249999       1.2\n",
      " 33  10        Mn    0.166668  0.333333  0.749999       3.2\n",
      " 34  11        Mn    0.166668  0.833333  0.249999       3.2\n",
      " 35  12        Mn    0.166668  0.833333  0.749999       3.2\n",
      " 36  13        Mn    0.666668  0.333333  0.249999       3.2\n",
      " 37  14        Mn    0.666668  0.333333  0.749999       3.2\n",
      " 38  15        Mn    0.666668  0.833333  0.249999       3.2\n",
      " 39  16        Mn    0.666668  0.833333  0.749999       3.2\n",
      " 40  17        Mn    0.333332  0.166667  0.250001       3.2\n",
      " 41  18        Mn    0.333332  0.166667  0.750001       3.2\n",
      " 42  19        Mn    0.333332  0.666667  0.250001       3.2\n",
      " 43  20        Mn    0.333332  0.666667  0.750001       3.2\n",
      " 44  21        Mn    0.833332  0.166667  0.250001       3.2\n",
      " 45  22        Mn    0.833332  0.166667  0.750001       3.2\n",
      " 46  23        Mn    0.833332  0.666667  0.250001       3.2\n",
      " 47  24        Mn    0.833332  0.666667  0.750001       3.2\n",
      " 48  25        O     0.32144   0.321438  0.127095       0\n",
      " 49  26        O     0.32144   0.321438  0.627095       0\n",
      " 50  27        O     0.32144   0.821438  0.127095       0\n",
      " 51  28        O     0.32144   0.821438  0.627095       0\n",
      " 52  29        O     0.82144   0.321438  0.127095       0\n",
      " 53  30        O     0.82144   0.321438  0.627095       0\n",
      " 54  31        O     0.82144   0.821438  0.127095       0\n",
      " 55  32        O     0.82144   0.821438  0.627095       0\n",
      " 56  33        O     0.178558  0         0.127095       0\n",
      " 57  34        O     0.178558  0         0.627095       0\n",
      " 58  35        O     0.178558  0.5       0.127095       0\n",
      " 59  36        O     0.178558  0.5       0.627095       0\n",
      " 60  37        O     0.678558  0         0.127095       0\n",
      " 61  38        O     0.678558  0         0.627095       0\n",
      " 62  39        O     0.678558  0.5       0.127095       0\n",
      " 63  40        O     0.678558  0.5       0.627095       0\n",
      " 64  41        O     3e-06     0.178559  0.127094       0\n",
      " 65  42        O     3e-06     0.178559  0.627094       0\n",
      " 66  43        O     3e-06     0.678559  0.127094       0\n",
      " 67  44        O     3e-06     0.678559  0.627094       0\n",
      " 68  45        O     0.500003  0.178559  0.127094       0\n",
      " 69  46        O     0.500003  0.178559  0.627094       0\n",
      " 70  47        O     0.500003  0.678559  0.127094       0\n",
      " 71  48        O     0.500003  0.678559  0.627094       0\n",
      " 72  49        O     0.321442  1         0.372905       0\n",
      " 73  50        O     0.321442  1         0.872905       0\n",
      " 74  51        O     0.321442  0.5       0.372905       0\n",
      " 75  52        O     0.321442  0.5       0.872905       0\n",
      " 76  53        O     0.821442  1         0.372905       0\n",
      " 77  54        O     0.821442  1         0.872905       0\n",
      " 78  55        O     0.821442  0.5       0.372905       0\n",
      " 79  56        O     0.821442  0.5       0.872905       0\n",
      " 80  57        O     0.17856   0.178562  0.372905       0\n",
      " 81  58        O     0.17856   0.178562  0.872905       0\n",
      " 82  59        O     0.17856   0.678562  0.372905       0\n",
      " 83  60        O     0.17856   0.678562  0.872905       0\n",
      " 84  61        O     0.67856   0.178562  0.372905       0\n",
      " 85  62        O     0.67856   0.178562  0.872905       0\n",
      " 86  63        O     0.67856   0.678562  0.372905       0\n",
      " 87  64        O     0.67856   0.678562  0.872905       0\n",
      " 88  65        O     0.999997  0.321441  0.372906       0\n",
      " 89  66        O     0.999997  0.321441  0.872906       0\n",
      " 90  67        O     0.999997  0.821441  0.372906       0\n",
      " 91  68        O     0.999997  0.821441  0.872906       0\n",
      " 92  69        O     0.499997  0.321441  0.372906       0\n",
      " 93  70        O     0.499997  0.321441  0.872906       0\n",
      " 94  71        O     0.499997  0.821441  0.372906       0\n",
      " 95  72        O     0.499997  0.821441  0.872906       0\n"
     ]
    }
   ],
   "source": [
    "cat = pb.LiRichCathode.from_file(cathode_file)\n",
    "print(cat)"
   ]
  },
  {
   "cell_type": "code",
   "execution_count": 8,
   "metadata": {},
   "outputs": [
    {
     "data": {
      "text/plain": [
       "[[(58, 64), (58, 48), (64, 48), (88, 80), (88, 74), (80, 74)],\n",
       " [(58, 88), (64, 80), (48, 74)],\n",
       " [(58, 74), (64, 88), (80, 48)]]"
      ]
     },
     "execution_count": 8,
     "metadata": {},
     "output_type": "execute_result"
    }
   ],
   "source": [
    "cat.list_noneq_dimers(32) # Look for the nonequivalent dimers around the Co site."
   ]
  },
  {
   "cell_type": "markdown",
   "metadata": {},
   "source": [
    "As we can see, there are three lists of equivalent dimers which are inequivalent versus elements of the other lists (if that makes sense). We'll have to choose one of each and add them to the list of dimers to be studied. We've picked `88-80`, `64-80` and `48-80`. Finally, we also want to investigate the dimer across the lithium layer, with one oxygen of the pair neighboring the substituted element, as this dimer was found to be the most optimal for Li2MnO3. We choose dimer `49-80`. Our final list of dimers is:\n",
    "\n",
    "1. `49-93`\n",
    "2. `55-86`\n",
    "3. `88-80`\n",
    "4. `64-80`\n",
    "5. `48-80`\n",
    "6. `49-80`\n",
    "\n",
    "Feel free to check any of these dimer using the tool above."
   ]
  },
  {
   "cell_type": "markdown",
   "metadata": {},
   "source": [
    "## Visualizing the final dimers"
   ]
  },
  {
   "cell_type": "code",
   "execution_count": 5,
   "metadata": {},
   "outputs": [],
   "source": [
    "data_dir = \"/users/mbercx/Dropbox/Phd/projects/batteries/data/Li2MnO3_Codop/0.5/o1-aaa-1a-fm/222\"\n",
    "pbeu_dir = \"pbeu_Mn3.9Co5.1_dimers\"\n",
    "scan_dir = \"scan_dimers\""
   ]
  },
  {
   "cell_type": "code",
   "execution_count": 6,
   "metadata": {},
   "outputs": [
    {
     "data": {
      "text/html": [
       "<div id=\"molecule_c1933fd1-dbbc-48dc-aa91-5f0a4a9d006c\"></div>\n",
       "           <script type=\"text/javascript\">\n",
       "           require.config({baseUrl: '/',\n",
       "                           paths: {imolecule: ['nbextensions/imolecule.min', 'https://rawgit.com/patrickfuller/imolecule/master/imolecule/js/build/imolecule.min']}});\n",
       "           require(['imolecule'], function () {\n",
       "               var $d = $('#molecule_c1933fd1-dbbc-48dc-aa91-5f0a4a9d006c');\n",
       "               $d.width(400); $d.height(300);\n",
       "               $d.imolecule = jQuery.extend({}, imolecule);\n",
       "               $d.imolecule.create($d, {drawingType: 'ball and stick',\n",
       "                                        cameraType: 'perspective',\n",
       "                                        shader: 'lambert',\n",
       "                                        showSave: false});\n",
       "               $d.imolecule.addElements({\n",
       "    \"Co\": {\n",
       "        \"color\": 255,\n",
       "        \"radius\": 1.3\n",
       "    },\n",
       "    \"F\": {\n",
       "        \"color\": 16763904,\n",
       "        \"radius\": 0.7\n",
       "    },\n",
       "    \"Li\": {\n",
       "        \"color\": 6750054,\n",
       "        \"radius\": 0.85\n",
       "    },\n",
       "    \"Mn\": {\n",
       "        \"color\": 15732735,\n",
       "        \"radius\": 1.35\n",
       "    },\n",
       "    \"Mo\": {\n",
       "        \"color\": 255,\n",
       "        \"radius\": 1.3\n",
       "    },\n",
       "    \"O\": {\n",
       "        \"color\": 16711680,\n",
       "        \"radius\": 0.7\n",
       "    },\n",
       "    \"Sn\": {\n",
       "        \"color\": 255,\n",
       "        \"radius\": 1.3\n",
       "    },\n",
       "    \"V\": {\n",
       "        \"color\": 255,\n",
       "        \"radius\": 1.3\n",
       "    }\n",
       "});\n",
       "               $d.imolecule.draw({\"atoms\":[{\"element\":\"Li\",\"label\":\"Li1\",\"location\":[-2.627359677839819,-4.551865091299419,-4.214498851464001]},{\"element\":\"Li\",\"label\":\"Li2\",\"location\":[2.282821958655499,3.9490598857247656,-0.06389859232832329]},{\"element\":\"Li\",\"label\":\"Li3\",\"location\":[4.821332361229446,-0.23953214539826284,3.9624242675802392]},{\"element\":\"Li\",\"label\":\"Li4\",\"location\":[4.837808122518669,-0.21062694368763246,-0.07806364934904675]},{\"element\":\"Li\",\"label\":\"Li5\",\"location\":[-2.6018193013527413,4.044943396129905,3.950661183062449]},{\"element\":\"Li\",\"label\":\"Li6\",\"location\":[-2.5840749985630067,4.0750766956241256,-0.06606201276760881]},{\"element\":\"Li\",\"label\":\"Li7\",\"location\":[-0.05893587371220388,-0.10705299630804266,3.948283888359203]},{\"element\":\"Li\",\"label\":\"Li8\",\"location\":[-0.14640596700072228,-0.2546158014313793,-0.12698327426324152]},{\"element\":\"Mn\",\"label\":\"Mn9\",\"location\":[-2.638707232663392,-1.680501126222138,1.9421679702157526]},{\"element\":\"Mn\",\"label\":\"Mn10\",\"location\":[-5.134206256984129,2.5754135873046495,-2.220820544363137]},{\"element\":\"Mn\",\"label\":\"Mn11\",\"location\":[-5.141117857313468,2.644953184863798,1.9494561470568454]},{\"element\":\"Mn\",\"label\":\"Mn12\",\"location\":[2.4173668013460023,-1.6475210757485819,-2.1207438406963983]},{\"element\":\"Mn\",\"label\":\"Mn13\",\"location\":[2.35379049934339,-1.676305369206304,1.9347893081091376]},{\"element\":\"Mn\",\"label\":\"Mn14\",\"location\":[-0.13827579408814428,2.642950013561821,-2.1706505775980998]},{\"element\":\"Mn\",\"label\":\"Mn15\",\"location\":[-0.13554841326044187,2.641060408622061,1.9419458700185634]},{\"element\":\"Mn\",\"label\":\"Mn16\",\"location\":[0.20045487976686793,-3.3196152382491206,-2.1705518663993493]},{\"element\":\"Mn\",\"label\":\"Mn17\",\"location\":[-0.1440389849188608,-3.120692904596425,1.9421432924160644]},{\"element\":\"Mn\",\"label\":\"Mn18\",\"location\":[-2.6399239477314653,1.2450342372580536,-2.122537094140369]},{\"element\":\"Mn\",\"label\":\"Mn19\",\"location\":[-2.628033612544054,1.199043392990741,1.9352746381696626]},{\"element\":\"Mn\",\"label\":\"Mn20\",\"location\":[4.81658863645801,-3.1423502304054285,-2.2188545463213525]},{\"element\":\"Mn\",\"label\":\"Mn21\",\"location\":[4.862839344699819,-3.129897489848226,1.9489379132634035]},{\"element\":\"Mn\",\"label\":\"Mn22\",\"location\":[2.347576431233085,1.2079400897844481,-2.170798644396226]},{\"element\":\"Mn\",\"label\":\"Mn23\",\"location\":[2.3602586601784274,1.200453387053507,1.9421350664828356]},{\"element\":\"Co\",\"label\":\"Co24\",\"location\":[-2.98402053698138,-1.4812599117478698,-2.170831548129143]},{\"element\":\"F\",\"label\":\"F25\",\"location\":[-1.1974086391560343,-1.9898353563896571,-2.7191229015898366]},{\"element\":\"O\",\"label\":\"O26\",\"location\":[-0.9990604682846822,-1.7290798558691134,0.978360051547269]},{\"element\":\"O\",\"label\":\"O27\",\"location\":[-3.5173500198339456,2.5184871126421227,-3.2079325318700116]},{\"element\":\"O\",\"label\":\"O28\",\"location\":[-3.5276154928183385,2.541935254377445,0.9462542341536073]},{\"element\":\"O\",\"label\":\"O29\",\"location\":[3.951558524428423,-1.7656857148115117,-3.191340824546667]},{\"element\":\"O\",\"label\":\"O30\",\"location\":[3.966858732685866,-1.7868236037838106,0.9335204895147688]},{\"element\":\"O\",\"label\":\"O31\",\"location\":[1.4657113230036947,2.544871864703282,-3.1851055671589155]},{\"element\":\"O\",\"label\":\"O32\",\"location\":[1.4535311746478676,2.511069470427321,0.9158100552722503]},{\"element\":\"O\",\"label\":\"O33\",\"location\":[-5.685992093226325,4.071460436578456,-3.248535738289461]},{\"element\":\"O\",\"label\":\"O34\",\"location\":[-0.8899729626465345,-4.552081706078855,0.9274908804577482]},{\"element\":\"O\",\"label\":\"O35\",\"location\":[-3.4236651711960855,-0.14848913026640798,-3.1896051526353006]},{\"element\":\"O\",\"label\":\"O36\",\"location\":[-3.353498706002485,-0.24001021917304843,0.9329529001219532]},{\"element\":\"O\",\"label\":\"O37\",\"location\":[-0.8573966796660688,4.066165626387288,-3.211839850153893]},{\"element\":\"O\",\"label\":\"O38\",\"location\":[-0.8419038124645615,4.082442295184134,0.9369424777381257]},{\"element\":\"O\",\"label\":\"O39\",\"location\":[1.6198300472832203,-0.25638315394762135,-3.134006069938976]},{\"element\":\"O\",\"label\":\"O40\",\"location\":[1.6456622190478507,-0.2391709356328766,0.921708049397604]},{\"element\":\"O\",\"label\":\"O41\",\"location\":[6.349270422850763,-2.8750858331268527,-3.2545735732797114]},{\"element\":\"O\",\"label\":\"O42\",\"location\":[-3.487116378915152,-3.061057825681016,0.9446337253074502]},{\"element\":\"O\",\"label\":\"O43\",\"location\":[3.939950815710165,1.2899815349129158,-3.2194406124576957]},{\"element\":\"O\",\"label\":\"O44\",\"location\":[-6.0262857699399115,1.3081785881860313,0.9368766702722926]},{\"element\":\"O\",\"label\":\"O45\",\"location\":[1.6165785159908106,-3.040983744977966,-3.1983410937247365]},{\"element\":\"O\",\"label\":\"O46\",\"location\":[1.4666801118441848,-3.0222240446597537,0.9326567665257004]},{\"element\":\"O\",\"label\":\"O47\",\"location\":[-1.0331266767797107,1.2706630308831626,-3.1322621720943804]},{\"element\":\"O\",\"label\":\"O48\",\"location\":[-1.0296619524914246,1.3052288895378155,0.9193060768946708]},{\"element\":\"O\",\"label\":\"O49\",\"location\":[-4.327294231376325,3.965727356923293,-1.1436674917291767]},{\"element\":\"O\",\"label\":\"O50\",\"location\":[0.5768113440458165,-4.565223761199287,2.9519095000362228]},{\"element\":\"O\",\"label\":\"O51\",\"location\":[-2.1053769735579144,-0.2157778546501108,-1.0865137076525286]},{\"element\":\"O\",\"label\":\"O52\",\"location\":[-1.8678340751563942,-0.25541856250928596,2.9402369007839537]},{\"element\":\"O\",\"label\":\"O53\",\"location\":[5.598083024826925,-4.547242937232957,-1.2092857610986965]},{\"element\":\"O\",\"label\":\"O54\",\"location\":[0.5740031911191723,4.083055022086145,2.9652766415337117]},{\"element\":\"O\",\"label\":\"O55\",\"location\":[3.0731453528507213,-0.21222187423620475,-1.1223952283984038]},{\"element\":\"O\",\"label\":\"O56\",\"location\":[3.068472113833357,-0.24108422263259488,2.9477307259557763]},{\"element\":\"F\",\"label\":\"F57\",\"location\":[-1.6497872806133622,-2.77265602959508,-1.6214214677492746]},{\"element\":\"O\",\"label\":\"O58\",\"location\":[-1.7767627891541213,-3.076370391821828,2.9062308928143414]},{\"element\":\"O\",\"label\":\"O59\",\"location\":[-4.264617131076613,1.3058797413162067,-1.1501413011805757]},{\"element\":\"O\",\"label\":\"O60\",\"location\":[-4.239258413734465,1.3022860731817723,2.9512020697785095]},{\"element\":\"O\",\"label\":\"O61\",\"location\":[3.2751292585640686,-3.019540285849929,-1.1338128237205667]},{\"element\":\"O\",\"label\":\"O62\",\"location\":[3.250200765434557,-3.0207459208111387,2.937851380147478]},{\"element\":\"O\",\"label\":\"O63\",\"location\":[0.749313413393689,1.3039074213159534,-1.1554223503137377]},{\"element\":\"O\",\"label\":\"O64\",\"location\":[0.7713289683975284,1.3295100441387788,2.9675634509714355]},{\"element\":\"O\",\"label\":\"O65\",\"location\":[5.631842769664397,-1.7673483153871867,-1.1514245467643347]},{\"element\":\"O\",\"label\":\"O66\",\"location\":[5.745998823787735,-1.782914770023536,2.9517285295051794]},{\"element\":\"O\",\"label\":\"O67\",\"location\":[-6.737758105444085,2.5706159711836847,-1.2078215449838945]},{\"element\":\"O\",\"label\":\"O68\",\"location\":[3.249307356678977,2.5393473289513135,2.9628828949640074]},{\"element\":\"O\",\"label\":\"O69\",\"location\":[0.8459309384262972,-1.9179256219945708,-1.092847676239031]},{\"element\":\"O\",\"label\":\"O70\",\"location\":[0.7224222340173321,-1.759687341768172,2.9573550678339684]},{\"element\":\"O\",\"label\":\"O71\",\"location\":[-1.7303101268577856,2.553884190254599,-1.1296669533730377]},{\"element\":\"O\",\"label\":\"O72\",\"location\":[-1.7369367326165246,2.532279806169435,2.947122006896814]}],\"bonds\":[{\"atoms\":[40,19],\"order\":1},{\"atoms\":[32,9],\"order\":1},{\"atoms\":[42,21],\"order\":1},{\"atoms\":[36,13],\"order\":1},{\"atoms\":[26,9],\"order\":1},{\"atoms\":[26,17],\"order\":1},{\"atoms\":[44,15],\"order\":1},{\"atoms\":[44,11],\"order\":1},{\"atoms\":[28,19],\"order\":1},{\"atoms\":[28,11],\"order\":1},{\"atoms\":[34,23],\"order\":1},{\"atoms\":[34,17],\"order\":1},{\"atoms\":[30,21],\"order\":1},{\"atoms\":[30,13],\"order\":1},{\"atoms\":[38,21],\"order\":1},{\"atoms\":[38,11],\"order\":1},{\"atoms\":[46,13],\"order\":1},{\"atoms\":[46,17],\"order\":1},{\"atoms\":[24,56],\"order\":1},{\"atoms\":[9,66],\"order\":1},{\"atoms\":[9,58],\"order\":1},{\"atoms\":[9,48],\"order\":1},{\"atoms\":[19,52],\"order\":1},{\"atoms\":[19,64],\"order\":1},{\"atoms\":[19,60],\"order\":1},{\"atoms\":[23,50],\"order\":1},{\"atoms\":[21,62],\"order\":1},{\"atoms\":[21,54],\"order\":1},{\"atoms\":[13,62],\"order\":1},{\"atoms\":[13,70],\"order\":1},{\"atoms\":[15,68],\"order\":1},{\"atoms\":[17,58],\"order\":1},{\"atoms\":[17,70],\"order\":1},{\"atoms\":[17,50],\"order\":1},{\"atoms\":[11,60],\"order\":1},{\"atoms\":[11,54],\"order\":1},{\"atoms\":[11,68],\"order\":1},{\"atoms\":[5,37],\"order\":1},{\"atoms\":[31,14],\"order\":1},{\"atoms\":[31,22],\"order\":1},{\"atoms\":[47,18],\"order\":1},{\"atoms\":[47,14],\"order\":1},{\"atoms\":[39,12],\"order\":1},{\"atoms\":[39,22],\"order\":1},{\"atoms\":[33,16],\"order\":1},{\"atoms\":[45,12],\"order\":1},{\"atoms\":[45,16],\"order\":1},{\"atoms\":[35,18],\"order\":1},{\"atoms\":[35,8],\"order\":1},{\"atoms\":[29,12],\"order\":1},{\"atoms\":[29,20],\"order\":1},{\"atoms\":[43,10],\"order\":1},{\"atoms\":[37,14],\"order\":1},{\"atoms\":[41,8],\"order\":1},{\"atoms\":[27,18],\"order\":1},{\"atoms\":[27,10],\"order\":1},{\"atoms\":[25,16],\"order\":1},{\"atoms\":[25,8],\"order\":1},{\"atoms\":[12,61],\"order\":1},{\"atoms\":[12,55],\"order\":1},{\"atoms\":[12,69],\"order\":1},{\"atoms\":[18,51],\"order\":1},{\"atoms\":[18,71],\"order\":1},{\"atoms\":[18,59],\"order\":1},{\"atoms\":[14,71],\"order\":1},{\"atoms\":[14,53],\"order\":1},{\"atoms\":[14,63],\"order\":1},{\"atoms\":[22,55],\"order\":1},{\"atoms\":[22,67],\"order\":1},{\"atoms\":[22,63],\"order\":1},{\"atoms\":[16,57],\"order\":1},{\"atoms\":[16,49],\"order\":1},{\"atoms\":[16,69],\"order\":1},{\"atoms\":[8,57],\"order\":1},{\"atoms\":[8,51],\"order\":1},{\"atoms\":[20,61],\"order\":1},{\"atoms\":[20,65],\"order\":1},{\"atoms\":[10,59],\"order\":1}],\"density\":4.000395007389843,\"formula\":\"CoF2Li8Mn15O46\",\"molecular_weight\":1712.5011413999966,\"unitcell\":[[9.98950116,0.0,0.0],[-4.99523128944918,8.650839612614599,0.0],[-1.9690573233950575e-05,-0.00011126389752236541,8.225933229223957]],\"units\":{\"density\":\"kg / L\",\"molecular_weight\":\"g / mol\"}});\n",
       "\n",
       "               $d.resizable({\n",
       "                   aspectRatio: 400 / 300,\n",
       "                   resize: function (evt, ui) {\n",
       "                       $d.imolecule.renderer.setSize(ui.size.width,\n",
       "                                                     ui.size.height);\n",
       "                   }\n",
       "               });\n",
       "           });\n",
       "           </script>"
      ],
      "text/plain": [
       "<IPython.core.display.HTML object>"
      ]
     },
     "metadata": {},
     "output_type": "display_data"
    }
   ],
   "source": [
    "visualize_dimer_dir(os.path.join(data_dir, pbeu_dir, \"dimer_80_48\"))"
   ]
  },
  {
   "cell_type": "code",
   "execution_count": null,
   "metadata": {},
   "outputs": [],
   "source": []
  }
 ],
 "metadata": {
  "kernelspec": {
   "display_name": "Python 3",
   "language": "python",
   "name": "python3"
  },
  "language_info": {
   "codemirror_mode": {
    "name": "ipython",
    "version": 3
   },
   "file_extension": ".py",
   "mimetype": "text/x-python",
   "name": "python",
   "nbconvert_exporter": "python",
   "pygments_lexer": "ipython3",
   "version": "3.8.1"
  },
  "latex_envs": {
   "LaTeX_envs_menu_present": true,
   "autoclose": false,
   "autocomplete": true,
   "bibliofile": "biblio.bib",
   "cite_by": "apalike",
   "current_citInitial": 1,
   "eqLabelWithNumbers": true,
   "eqNumInitial": 1,
   "hotkeys": {
    "equation": "Ctrl-E",
    "itemize": "Ctrl-I"
   },
   "labels_anchors": false,
   "latex_user_defs": false,
   "report_style_numbering": false,
   "user_envs_cfg": false
  }
 },
 "nbformat": 4,
 "nbformat_minor": 4
}
