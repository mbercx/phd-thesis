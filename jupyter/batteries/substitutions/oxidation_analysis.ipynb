{
 "cells": [
  {
   "cell_type": "markdown",
   "metadata": {},
   "source": [
    "# Oxidation of oxygen\n",
    "\n",
    "In this notebook we'll take a look at the participation of oxygen in the redox reactions of the battery as it is charged. Here's a brief overview of the plan:\n",
    "\n",
    "#### Magnetic moments\n",
    "1. Check state of oxidation of the substituted element from the magnetic moments\n",
    "2. Calculate the average magnetic moment of oxygen around the substituted element.\n",
    "3. Calculate the average magnetic moment of the other oxygens and compare.\n",
    "\n",
    "#### PDOS\n",
    "1. Check the energy levels of the substituted element versus the oxygen in the discharged structure.\n",
    "2. Compare the PDOS before and after charging for oxygen.\n"
   ]
  },
  {
   "cell_type": "code",
   "execution_count": 1,
   "metadata": {},
   "outputs": [],
   "source": [
    "# Notebook header <---- Execute this cell first!\n",
    "\n",
    "import os, json\n",
    "import numpy as np\n",
    "\n",
    "from monty.json import MontyDecoder\n",
    "from ipywidgets import interact, FloatSlider, FloatRangeSlider\n",
    "from pybat.core import Cathode, VORONOI_ANG_FACTOR, VORONOI_DIST_FACTOR\n",
    "\n",
    "from pymatgen.electronic_structure.core import Orbital, OrbitalType\n",
    "from pymatgen.electronic_structure.dos import Dos, CompleteDos\n",
    "from pymatgen.electronic_structure.plotter import DosPlotter\n",
    "from pymatgen import Element, Spin\n",
    "\n",
    "# Data being considered - Will be placed in data subdirectory\n",
    "doping_elements = [\"Co\", \"Mo\", \"V\", \"Sn\"]\n",
    "states = [\"discharged\", \"charged\"]\n",
    "functionals = [\"scan\", \"pbeu\"]"
   ]
  },
  {
   "cell_type": "markdown",
   "metadata": {},
   "source": [
    "## Magnetic Moments"
   ]
  },
  {
   "cell_type": "code",
   "execution_count": 2,
   "metadata": {},
   "outputs": [],
   "source": [
    "with open(\"data/magmom_data.json\", \"r\") as file:\n",
    "    magmom_data = json.loads(file.read())\n",
    "\n",
    "# Function for interactive analysis\n",
    "def analyze_magmoms(doping_element, state, functional):\n",
    "    \n",
    "    magmom_dict = magmom_data[doping_element][state][functional]\n",
    "    \n",
    "    print(\"Magnetic moment of \" + doping_element + \": \" \n",
    "          + str(round(magmom_dict[\"dopant\"], 3)))\n",
    "    print(\"Average magnetic moment of neighbouring oxygen atoms: \" + \n",
    "         str(round(magmom_dict[\"neighbor_O\"], 3)))\n",
    "    print(\"Average magnetic moment of other oxygen atoms in the structure: \" + \n",
    "         str(round(magmom_dict[\"other_O\"], 3)))"
   ]
  },
  {
   "cell_type": "code",
   "execution_count": 3,
   "metadata": {},
   "outputs": [
    {
     "data": {
      "application/vnd.jupyter.widget-view+json": {
       "model_id": "b1188b2463dc44f088827c3e0337333f",
       "version_major": 2,
       "version_minor": 0
      },
      "text/plain": [
       "interactive(children=(Dropdown(description='doping_element', options=('Co', 'Mo', 'V', 'Sn'), value='Co'), Dro…"
      ]
     },
     "metadata": {},
     "output_type": "display_data"
    }
   ],
   "source": [
    "interact(analyze_magmoms,\n",
    "         doping_element=doping_elements, \n",
    "         state=states, functional=functionals);"
   ]
  },
  {
   "cell_type": "markdown",
   "metadata": {},
   "source": [
    "## PDOS"
   ]
  },
  {
   "cell_type": "code",
   "execution_count": 4,
   "metadata": {},
   "outputs": [],
   "source": [
    "with open(\"data/pdos_data.json\", \"r\") as file:\n",
    "    pdos_data = json.loads(file.read())\n",
    "\n",
    "# Method for quickly plotting the element-projected DOS\n",
    "def plot_el_total_dos(complete_dos, elements, smearing_sigma=0.05, xlim=None, ylim=None):\n",
    "    \"\"\"\n",
    "    \n",
    "    Args:\n",
    "        complete_dos (CompleteDos):\n",
    "        elements: list or tuple of string representations of the elements, e.g. [\"Mn\", \"O\"]\n",
    "    \n",
    "    \"\"\"\n",
    "    \n",
    "    elements_dos = complete_dos.get_element_dos()\n",
    "\n",
    "    total_dos_dict = dict()\n",
    "    \n",
    "    for el in elements:\n",
    "        \n",
    "        el_dos = elements_dos[Element(el)]\n",
    "        \n",
    "        total_dos_dict[el] = Dos(\n",
    "            efermi=el_dos.efermi, energies=el_dos.energies,\n",
    "            densities={Spin.up:el_dos.get_smeared_densities(sigma=smearing_sigma)[Spin.up] \n",
    "                       + el_dos.get_smeared_densities(sigma=smearing_sigma)[Spin.down]}\n",
    "        )\n",
    "        \n",
    "    plotter = DosPlotter()\n",
    "    plotter.add_dos_dict(total_dos_dict)\n",
    "    plotter.show(xlim=xlim, ylim=ylim)\n",
    "\n",
    "# Function for the interactive analysis of the PDOS\n",
    "def analyze_pdos(doping_element, state, functional, xlim=None, ymax=200):\n",
    "    \n",
    "    cdos = CompleteDos.from_dict(\n",
    "        pdos_data[doping_element][state][functional]\n",
    "    )\n",
    "    \n",
    "    plot_el_total_dos(\n",
    "        complete_dos=cdos,\n",
    "        elements = [doping_element, \"Mn\", \"O\"],\n",
    "        xlim=xlim,\n",
    "        ylim=(0, ymax)\n",
    "    )"
   ]
  },
  {
   "cell_type": "code",
   "execution_count": 5,
   "metadata": {},
   "outputs": [
    {
     "data": {
      "application/vnd.jupyter.widget-view+json": {
       "model_id": "1e5796f6899943159b79275ccc0fba3e",
       "version_major": 2,
       "version_minor": 0
      },
      "text/plain": [
       "interactive(children=(Dropdown(description='doping_element', options=('Co', 'Mo', 'V', 'Sn'), value='Co'), Dro…"
      ]
     },
     "metadata": {},
     "output_type": "display_data"
    }
   ],
   "source": [
    "interact(analyze_pdos, doping_element=doping_elements, state=states,\n",
    "         functional=functionals,\n",
    "         xlim=FloatRangeSlider(value=(-10, 5), min=-20, max=10),\n",
    "         ymax=FloatSlider(value=150, min=0, max=300));"
   ]
  },
  {
   "cell_type": "code",
   "execution_count": null,
   "metadata": {},
   "outputs": [],
   "source": []
  }
 ],
 "metadata": {
  "kernelspec": {
   "display_name": "Python 3",
   "language": "python",
   "name": "python3"
  },
  "language_info": {
   "codemirror_mode": {
    "name": "ipython",
    "version": 3
   },
   "file_extension": ".py",
   "mimetype": "text/x-python",
   "name": "python",
   "nbconvert_exporter": "python",
   "pygments_lexer": "ipython3",
   "version": "3.8.1"
  }
 },
 "nbformat": 4,
 "nbformat_minor": 4
}
