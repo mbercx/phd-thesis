{
 "cells": [
  {
   "cell_type": "code",
   "execution_count": 1,
   "metadata": {},
   "outputs": [],
   "source": [
    "import numpy as np\n",
    "import csv, os\n",
    "import tikzplotlib\n",
    "\n",
    "import matplotlib.pyplot as plt\n",
    "%matplotlib inline\n",
    "\n",
    "figures_dir = \"../../../figures/batteries\"\n",
    "\n",
    "color0 = \"#163D5C\"\n",
    "color1 = \"#B1CCE3\"\n",
    "color2 = \"#3AA99F\"\n",
    "color3 = \"#EECF5A\"\n",
    "color4 = \"#E65239\"\n",
    "color5 = \"#B81F1F\"\n",
    "color6 = \"#2368A2\"\n",
    "color7 = \"#0B164D\"\n",
    "color8 = \"#0A5085\""
   ]
  },
  {
   "cell_type": "code",
   "execution_count": 2,
   "metadata": {},
   "outputs": [],
   "source": [
    "def grab_xrd_data(filename):\n",
    "    angles = []\n",
    "    counts = []\n",
    "\n",
    "    with open(filename, \"r\", newline=\"\") as file:\n",
    "        data = csv.reader(file)\n",
    "        for d in data:\n",
    "            try:\n",
    "                angles.append(float(d[0]))\n",
    "                counts.append(float(d[1]))\n",
    "            except ValueError:\n",
    "                pass\n",
    "\n",
    "    return np.array(angles), np.array(counts)"
   ]
  },
  {
   "cell_type": "code",
   "execution_count": 7,
   "metadata": {},
   "outputs": [
    {
     "data": {
      "image/png": "[encoded data removed]",
      "text/plain": [
       "<Figure size 432x288 with 1 Axes>"
      ]
     },
     "metadata": {
      "needs_background": "light"
     },
     "output_type": "display_data"
    }
   ],
   "source": [
    "data_dict = {\n",
    "    \"LNMC\": {\"color\": color0, \"shift\": 0},\n",
    "    \"LNMCS5\": {\"color\": color1, \"shift\": 1.5e5},\n",
    "    \"LNMCS10\": {\"color\": color2, \"shift\": 3e5},\n",
    "    \"LNMCS20\": {\"color\": color3, \"shift\": 4.5e5},\n",
    "    \"LNCS\": {\"color\": color4, \"shift\": 6e5},\n",
    "}\n",
    "plot_precision = 5\n",
    "\n",
    "for data, spec in data_dict.items():\n",
    "\n",
    "    filename = \"data/PAUASK_\" + data + \"-out.csv\"\n",
    "\n",
    "    angles, counts = grab_xrd_data(filename)\n",
    "\n",
    "    plt.plot(angles[::plot_precision], \n",
    "             (counts[::plot_precision] + spec[\"shift\"])/1e5, \n",
    "             color=spec[\"color\"], linewidth=1.5)\n",
    "    \n",
    "tikzplotlib.save(filepath=os.path.join(figures_dir, \"xrd-data.tex\"), \n",
    "                 add_axis_environment=False)"
   ]
  },
  {
   "cell_type": "code",
   "execution_count": null,
   "metadata": {},
   "outputs": [],
   "source": []
  }
 ],
 "metadata": {
  "kernelspec": {
   "display_name": "Python 3",
   "language": "python",
   "name": "python3"
  },
  "language_info": {
   "codemirror_mode": {
    "name": "ipython",
    "version": 3
   },
   "file_extension": ".py",
   "mimetype": "text/x-python",
   "name": "python",
   "nbconvert_exporter": "python",
   "pygments_lexer": "ipython3",
   "version": "3.8.1"
  }
 },
 "nbformat": 4,
 "nbformat_minor": 4
}
