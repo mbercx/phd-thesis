{
 "cells": [
  {
   "cell_type": "markdown",
   "metadata": {},
   "source": [
    "# Phase segregation Analysis\n",
    "\n",
    "In order to check the tendency of Li$_{1.2}$Mn$_{0.8-x}$Sn$_{x}$O$_{2}$ to segregate into two phases, we need to compare its energy versus the two phases which we expect it to segregate in. In case we assume the final phases to be a Li,Mn-rich and Li,Sn-rich phase, the reaction that we want to investigate is the following:\n",
    "\n",
    "$$\n",
    "Li_{1.2}Mn_{0.8-x}Sn_{x}O_{2} \\rightarrow (1-\\frac{x}{0.8}) \\cdot Li_{1.2}Mn_{0.8}O_{2} + \\frac{x}{0.8} \\cdot Li_{1.2}Sn_{0.8}O_{2}\n",
    "$$\n",
    "\n",
    "The formation energy of the Sn-doped structure versus these reaction products is:\n",
    "\n",
    "$$\n",
    "E_f(x) = E(Li_{1.2}Mn_{0.8-x}Sn_{x}O_{2}) - (1-\\frac{x}{0.8}) \\cdot E(Li_{1.2}Mn_{0.8}O_{2}) - \\frac{x}{0.8} \\cdot E(Li_{1.2}Sn_{0.8}O_{2})\n",
    "$$"
   ]
  },
  {
   "cell_type": "code",
   "execution_count": 14,
   "metadata": {},
   "outputs": [],
   "source": [
    "# Notebook header <---- Always run this cell first!\n",
    "import os, json\n",
    "import numpy as np\n",
    "\n",
    "import matplotlib.pyplot as plt\n",
    "import matplotlib as mpl\n",
    "\n",
    "from monty.json import MontyDecoder\n",
    "from pymatgen import Element, Composition\n",
    "from icet.tools.convex_hull import ConvexHull\n",
    "\n",
    "from support_functions import get_energy, get_structure, set_up_convexhull_data\n",
    "\n",
    "figures_dir = \"../../../figures/batteries\""
   ]
  },
  {
   "cell_type": "code",
   "execution_count": 3,
   "metadata": {},
   "outputs": [],
   "source": [
    "with open(\"data/honey_data.json\", \"r\") as file:\n",
    "    composition_dict = json.loads(file.read(), cls=MontyDecoder)"
   ]
  },
  {
   "cell_type": "code",
   "execution_count": 4,
   "metadata": {},
   "outputs": [],
   "source": [
    "# Set up the convex hull data\n",
    "\n",
    "Li29Mn19O48_energy = min(\n",
    "    [data[\"energy\"] / 24 for data in composition_dict[\"Li29Mn19O48\"]]\n",
    ")\n",
    "Li29Sn19O48_energy = min(\n",
    "    [data[\"energy\"] / 24 for data in composition_dict[\"Li29Sn19O48\"]]\n",
    ")\n",
    "\n",
    "endpoint_energies = [Li29Mn19O48_energy, Li29Sn19O48_energy]\n",
    "\n",
    "concentrations = []\n",
    "mixing_energies = []\n",
    "\n",
    "for data_list in composition_dict.values():\n",
    "    \n",
    "    set_up_convexhull_data(\n",
    "        data_list=data_list, element=Element(\"Sn\"),\n",
    "        ref_composition=Composition(\"Li29Sn19O48\")/24,\n",
    "        endpoint_energies=endpoint_energies, \n",
    "    )\n",
    "    concentrations.extend(\n",
    "        [data[\"concentration\"] for data in data_list]\n",
    "    )\n",
    "    mixing_energies.extend(\n",
    "        [data[\"mixing_energy\"] for data in data_list]\n",
    "    )"
   ]
  },
  {
   "cell_type": "code",
   "execution_count": 7,
   "metadata": {},
   "outputs": [
    {
     "data": {
      "image/png": "[encoded data removed]",
      "text/plain": [
       "<Figure size 432x288 with 1 Axes>"
      ]
     },
     "metadata": {
      "needs_background": "light"
     },
     "output_type": "display_data"
    }
   ],
   "source": [
    "# Plot the formation energies\n",
    "mpl.rcParams['figure.dpi']= 200\n",
    "%matplotlib inline\n",
    "\n",
    "fig, ax = mpl.pyplot.subplots(figsize=(6, 4))\n",
    "ax.set_xlabel(r'x in Li$_{1.2}$Mn$_{0.8 - x}$Sn$_x$O$_2$', fontsize=18)\n",
    "ax.set_ylabel(r'$E_f$ (meV/atom)', fontsize=16)\n",
    "ax.set_xlim([-0.02, 0.25])\n",
    "ax.set_ylim([-10, 40])\n",
    "ax.scatter(concentrations, 1e3 * np.array(mixing_energies) / 4,\n",
    "           marker='x');"
   ]
  },
  {
   "cell_type": "markdown",
   "metadata": {},
   "source": [
    "## Changing the end product\n",
    "\n",
    "Currently, the Sn-rich end product considered in the reaction above is $Li_{1.2}Sn_{0.8}O_{2}$. However, one of the phases believed to be present in the substituted particles is $Li_2SnO_3$. Hence, it might be important to consider further decomposition of the Sn-rich end product:\n",
    "\n",
    "$$\n",
    "Li_{1.2}Sn_{0.8}O_{2} \\rightarrow 0.6 \\cdot Li_2SnO_3 + 0.2 \\cdot SnO\n",
    "$$\n",
    "\n",
    "Which results in the following total reaction:\n",
    "\n",
    "$$\n",
    "Li_{1.2}Mn_{0.8-x}Sn_{x}O_{2} \\rightarrow (1-\\frac{x}{0.8}) \\cdot Li_{1.2}Mn_{0.8}O_{2} + \\frac{x}{0.8} \\left[  0.6 \\cdot Li_2SnO_3 + 0.2 \\cdot SnO \\right]\n",
    "$$\n",
    "\n",
    "For which the formation energy is:\n",
    "\n",
    "$$\n",
    "E_f(x) = E(Li_{1.2}Mn_{0.8-x}Sn_{x}O_{2}) - (1-\\frac{x}{0.8}) \\cdot E(Li_{1.2}Mn_{0.8}O_{2}) - \\frac{x}{0.8} \\left[ 0.6 E(Li_2SnO_3) + 0.2 E(SnO)\\right]\n",
    "$$\n"
   ]
  },
  {
   "cell_type": "code",
   "execution_count": 8,
   "metadata": {},
   "outputs": [],
   "source": [
    "with open(\"data/SnO_data.json\", \"r\") as file:\n",
    "    SnO_dict = json.loads(file.read(), cls=MontyDecoder)"
   ]
  },
  {
   "cell_type": "code",
   "execution_count": 9,
   "metadata": {},
   "outputs": [],
   "source": [
    "Li2SnO3_energy = SnO_dict[\"Li2SnO3\"][\"energy_per_fu\"]\n",
    "SnO_energy = SnO_dict[\"SnO\"][\"energy_per_fu\"]"
   ]
  },
  {
   "cell_type": "markdown",
   "metadata": {},
   "source": [
    "However, we need to tune the coefficients in the equation a bit to make sure that we accurately reproduce the composition of the Li-rich Sn-rich structure we used before:"
   ]
  },
  {
   "cell_type": "code",
   "execution_count": 10,
   "metadata": {},
   "outputs": [
    {
     "name": "stdout",
     "output_type": "stream",
     "text": [
      "Li1.20833333 Sn0.79166667 O2\n",
      "Li1.20833333 Sn0.79166667 O2.0\n"
     ]
    }
   ],
   "source": [
    "coeff_a = 1.208333333 / 2\n",
    "coeff_b = 0.1875 \n",
    "\n",
    "print(Composition(\"Li29Sn19O48\")/24)\n",
    "print(coeff_a * Composition(\"Li2SnO3\") + coeff_b * Composition(\"SnO\"))"
   ]
  },
  {
   "cell_type": "code",
   "execution_count": 11,
   "metadata": {},
   "outputs": [
    {
     "name": "stdout",
     "output_type": "stream",
     "text": [
      "0.4588672562755729\n"
     ]
    }
   ],
   "source": [
    "# The formation energy of Li1.2Sn0.8O2 versus Li2SnO3 and SnO is:\n",
    "print(Li29Sn19O48_energy - coeff_a * Li2SnO3_energy - coeff_b * SnO_energy)"
   ]
  },
  {
   "cell_type": "markdown",
   "metadata": {},
   "source": [
    "This indicates that $Li_{1.2}Sn_{0.8}O_{2}$ is clearly unstable versus decay in $Li_2SnO_3$ and $SnO$. Let's now calculate the formation energy versus these end products, as in the equation above."
   ]
  },
  {
   "cell_type": "code",
   "execution_count": 12,
   "metadata": {},
   "outputs": [],
   "source": [
    "# Set up the convex hull data\n",
    "endpoint_energies = [Li29Mn19O48_energy, \n",
    "                     coeff_a * Li2SnO3_energy + coeff_b * SnO_energy]\n",
    "\n",
    "concentrations = []\n",
    "mixing_energies = []\n",
    "\n",
    "for data_list in composition_dict.values():\n",
    "    set_up_convexhull_data(\n",
    "        data_list=data_list, element=Element(\"Sn\"),\n",
    "        ref_composition=Composition(\"Li29Sn19O48\")/24,\n",
    "        endpoint_energies=endpoint_energies, \n",
    "    )\n",
    "    concentrations.extend(\n",
    "        [data[\"concentration\"] for data in data_list]\n",
    "    )\n",
    "    mixing_energies.extend(\n",
    "        [data[\"mixing_energy\"] for data in data_list]\n",
    "    )"
   ]
  },
  {
   "cell_type": "code",
   "execution_count": 15,
   "metadata": {},
   "outputs": [
    {
     "data": {
      "image/png": "[encoded data removed]",
      "text/plain": [
       "<Figure size 432x288 with 1 Axes>"
      ]
     },
     "metadata": {
      "needs_background": "light"
     },
     "output_type": "display_data"
    }
   ],
   "source": [
    "# Plot the formation energies\n",
    "rc_font_dict = {\"size\": 16, \"family\": \"sans-serif\",\n",
    "                \"sans-serif\": ['Helvetica', 'Verdana', 'Tahoma', 'Lucida Grande']}\n",
    "plt.rc(\"font\", **rc_font_dict)\n",
    "\n",
    "fig, ax = plt.subplots()\n",
    "ax.set_xlabel(r'x in Li$_{1.2}$Mn$_{0.8 - x}$Sn$_x$O$_2$')\n",
    "ax.set_ylabel(r'$E_f$ (meV/atom)')\n",
    "ax.set_xlim([-0.02, 0.25])\n",
    "ax.set_ylim([0, 40])\n",
    "ax.scatter(concentrations, 1e3 * np.array(mixing_energies) / 4, # This plots the E_f in meV/atom.\n",
    "           marker='x')\n",
    "#ax.plot(av_energy_dict.keys(), 1e3 * np.array(list(av_energy_dict.values())) / 4, '-*', color=\"red\")\n",
    "plt.savefig(os.path.join(figures_dir, \"Sn_mixing_energy.png\"), bbox_inches='tight', dpi=300)"
   ]
  },
  {
   "cell_type": "code",
   "execution_count": 16,
   "metadata": {},
   "outputs": [
    {
     "name": "stdout",
     "output_type": "stream",
     "text": [
      "Li1.20833333 Mn0.79166667 O2\n",
      "Li1.20833333 Mn0.75 Sn0.04166667 O2\n",
      "Li1.20833333 Mn0.70833333 Sn0.08333333 O2\n",
      "Li1.20833333 Mn0.66666667 Sn0.125 O2\n",
      "Li1.20833333 Mn0.625 Sn0.16666667 O2\n",
      "Li1.20833333 Mn0.58333333 Sn0.20833333 O2\n",
      "Li1.20833333 Sn0.79166667 O2\n"
     ]
    }
   ],
   "source": [
    "for k in composition_dict.keys():\n",
    "    print(Composition(k) / 24)"
   ]
  },
  {
   "cell_type": "code",
   "execution_count": null,
   "metadata": {},
   "outputs": [],
   "source": []
  }
 ],
 "metadata": {
  "kernelspec": {
   "display_name": "Python 3",
   "language": "python",
   "name": "python3"
  },
  "language_info": {
   "codemirror_mode": {
    "name": "ipython",
    "version": 3
   },
   "file_extension": ".py",
   "mimetype": "text/x-python",
   "name": "python",
   "nbconvert_exporter": "python",
   "pygments_lexer": "ipython3",
   "version": "3.8.1"
  }
 },
 "nbformat": 4,
 "nbformat_minor": 4
}
