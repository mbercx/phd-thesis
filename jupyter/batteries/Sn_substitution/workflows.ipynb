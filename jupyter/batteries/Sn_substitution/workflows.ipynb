{
 "cells": [
  {
   "cell_type": "markdown",
   "metadata": {},
   "source": [
    "# Workflow submission notebook - Honeycomb structures\n",
    "\n",
    "From this notebook we'll submit the configuration workflows for the honeycomb-restricted configurations of the Sn-doped structures of Li$_{1.2}$Mn$_{0.8}$O$_2$."
   ]
  },
  {
   "cell_type": "code",
   "execution_count": 1,
   "metadata": {},
   "outputs": [],
   "source": [
    "# Notebook header\n",
    "\n",
    "import os\n",
    "import numpy as np\n",
    "from pybat.core import Cathode\n",
    "from pymatgen import Composition, Element, Specie"
   ]
  },
  {
   "cell_type": "code",
   "execution_count": 2,
   "metadata": {},
   "outputs": [],
   "source": [
    "# Set up the base cathode from with to generate the random honeycomb structures, based on the primitive Li2MnO3 cell.\n",
    "\n",
    "honey_cat = Cathode.from_file(\"o3-abc-afm_Li2MnO3_prim.json\")\n",
    "honey_cat.remove_site_property(\"velocities\")\n",
    "honey_cat.replace(0, \"Lr\", properties={\"magmom\": 3.014}) # Placeholder element\n",
    "honey_cat.replace(5, \"Mn\", properties={\"magmom\": 3.014}) # Stick to ferromagnetic ordering\n",
    "honey_cat.sort()\n",
    "honey_cat.make_supercell([2, 2, 2])"
   ]
  },
  {
   "cell_type": "code",
   "execution_count": 3,
   "metadata": {},
   "outputs": [],
   "source": [
    "# Generate all configurations possible by substituting the placeholder element (Lr) by Li and Mn\n",
    "\n",
    "Li_configurations = honey_cat.get_cation_configurations(\n",
    "    substitution_sites=[i for i, s in enumerate(honey_cat) if s.specie == Element(\"Lr\")],\n",
    "    cation_list=[\"Li\", \"Mn\"],\n",
    "    sizes=[1,],\n",
    "    concentration_restrictions={\"Li\": (0.30, 0.305)}, # This corresponds to about Li1.2Mn0.8O2 stoichiometry\n",
    "    max_configurations=1e2\n",
    ")"
   ]
  },
  {
   "cell_type": "code",
   "execution_count": 4,
   "metadata": {},
   "outputs": [],
   "source": [
    "# Generate all possible Sn-doped structures for a specific choice of Sn-concentration\n",
    "\n",
    "total_conf_list = []\n",
    "\n",
    "# For each Li-Mn configuration, generate all Sn-Mn configurations\n",
    "for conf in Li_configurations:\n",
    "    total_conf_list.extend(conf.get_cation_configurations(\n",
    "    substitution_sites=[i for i, s in enumerate(conf) if s.specie == Element(\"Mn\")],\n",
    "    cation_list=[\"Mn\", \"Sn\"],\n",
    "    sizes=[1,],\n",
    "    concentration_restrictions={\"Sn\": (0.010, 0.012)}, # Sn-concentration is determined here\n",
    "    max_configurations=None\n",
    "))"
   ]
  },
  {
   "cell_type": "code",
   "execution_count": 5,
   "metadata": {},
   "outputs": [
    {
     "data": {
      "text/plain": [
       "47"
      ]
     },
     "execution_count": 5,
     "metadata": {},
     "output_type": "execute_result"
    }
   ],
   "source": [
    "len(total_conf_list)"
   ]
  },
  {
   "cell_type": "markdown",
   "metadata": {},
   "source": [
    "---"
   ]
  },
  {
   "cell_type": "code",
   "execution_count": 6,
   "metadata": {},
   "outputs": [],
   "source": [
    "from pybat.workflow.workflows import get_wf_configurations\n",
    "from pybat.config import load_config\n",
    "\n",
    "lpad = load_config(\"launchpad\", \"leibniz\")\n",
    "base_dir = \"/scratch/antwerpen/202/vsc20248/batteries\""
   ]
  },
  {
   "cell_type": "code",
   "execution_count": 7,
   "metadata": {},
   "outputs": [],
   "source": [
    "wf = get_wf_configurations(\n",
    "    structure=honey_cat,\n",
    "    directory=os.path.join(base_dir, str(total_conf_list[0].composition).replace(\" \", \"\")),\n",
    "    substitution_sites=[],\n",
    "    sizes=[],\n",
    "    configuration_list=total_conf_list,\n",
    "    functional=(\"scanVdW\", {}),\n",
    "    in_custodian=True,\n",
    "    number_nodes=4\n",
    ")"
   ]
  },
  {
   "cell_type": "code",
   "execution_count": 8,
   "metadata": {},
   "outputs": [
    {
     "name": "stdout",
     "output_type": "stream",
     "text": [
      "2020-01-22 10:22:52,477 INFO Added a workflow. id_map: {-1: 2}\n"
     ]
    },
    {
     "data": {
      "text/plain": [
       "{-1: 2}"
      ]
     },
     "execution_count": 8,
     "metadata": {},
     "output_type": "execute_result"
    }
   ],
   "source": [
    "lpad.add_wf(wf)"
   ]
  },
  {
   "cell_type": "code",
   "execution_count": null,
   "metadata": {},
   "outputs": [],
   "source": []
  }
 ],
 "metadata": {
  "kernelspec": {
   "display_name": "Python 3",
   "language": "python",
   "name": "python3"
  },
  "language_info": {
   "codemirror_mode": {
    "name": "ipython",
    "version": 3
   },
   "file_extension": ".py",
   "mimetype": "text/x-python",
   "name": "python",
   "nbconvert_exporter": "python",
   "pygments_lexer": "ipython3",
   "version": "3.8.1"
  }
 },
 "nbformat": 4,
 "nbformat_minor": 4
}
