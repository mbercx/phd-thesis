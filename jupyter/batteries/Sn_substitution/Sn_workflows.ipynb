{
 "cells": [
  {
   "cell_type": "code",
   "execution_count": 1,
   "metadata": {},
   "outputs": [],
   "source": [
    "# Notebook header\n",
    "import os, imolecule\n",
    "import numpy as np\n",
    "from pybat.core import Cathode\n",
    "from pymatgen import Composition, Element, Specie\n",
    "from pymatgen.symmetry.analyzer import SpacegroupAnalyzer"
   ]
  },
  {
   "cell_type": "markdown",
   "metadata": {},
   "source": [
    "# Honeycomb structures - Sn-rich phase\n",
    "\n",
    "In this notebook we will set up a set of configurations for the Li1.2Sn0.8O2 phase, derived from the Li2SnO3 structure.\n",
    "\n",
    "\n",
    "> **Note**: As the code below relies on my own pre-alpha code ([pybat](https://github.com/mbercx/pybat)), it is possible that the code has changed since this jupyter notebook was set up. Please contact me via [researchgate](https://www.researchgate.net/profile/Marnik_Bercx) if you run into any issues, or have questions."
   ]
  },
  {
   "cell_type": "markdown",
   "metadata": {},
   "source": [
    "---\n",
    "\n",
    "We'll start from a primitive unit cell of Li$_2$SnO$_3$:"
   ]
  },
  {
   "cell_type": "code",
   "execution_count": 2,
   "metadata": {},
   "outputs": [
    {
     "name": "stdout",
     "output_type": "stream",
     "text": [
      "Full Formula (Li8 Sn4 O12)\n",
      "Reduced Formula: Li2SnO3\n",
      "abc   :   5.300540   5.300540  10.032000\n",
      "angles:  84.960116  95.039884  59.930868\n",
      "Sites (24)\n",
      "  #    #VESTA  SP         a       b       c    magmom\n",
      "---  --------  ----  ------  ------  ------  --------\n",
      "  0         1  Li    0.683   0.161   0.001          0\n",
      "  1         2  Li    0.317   0.839   0.999          0\n",
      "  2         3  Li    0.161   0.683   0.499          0\n",
      "  3         4  Li    0.839   0.317   0.501          0\n",
      "  4         5  Li    0.5     0       0.5            0\n",
      "  5         6  Li    0       0.5     0              0\n",
      "  6         7  Li    0.917   0.917   0.75           0\n",
      "  7         8  Li    0.083   0.083   0.25           0\n",
      "  8         9  Sn    0.5835  0.5835  0.75           0\n",
      "  9        10  Sn    0.4165  0.4165  0.25           0\n",
      " 10        11  Sn    0.2492  0.2492  0.75           0\n",
      " 11        12  Sn    0.7508  0.7508  0.25           0\n",
      " 12        13  O     0.6066  0.874   0.8667         0\n",
      " 13        14  O     0.3934  0.126   0.1333         0\n",
      " 14        15  O     0.874   0.6066  0.6333         0\n",
      " 15        16  O     0.126   0.3934  0.3667         0\n",
      " 16        17  O     0.3054  0.5258  0.8658         0\n",
      " 17        18  O     0.6946  0.4742  0.1342         0\n",
      " 18        19  O     0.5258  0.3054  0.6342         0\n",
      " 19        20  O     0.4742  0.6946  0.3658         0\n",
      " 20        21  O     0.9564  0.2256  0.8671         0\n",
      " 21        22  O     0.0436  0.7744  0.1329         0\n",
      " 22        23  O     0.2256  0.9564  0.6329         0\n",
      " 23        24  O     0.7744  0.0436  0.3671         0\n"
     ]
    }
   ],
   "source": [
    "cat = Cathode.from_file(\"Li2SnO3_icsd_prim.cif\")\n",
    "cat.add_site_property(\"magmom\", [0]*24)\n",
    "print(cat)"
   ]
  },
  {
   "cell_type": "markdown",
   "metadata": {},
   "source": [
    "Let's check if this structure has the required space group:"
   ]
  },
  {
   "cell_type": "code",
   "execution_count": 3,
   "metadata": {},
   "outputs": [
    {
     "data": {
      "text/plain": [
       "'C2/c'"
      ]
     },
     "execution_count": 3,
     "metadata": {},
     "output_type": "execute_result"
    }
   ],
   "source": [
    "from pymatgen.symmetry.analyzer import SpacegroupAnalyzer\n",
    "\n",
    "SpacegroupAnalyzer(cat).get_space_group_symbol()"
   ]
  },
  {
   "cell_type": "markdown",
   "metadata": {},
   "source": [
    "Perfect, this corresponds to the space group described in [Sathiya et al.](https://www.nature.com/articles/nmat3699). Next we need to set up a suitable supercell that has 24 unit cells of the base structure and allows for honeycomb ordering. For this unit cell, a 2x2x1 supercell should do the trick. However, we need to distinguish the Li sites in the Sn-layer from the ones in the Li-layer, because the former can also contain Sn instead of Li. We'll keep track of these by substituting them with a placeholder element (Lr), which will be replaced later by either Li or Sn."
   ]
  },
  {
   "cell_type": "code",
   "execution_count": 4,
   "metadata": {
    "scrolled": true
   },
   "outputs": [
    {
     "name": "stdout",
     "output_type": "stream",
     "text": [
      "Full Formula (Li24 Lr8 Sn16 O48)\n",
      "Reduced Formula: Li3Lr(SnO3)2\n",
      "abc   :  10.601079  10.601079  10.032000\n",
      "angles:  84.960116  95.039884  59.930868\n",
      "Sites (96)\n",
      "  #    #VESTA  SP          a        b       c    magmom\n",
      "---  --------  ----  -------  -------  ------  --------\n",
      "  0         1  Li    0.3415   0.0805   0.001          0\n",
      "  1         2  Li    0.3415   0.5805   0.001          0\n",
      "  2         3  Li    0.8415   0.0805   0.001          0\n",
      "  3         4  Li    0.8415   0.5805   0.001          0\n",
      "  4         5  Li    0.1585   0.4195   0.999          0\n",
      "  5         6  Li    0.1585   0.9195   0.999          0\n",
      "  6         7  Li    0.6585   0.4195   0.999          0\n",
      "  7         8  Li    0.6585   0.9195   0.999          0\n",
      "  8         9  Li    0.0805   0.3415   0.499          0\n",
      "  9        10  Li    0.0805   0.8415   0.499          0\n",
      " 10        11  Li    0.5805   0.3415   0.499          0\n",
      " 11        12  Li    0.5805   0.8415   0.499          0\n",
      " 12        13  Li    0.4195   0.1585   0.501          0\n",
      " 13        14  Li    0.4195   0.6585   0.501          0\n",
      " 14        15  Li    0.9195   0.1585   0.501          0\n",
      " 15        16  Li    0.9195   0.6585   0.501          0\n",
      " 16        17  Li    0.25     0        0.5            0\n",
      " 17        18  Li    0.25     0.5      0.5            0\n",
      " 18        19  Li    0.75     0        0.5            0\n",
      " 19        20  Li    0.75     0.5      0.5            0\n",
      " 20        21  Li    0        0.25     0              0\n",
      " 21        22  Li    1        0.75     1              0\n",
      " 22        23  Li    0.5      0.25     0              0\n",
      " 23        24  Li    0.5      0.75     1              0\n",
      " 24        25  Lr    0.4585   0.4585   0.75           0\n",
      " 25        26  Lr    0.4585   0.9585   0.75           0\n",
      " 26        27  Lr    0.9585   0.4585   0.75           0\n",
      " 27        28  Lr    0.9585   0.9585   0.75           0\n",
      " 28        29  Lr    0.0415   0.0415   0.25           0\n",
      " 29        30  Lr    0.0415   0.5415   0.25           0\n",
      " 30        31  Lr    0.5415   0.0415   0.25           0\n",
      " 31        32  Lr    0.5415   0.5415   0.25           0\n",
      " 32        33  Sn    0.29175  0.29175  0.75           0\n",
      " 33        34  Sn    0.29175  0.79175  0.75           0\n",
      " 34        35  Sn    0.79175  0.29175  0.75           0\n",
      " 35        36  Sn    0.79175  0.79175  0.75           0\n",
      " 36        37  Sn    0.20825  0.20825  0.25           0\n",
      " 37        38  Sn    0.20825  0.70825  0.25           0\n",
      " 38        39  Sn    0.70825  0.20825  0.25           0\n",
      " 39        40  Sn    0.70825  0.70825  0.25           0\n",
      " 40        41  Sn    0.1246   0.1246   0.75           0\n",
      " 41        42  Sn    0.1246   0.6246   0.75           0\n",
      " 42        43  Sn    0.6246   0.1246   0.75           0\n",
      " 43        44  Sn    0.6246   0.6246   0.75           0\n",
      " 44        45  Sn    0.3754   0.3754   0.25           0\n",
      " 45        46  Sn    0.3754   0.8754   0.25           0\n",
      " 46        47  Sn    0.8754   0.3754   0.25           0\n",
      " 47        48  Sn    0.8754   0.8754   0.25           0\n",
      " 48        49  O     0.3033   0.437    0.8667         0\n",
      " 49        50  O     0.3033   0.937    0.8667         0\n",
      " 50        51  O     0.8033   0.437    0.8667         0\n",
      " 51        52  O     0.8033   0.937    0.8667         0\n",
      " 52        53  O     0.1967   0.063    0.1333         0\n",
      " 53        54  O     0.1967   0.563    0.1333         0\n",
      " 54        55  O     0.6967   0.063    0.1333         0\n",
      " 55        56  O     0.6967   0.563    0.1333         0\n",
      " 56        57  O     0.437    0.3033   0.6333         0\n",
      " 57        58  O     0.437    0.8033   0.6333         0\n",
      " 58        59  O     0.937    0.3033   0.6333         0\n",
      " 59        60  O     0.937    0.8033   0.6333         0\n",
      " 60        61  O     0.063    0.1967   0.3667         0\n",
      " 61        62  O     0.063    0.6967   0.3667         0\n",
      " 62        63  O     0.563    0.1967   0.3667         0\n",
      " 63        64  O     0.563    0.6967   0.3667         0\n",
      " 64        65  O     0.1527   0.2629   0.8658         0\n",
      " 65        66  O     0.1527   0.7629   0.8658         0\n",
      " 66        67  O     0.6527   0.2629   0.8658         0\n",
      " 67        68  O     0.6527   0.7629   0.8658         0\n",
      " 68        69  O     0.3473   0.2371   0.1342         0\n",
      " 69        70  O     0.3473   0.7371   0.1342         0\n",
      " 70        71  O     0.8473   0.2371   0.1342         0\n",
      " 71        72  O     0.8473   0.7371   0.1342         0\n",
      " 72        73  O     0.2629   0.1527   0.6342         0\n",
      " 73        74  O     0.2629   0.6527   0.6342         0\n",
      " 74        75  O     0.7629   0.1527   0.6342         0\n",
      " 75        76  O     0.7629   0.6527   0.6342         0\n",
      " 76        77  O     0.2371   0.3473   0.3658         0\n",
      " 77        78  O     0.2371   0.8473   0.3658         0\n",
      " 78        79  O     0.7371   0.3473   0.3658         0\n",
      " 79        80  O     0.7371   0.8473   0.3658         0\n",
      " 80        81  O     0.4782   0.1128   0.8671         0\n",
      " 81        82  O     0.4782   0.6128   0.8671         0\n",
      " 82        83  O     0.9782   0.1128   0.8671         0\n",
      " 83        84  O     0.9782   0.6128   0.8671         0\n",
      " 84        85  O     0.0218   0.3872   0.1329         0\n",
      " 85        86  O     0.0218   0.8872   0.1329         0\n",
      " 86        87  O     0.5218   0.3872   0.1329         0\n",
      " 87        88  O     0.5218   0.8872   0.1329         0\n",
      " 88        89  O     0.1128   0.4782   0.6329         0\n",
      " 89        90  O     0.1128   0.9782   0.6329         0\n",
      " 90        91  O     0.6128   0.4782   0.6329         0\n",
      " 91        92  O     0.6128   0.9782   0.6329         0\n",
      " 92        93  O     0.3872   0.0218   0.3671         0\n",
      " 93        94  O     0.3872   0.5218   0.3671         0\n",
      " 94        95  O     0.8872   0.0218   0.3671         0\n",
      " 95        96  O     0.8872   0.5218   0.3671         0\n"
     ]
    }
   ],
   "source": [
    "super_cat = cat.copy()\n",
    "\n",
    "super_cat.replace(6, \"Lr\", properties={\"magmom\": 0})\n",
    "super_cat.replace(7, \"Lr\", properties={\"magmom\": 0})\n",
    "\n",
    "super_cat.make_supercell([2,2,1])\n",
    "print(super_cat)"
   ]
  },
  {
   "cell_type": "code",
   "execution_count": 5,
   "metadata": {},
   "outputs": [],
   "source": [
    "super_cat.to(\"cif\", \"temp.cif\")"
   ]
  },
  {
   "cell_type": "markdown",
   "metadata": {},
   "source": [
    "That supercel looks fine! The unit cell can reproduce the desired stoichiometry, as well as the honeycomb pattern. Now, we need to generate the Li-Sn configurations.\n",
    "\n",
    "---"
   ]
  },
  {
   "cell_type": "code",
   "execution_count": 6,
   "metadata": {},
   "outputs": [],
   "source": [
    "conf_list = super_cat.get_cation_configurations(\n",
    "    substitution_sites=[i for i, s in enumerate(super_cat) if s.specie == Element(\"Lr\")],\n",
    "    cation_list=[\"Li\", \"Sn\"],\n",
    "    sizes=[1,],\n",
    "    concentration_restrictions={\"Li\": (0.30, 0.305)}, #\n",
    "    max_configurations=1e2\n",
    ")"
   ]
  },
  {
   "cell_type": "markdown",
   "metadata": {},
   "source": [
    "Let's see how many structures this produces:"
   ]
  },
  {
   "cell_type": "code",
   "execution_count": 7,
   "metadata": {},
   "outputs": [
    {
     "data": {
      "text/plain": [
       "5"
      ]
     },
     "execution_count": 7,
     "metadata": {},
     "output_type": "execute_result"
    }
   ],
   "source": [
    "len(conf_list)"
   ]
  },
  {
   "cell_type": "markdown",
   "metadata": {},
   "source": [
    "Only 5 possible configurations! That makes life somewhat easier, as we now only have to calculate these 5 possible configurations for the Li1.2Sn0.8O2 stoichiometry. Let's check the space groups of these various structures:"
   ]
  },
  {
   "cell_type": "code",
   "execution_count": 8,
   "metadata": {},
   "outputs": [
    {
     "name": "stdout",
     "output_type": "stream",
     "text": [
      "C2\n",
      "P1\n",
      "C2\n",
      "C2\n",
      "P1\n"
     ]
    }
   ],
   "source": [
    "for s in conf_list:\n",
    "    print(SpacegroupAnalyzer(s).get_space_group_symbol())"
   ]
  },
  {
   "cell_type": "markdown",
   "metadata": {},
   "source": [
    "---\n",
    "\n",
    "Let's set up the workflow and submit it to the mongoDB server:"
   ]
  },
  {
   "cell_type": "code",
   "execution_count": 9,
   "metadata": {},
   "outputs": [],
   "source": [
    "from pybat.workflow.workflows import get_wf_configurations\n",
    "from pybat.config import load_config\n",
    "\n",
    "lpad = load_config(\"launchpad\", \"leibniz\")\n",
    "base_dir = \"/scratch/antwerpen/202/vsc20248/batteries\""
   ]
  },
  {
   "cell_type": "code",
   "execution_count": 10,
   "metadata": {},
   "outputs": [],
   "source": [
    "wf = get_wf_configurations(\n",
    "    structure=super_cat,\n",
    "    directory=os.path.join(base_dir, str(conf_list[0].composition).replace(\" \", \"\")),\n",
    "    substitution_sites=[],\n",
    "    sizes=[],\n",
    "    configuration_list=conf_list,\n",
    "    functional=(\"scanVdW\", {}),\n",
    "    in_custodian=True,\n",
    "    number_nodes=4\n",
    ")"
   ]
  },
  {
   "cell_type": "code",
   "execution_count": 11,
   "metadata": {},
   "outputs": [
    {
     "name": "stdout",
     "output_type": "stream",
     "text": [
      "2020-03-03 18:52:28,685 INFO Added a workflow. id_map: {-1: 12}\n"
     ]
    },
    {
     "data": {
      "text/plain": [
       "{-1: 12}"
      ]
     },
     "execution_count": 11,
     "metadata": {},
     "output_type": "execute_result"
    }
   ],
   "source": [
    "lpad.add_wf(wf)"
   ]
  },
  {
   "cell_type": "code",
   "execution_count": null,
   "metadata": {},
   "outputs": [],
   "source": []
  }
 ],
 "metadata": {
  "kernelspec": {
   "display_name": "Python 3",
   "language": "python",
   "name": "python3"
  },
  "language_info": {
   "codemirror_mode": {
    "name": "ipython",
    "version": 3
   },
   "file_extension": ".py",
   "mimetype": "text/x-python",
   "name": "python",
   "nbconvert_exporter": "python",
   "pygments_lexer": "ipython3",
   "version": "3.8.1"
  },
  "latex_envs": {
   "LaTeX_envs_menu_present": true,
   "autoclose": false,
   "autocomplete": true,
   "bibliofile": "biblio.bib",
   "cite_by": "apalike",
   "current_citInitial": 1,
   "eqLabelWithNumbers": true,
   "eqNumInitial": 1,
   "hotkeys": {
    "equation": "Ctrl-E",
    "itemize": "Ctrl-I"
   },
   "labels_anchors": false,
   "latex_user_defs": false,
   "report_style_numbering": false,
   "user_envs_cfg": false
  }
 },
 "nbformat": 4,
 "nbformat_minor": 4
}
