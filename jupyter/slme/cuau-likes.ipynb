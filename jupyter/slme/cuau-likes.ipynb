{
 "cells": [
  {
   "cell_type": "code",
   "execution_count": 1,
   "metadata": {},
   "outputs": [],
   "source": [
    "import os, json\n",
    "import numpy as np\n",
    "\n",
    "import matplotlib.pyplot as plt\n",
    "from matplotlib import rc\n",
    "rc('text', usetex=True)\n",
    "import tikzplotlib\n",
    "\n",
    "color0 = \"#163D5C\"\n",
    "color1 = \"#B1CCE3\"\n",
    "color2 = \"#3AA99F\"\n",
    "color3 = \"#EECF5A\"\n",
    "color4 = \"#E65239\"\n",
    "\n",
    "figures_dir = \"../../figures/slme\"\n",
    "\n",
    "from monty.json import MontyEncoder, MontyDecoder\n",
    "from vscworkflows.tools.optics import DielTensor, SolarCell"
   ]
  },
  {
   "cell_type": "code",
   "execution_count": 2,
   "metadata": {},
   "outputs": [],
   "source": [
    "data_dict = {\n",
    "    \"AgGaSe2\": {\"bandgaps\": [0.84, 1.41]},\n",
    "    \"AgGaTe2\": {\"bandgaps\": [0.46, 0.95]},\n",
    "    \"AgInS2\": {\"bandgaps\": [1.20, 1.69]},\n",
    "    \"AgInTe2\": {\"bandgaps\": [0.53, 0.92]},\n",
    "    \"CuGaS2\": {\"bandgaps\": [1.77, 1.94]},\n",
    "    \"CuGaSe2\": {\"bandgaps\": [0.96, 1.19]},\n",
    "    \"CuGaTe2\": {\"bandgaps\": [0.77, 1.06]},\n",
    "    \"CuInS2\": {\"bandgaps\": [1.14, 1.13]},\n",
    "    \"CuInSe2\": {\"bandgaps\": [0.59, 0.58]},\n",
    "    \"CuInTe2\": {\"bandgaps\": [0.76, 0.94]},\n",
    "}"
   ]
  },
  {
   "cell_type": "code",
   "execution_count": 4,
   "metadata": {},
   "outputs": [
    {
     "name": "stdout",
     "output_type": "stream",
     "text": [
      "AgGaSe2\n"
     ]
    },
    {
     "name": "stderr",
     "output_type": "stream",
     "text": [
      "/Users/mbercx/Dropbox/python/develop/vsc-workflows/vscworkflows/tools/optics.py:378: DeprecationWarning: frequencies is deprecated\n",
      "frequencies has been renamed to dielectric_energies.\n",
      "  return cls(outcar.frequencies, outcar.dielectric_tensor_function)\n"
     ]
    },
    {
     "name": "stdout",
     "output_type": "stream",
     "text": [
      "AgGaTe2\n"
     ]
    },
    {
     "name": "stderr",
     "output_type": "stream",
     "text": [
      "/Users/mbercx/Dropbox/python/develop/vsc-workflows/vscworkflows/tools/optics.py:378: DeprecationWarning: frequencies is deprecated\n",
      "frequencies has been renamed to dielectric_energies.\n",
      "  return cls(outcar.frequencies, outcar.dielectric_tensor_function)\n"
     ]
    },
    {
     "name": "stdout",
     "output_type": "stream",
     "text": [
      "AgInS2\n"
     ]
    },
    {
     "name": "stderr",
     "output_type": "stream",
     "text": [
      "/Users/mbercx/Dropbox/python/develop/vsc-workflows/vscworkflows/tools/optics.py:378: DeprecationWarning: frequencies is deprecated\n",
      "frequencies has been renamed to dielectric_energies.\n",
      "  return cls(outcar.frequencies, outcar.dielectric_tensor_function)\n"
     ]
    },
    {
     "name": "stdout",
     "output_type": "stream",
     "text": [
      "AgInTe2\n"
     ]
    },
    {
     "name": "stderr",
     "output_type": "stream",
     "text": [
      "/Users/mbercx/Dropbox/python/develop/vsc-workflows/vscworkflows/tools/optics.py:378: DeprecationWarning: frequencies is deprecated\n",
      "frequencies has been renamed to dielectric_energies.\n",
      "  return cls(outcar.frequencies, outcar.dielectric_tensor_function)\n"
     ]
    },
    {
     "name": "stdout",
     "output_type": "stream",
     "text": [
      "CuGaS2\n"
     ]
    },
    {
     "name": "stderr",
     "output_type": "stream",
     "text": [
      "/Users/mbercx/Dropbox/python/develop/vsc-workflows/vscworkflows/tools/optics.py:378: DeprecationWarning: frequencies is deprecated\n",
      "frequencies has been renamed to dielectric_energies.\n",
      "  return cls(outcar.frequencies, outcar.dielectric_tensor_function)\n"
     ]
    },
    {
     "name": "stdout",
     "output_type": "stream",
     "text": [
      "CuGaSe2\n"
     ]
    },
    {
     "name": "stderr",
     "output_type": "stream",
     "text": [
      "/Users/mbercx/Dropbox/python/develop/vsc-workflows/vscworkflows/tools/optics.py:378: DeprecationWarning: frequencies is deprecated\n",
      "frequencies has been renamed to dielectric_energies.\n",
      "  return cls(outcar.frequencies, outcar.dielectric_tensor_function)\n"
     ]
    },
    {
     "name": "stdout",
     "output_type": "stream",
     "text": [
      "cannot reshape array of size 2001 into shape (2000,1,1)\n",
      "CuGaTe2\n"
     ]
    },
    {
     "name": "stderr",
     "output_type": "stream",
     "text": [
      "/Users/mbercx/Dropbox/python/develop/vsc-workflows/vscworkflows/tools/optics.py:378: DeprecationWarning: frequencies is deprecated\n",
      "frequencies has been renamed to dielectric_energies.\n",
      "  return cls(outcar.frequencies, outcar.dielectric_tensor_function)\n"
     ]
    },
    {
     "name": "stdout",
     "output_type": "stream",
     "text": [
      "CuInS2\n"
     ]
    },
    {
     "name": "stderr",
     "output_type": "stream",
     "text": [
      "/Users/mbercx/Dropbox/python/develop/vsc-workflows/vscworkflows/tools/optics.py:378: DeprecationWarning: frequencies is deprecated\n",
      "frequencies has been renamed to dielectric_energies.\n",
      "  return cls(outcar.frequencies, outcar.dielectric_tensor_function)\n"
     ]
    },
    {
     "name": "stdout",
     "output_type": "stream",
     "text": [
      "CuInSe2\n"
     ]
    },
    {
     "name": "stderr",
     "output_type": "stream",
     "text": [
      "/Users/mbercx/Dropbox/python/develop/vsc-workflows/vscworkflows/tools/optics.py:378: DeprecationWarning: frequencies is deprecated\n",
      "frequencies has been renamed to dielectric_energies.\n",
      "  return cls(outcar.frequencies, outcar.dielectric_tensor_function)\n"
     ]
    },
    {
     "name": "stdout",
     "output_type": "stream",
     "text": [
      "CuInTe2\n"
     ]
    },
    {
     "name": "stderr",
     "output_type": "stream",
     "text": [
      "/Users/mbercx/Dropbox/python/develop/vsc-workflows/vscworkflows/tools/optics.py:378: DeprecationWarning: frequencies is deprecated\n",
      "frequencies has been renamed to dielectric_energies.\n",
      "  return cls(outcar.frequencies, outcar.dielectric_tensor_function)\n"
     ]
    }
   ],
   "source": [
    "solarcells = []\n",
    "\n",
    "for compound in data_dict.keys():\n",
    "    print(compound)\n",
    "    try:\n",
    "        diel = DielTensor.from_file(\n",
    "            \"data/CuAu/\" + compound + \"_#115/OUTCAR_DIEL\"\n",
    "        )\n",
    "        diel.shift_imaginary(np.diff(data_dict[compound][\"bandgaps\"])[0])\n",
    "        data_dict[compound][\"solarcell\"] = SolarCell(\n",
    "            diel, [data_dict[compound][\"bandgaps\"][1]] * 2\n",
    "        )\n",
    "        \n",
    "    except Exception as e:\n",
    "        print(e)"
   ]
  },
  {
   "cell_type": "code",
   "execution_count": 5,
   "metadata": {},
   "outputs": [
    {
     "name": "stderr",
     "output_type": "stream",
     "text": [
      "/Users/mbercx/miniconda3/envs/vsc/lib/python3.8/site-packages/pymatgen/io/vasp/outputs.py:155: UserWarning: Float overflow (*******) encountered in vasprun\n",
      "  warnings.warn('Float overflow (*******) encountered in vasprun')\n"
     ]
    }
   ],
   "source": [
    "with open(\"data/solar.json\", \"r\") as file:\n",
    "    solar_data = json.loads(file.read(), cls=MontyDecoder)\n",
    "    \n",
    "solar_CuGaSe2 = solar_data[\"115-CuGaSe2\"][\"solar\"]\n",
    "solar_CuGaSe2.shift_bandgap_to(1.19)\n",
    "solar_CuInSe2 = SolarCell.from_file(\"data/CuInSe2_nedos6000.xml\")\n",
    "solar_CuInSe2.shift_bandgap_to(0.58)"
   ]
  },
  {
   "cell_type": "code",
   "execution_count": 6,
   "metadata": {},
   "outputs": [],
   "source": [
    "data_dict[\"CuGaSe2\"][\"solarcell\"] = solar_CuGaSe2\n",
    "data_dict[\"CuInSe2\"][\"solarcell\"] = solar_CuInSe2"
   ]
  },
  {
   "cell_type": "code",
   "execution_count": 33,
   "metadata": {},
   "outputs": [
    {
     "name": "stderr",
     "output_type": "stream",
     "text": [
      "/Users/mbercx/Dropbox/python/develop/vsc-workflows/vscworkflows/tools/optics.py:707: UserWarning: Found non-zero absorption below the direct band gap. This may be an indication that the imaginary part of the dielectric function was smeared by the VASP calculation.\n",
      "  warnings.warn(\"Found non-zero absorption below the direct band gap. \"\n",
      "/Users/mbercx/Dropbox/python/develop/vsc-workflows/vscworkflows/tools/optics.py:707: UserWarning: Found non-zero absorption below the direct band gap. This may be an indication that the imaginary part of the dielectric function was smeared by the VASP calculation.\n",
      "  warnings.warn(\"Found non-zero absorption below the direct band gap. \"\n"
     ]
    },
    {
     "data": {
      "image/png": "[encoded data removed]",
      "text/plain": [
       "<Figure size 432x288 with 1 Axes>"
      ]
     },
     "metadata": {
      "needs_background": "light"
     },
     "output_type": "display_data"
    }
   ],
   "source": [
    "fig, ax = plt.subplots()\n",
    "\n",
    "thickness = np.linspace(100e-9, 3000e-9, 20)\n",
    "\n",
    "markers = [\n",
    "    {\"marker\": \"o\", \"color\": color0},\n",
    "    {\"marker\": \"s\", \"color\": color0},\n",
    "    {\"marker\": \"o\", \"color\": color1},\n",
    "    {\"marker\": \"s\", \"color\": color1},\n",
    "    {\"marker\": \"o\", \"color\": color2},\n",
    "    {\"marker\": \"s\", \"color\": color2},\n",
    "    {\"marker\": \"o\", \"color\": color3},\n",
    "    {\"marker\": \"s\", \"color\": color3},\n",
    "    {\"marker\": \"o\", \"color\": color4},\n",
    "    {\"marker\": \"s\", \"color\": color4},\n",
    "]\n",
    "\n",
    "for data, marker in zip(data_dict.values(), markers):\n",
    "    \n",
    "    slme_data = np.array(\n",
    "        [data[\"solarcell\"].slme(thickness=d, cut_abs_below_bandgap=False, )[0] \n",
    "         for d in thickness]\n",
    "    )\n",
    "    ax.plot(thickness * 1e6, slme_data * 1e2, markersize=2, **marker)\n",
    "\n",
    "ax.set_xlabel(r\"Thickness (nm)\")\n",
    "ax.set_ylim([10, 35])\n",
    "ax.set_ylabel(r\"SLME (\\%)\")\n",
    "ax.legend(list(data_dict.keys()))\n",
    "\n",
    "tikzplotlib.save(filepath=os.path.join(figures_dir, \"CuAu_thickness_data.tex\"), \n",
    "                 add_axis_environment=False)"
   ]
  },
  {
   "cell_type": "code",
   "execution_count": 26,
   "metadata": {},
   "outputs": [],
   "source": [
    "chalco_data_dict = {\n",
    "    \"AgGaSe2\": {\"bandgap\": 1.80, \"slme\": 15.8},\n",
    "    \"AgGaTe2\": {\"bandgap\": 1.71, \"slme\": 21.8},\n",
    "    \"AgInS2\": {\"bandgap\": 1.74, \"slme\": 19.7},\n",
    "    \"AgInTe2\": {\"bandgap\": 1.23, \"slme\": 26.4},\n",
    "    \"CuGaS2\": {\"bandgap\": 1.99, \"slme\": 16.5},\n",
    "    \"CuGaSe2\": {\"bandgap\": 1.46, \"slme\": 26.6},\n",
    "    \"CuGaTe2\": {\"bandgap\": 1.47, \"slme\": 24.8},\n",
    "    \"CuInS2\": {\"bandgap\": 1.05, \"slme\": 23.1},\n",
    "    \"CuInSe2\": {\"bandgap\": 0.66, \"slme\": 22.1},\n",
    "    \"CuInTe2\": {\"bandgap\": 1.03, \"slme\": 28.0},\n",
    "}\n",
    "chalco_data_dict_zunger = {\n",
    "    \"AgGaSe2\": {\"bandgap\": 1.80, \"slme\": 15.8},\n",
    "    \"AgGaTe2\": {\"bandgap\": 1.54, \"slme\": 21.8},\n",
    "    \"AgInS2\": {\"bandgap\": 1.74, \"slme\": 19.7},\n",
    "    \"AgInTe2\": {\"bandgap\": 1.23, \"slme\": 26.4},\n",
    "    \"CuGaS2\": {\"bandgap\": 1.99, \"slme\": 16.5},\n",
    "    \"CuGaSe2\": {\"bandgap\": 1.65, \"slme\": 26.6},\n",
    "    \"CuGaTe2\": {\"bandgap\": 1.47, \"slme\": 24.8},\n",
    "    \"CuInS2\": {\"bandgap\": 1.54, \"slme\": 23.1},\n",
    "    \"CuInSe2\": {\"bandgap\": 1.33, \"slme\": 22.1},\n",
    "    \"CuInTe2\": {\"bandgap\": 1.03, \"slme\": 28.0},\n",
    "}\n",
    "cuau_data_dict = {\n",
    "    \"AgGaSe2\": {\"bandgap\": 1.41, \"slme\": 27.0},\n",
    "    \"AgGaTe2\": {\"bandgap\": 0.95, \"slme\": 28.9},\n",
    "    \"AgInS2\": {\"bandgap\": 1.69, \"slme\": 23.1},\n",
    "    \"AgInTe2\": {\"bandgap\": 0.92, \"slme\": 28.2},\n",
    "    \"CuGaS2\": {\"bandgap\": 1.94, \"slme\": 16.4},\n",
    "    \"CuGaSe2\": {\"bandgap\": 1.19, \"slme\": 27.8},\n",
    "    \"CuGaTe2\": {\"bandgap\": 1.06, \"slme\": 28.9},\n",
    "    \"CuInS2\": {\"bandgap\": 1.13, \"slme\": 29.0},\n",
    "    \"CuInSe2\": {\"bandgap\": 0.58, \"slme\": 20.7},\n",
    "    \"CuInTe2\": {\"bandgap\": 0.94, \"slme\": 27.9},\n",
    "}"
   ]
  },
  {
   "cell_type": "code",
   "execution_count": 27,
   "metadata": {},
   "outputs": [],
   "source": [
    "bandgaps = np.linspace(0.3, 3, 100)\n",
    "sq_limit = np.array([SolarCell.sq(bg)[0] for bg in bandgaps])"
   ]
  },
  {
   "cell_type": "code",
   "execution_count": 31,
   "metadata": {},
   "outputs": [
    {
     "data": {
      "image/png": "[encoded data removed]",
      "text/plain": [
       "<Figure size 432x288 with 1 Axes>"
      ]
     },
     "metadata": {
      "needs_background": "light"
     },
     "output_type": "display_data"
    }
   ],
   "source": [
    "color0 = \"#B81F1F\"\n",
    "color1 = \"#2368A2\"\n",
    "\n",
    "plt.plot(bandgaps, sq_limit * 1e2, \"k\")\n",
    "plt.plot(\n",
    "    [data[\"bandgap\"] for data in chalco_data_dict_zunger.values()],\n",
    "    [data[\"slme\"] for data in chalco_data_dict_zunger.values()], \n",
    "    marker=\"v\", color=color0, linestyle=\"\", markersize=3,\n",
    ")\n",
    "plt.plot(\n",
    "    [data[\"bandgap\"] for data in cuau_data_dict.values()],\n",
    "    [data[\"slme\"] for data in cuau_data_dict.values()], \n",
    "    marker=\"^\", color=color1, linestyle=\"\", markersize=3,\n",
    ")\n",
    "tikzplotlib.save(filepath=os.path.join(figures_dir, \"slme_data.tex\"), \n",
    "                 add_axis_environment=False)"
   ]
  },
  {
   "cell_type": "code",
   "execution_count": 15,
   "metadata": {},
   "outputs": [
    {
     "data": {
      "text/plain": [
       "{'AgGaSe2': {'bandgap': 1.41, 'slme': 25.9},\n",
       " 'AgGaTe2': {'bandgap': 0.95, 'slme': 29.0},\n",
       " 'AgInS2': {'bandgap': 1.69, 'slme': 20.9},\n",
       " 'AgInTe2': {'bandgap': 0.92, 'slme': 29.0},\n",
       " 'CuGaS2': {'bandgap': 1.94, 'slme': 16.6},\n",
       " 'CuGaSe2': {'bandgap': 1.19, 'slme': 26.6},\n",
       " 'CuGaTe2': {'bandgap': 1.06, 'slme': 28.1},\n",
       " 'CuInS2': {'bandgap': 1.13, 'slme': 28.9},\n",
       " 'CuInSe2': {'bandgap': 0.58, 'slme': 20.5},\n",
       " 'CuInTe2': {'bandgap': 0.94, 'slme': 28.5}}"
      ]
     },
     "execution_count": 15,
     "metadata": {},
     "output_type": "execute_result"
    }
   ],
   "source": [
    "cuau_data_dict2 = {\n",
    "    compound: {\"bandgap\": data[\"bandgaps\"][1], \n",
    "               \"slme\": round(data[\"solarcell\"].slme(thickness=5e-7, temperature=300)[0] * 1e2, 1)} \n",
    "    for compound, data in data_dict.items()\n",
    "}\n",
    "\n",
    "cuau_data_dict2"
   ]
  },
  {
   "cell_type": "code",
   "execution_count": 80,
   "metadata": {},
   "outputs": [
    {
     "data": {
      "text/plain": [
       "{'bandgaps': [0.59, 0.58],\n",
       " 'solarcell': <vscworkflows.tools.optics.SolarCell at 0x131a02c40>}"
      ]
     },
     "execution_count": 80,
     "metadata": {},
     "output_type": "execute_result"
    }
   ],
   "source": [
    "data_dict[\"CuInSe2\"]"
   ]
  },
  {
   "cell_type": "code",
   "execution_count": null,
   "metadata": {},
   "outputs": [],
   "source": []
  }
 ],
 "metadata": {
  "kernelspec": {
   "display_name": "Python 3",
   "language": "python",
   "name": "python3"
  },
  "language_info": {
   "codemirror_mode": {
    "name": "ipython",
    "version": 3
   },
   "file_extension": ".py",
   "mimetype": "text/x-python",
   "name": "python",
   "nbconvert_exporter": "python",
   "pygments_lexer": "ipython3",
   "version": "3.8.1"
  }
 },
 "nbformat": 4,
 "nbformat_minor": 4
}
