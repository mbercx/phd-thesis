{
 "cells": [
  {
   "cell_type": "code",
   "execution_count": 4,
   "metadata": {},
   "outputs": [],
   "source": [
    "import os, json\n",
    "import numpy as np\n",
    "import matplotlib.pyplot as plt\n",
    "import tikzplotlib\n",
    "\n",
    "color0 = \"#B81F1F\"\n",
    "color1 = \"#2368A2\"\n",
    "\n",
    "from matplotlib import rc\n",
    "rc('text', usetex=True)\n",
    "\n",
    "from monty.json import MontyEncoder, MontyDecoder\n",
    "from vscworkflows.tools.optics import SolarCell\n",
    "\n",
    "figures_dir = \"../../figures/slme/\""
   ]
  },
  {
   "cell_type": "markdown",
   "metadata": {},
   "source": [
    "# The curious case of CA-CuInSe2"
   ]
  },
  {
   "cell_type": "code",
   "execution_count": 5,
   "metadata": {},
   "outputs": [],
   "source": [
    "solar_CuInSe2 = SolarCell.from_file(\"data/CuInSe2_nedos6000.xml\")\n",
    "solar_CuGaS2 = SolarCell.from_file(\"data/CuGaS2_nedos2000.xml\")\n",
    "\n",
    "with open(\"data/solar.json\", \"r\") as file:\n",
    "    solar_data = json.loads(file.read(), cls=MontyDecoder)\n",
    "    \n",
    "solar_CuGaSe2 = solar_data[\"115-CuGaSe2\"][\"solar\"]"
   ]
  },
  {
   "cell_type": "code",
   "execution_count": 6,
   "metadata": {},
   "outputs": [],
   "source": [
    "solar_CuInSe2.shift_bandgap_to(0.58)\n",
    "solar_CuGaSe2.shift_bandgap_to(1.19)"
   ]
  },
  {
   "cell_type": "markdown",
   "metadata": {},
   "source": [
    "First, let's compare the thickness dependence of the efficiency for the two materials."
   ]
  },
  {
   "cell_type": "code",
   "execution_count": 4,
   "metadata": {},
   "outputs": [
    {
     "data": {
      "image/png": "[encoded data removed]",
      "text/plain": [
       "<Figure size 432x288 with 1 Axes>"
      ]
     },
     "metadata": {
      "needs_background": "light"
     },
     "output_type": "display_data"
    }
   ],
   "source": [
    "fig, ax = plt.subplots()\n",
    "\n",
    "solar_CuInSe2.get_iv_curve(iv_mesh=0.01, add_to_axis=ax)\n",
    "\n",
    "ax.set_xlabel(\"Voltage (V)\")\n",
    "ax.set_xlim([0, 0.52])\n",
    "ax.set_ylabel(r\"$J$ (A/m$^2$), $P$ (W/m$^2$)\")\n",
    "ax.legend([\"Current\", \"Power\"])\n",
    "tikzplotlib.save(filepath=os.path.join(figures_dir, \"IV_curve.tex\"), \n",
    "                 add_axis_environment=False)"
   ]
  },
  {
   "cell_type": "code",
   "execution_count": 5,
   "metadata": {},
   "outputs": [
    {
     "data": {
      "image/png": "[encoded data removed]",
      "text/plain": [
       "<Figure size 432x288 with 1 Axes>"
      ]
     },
     "metadata": {
      "needs_background": "light"
     },
     "output_type": "display_data"
    }
   ],
   "source": [
    "fig, ax = plt.subplots()\n",
    "\n",
    "ax.axhline(1, color=\"k\", linestyle=\"--\")\n",
    "\n",
    "thickness = 10 ** np.linspace(-8, -2, 20)\n",
    "slme_data = np.array(\n",
    "    [solar_CuInSe2.slme(thickness=d)\n",
    "     for d in thickness]\n",
    ")\n",
    "sq = solar_CuInSe2.calculate_bandgap_sq()\n",
    "\n",
    "ax.plot(thickness, [d[0]/sq[0] for d in slme_data], \"o\", \n",
    "        markersize=2, color=color0)\n",
    "\n",
    "slme_data = np.array(\n",
    "    [solar_CuGaSe2.slme(thickness=d)\n",
    "     for d in thickness]\n",
    ")\n",
    "sq = solar_CuGaSe2.calculate_bandgap_sq()\n",
    "\n",
    "ax.plot(thickness, [d[0]/sq[0] for d in slme_data], \"s\", \n",
    "        markersize=2, color=color1)\n",
    "\n",
    "ax.set_xscale(\"log\")\n",
    "ax.legend([\"SQ limit\", \"CuInSe2\", \"CuGaSe2\"])\n",
    "ax.set_xlabel(\"Thickness\")\n",
    "ax.set_ylabel(\"SLME / SQ\")\n",
    "ax.set_xticks([1e-8, 1e-7, 1e-6, 1e-5, 1e-4, 1e-3, 1e-2])\n",
    "ax.set_xticklabels([\"10\", \"$10^2$\", \"$10^3$\", \"$10^4$\", \"$10^5$\", \"$10^6$\", \"$10^7$\"]);\n",
    "tikzplotlib.save(filepath=os.path.join(figures_dir, \"SLME_thickness.tex\"), \n",
    "                 add_axis_environment=False)"
   ]
  },
  {
   "cell_type": "code",
   "execution_count": 6,
   "metadata": {},
   "outputs": [
    {
     "data": {
      "image/png": "[encoded data removed]",
      "text/plain": [
       "<Figure size 432x288 with 1 Axes>"
      ]
     },
     "metadata": {
      "needs_background": "light"
     },
     "output_type": "display_data"
    }
   ],
   "source": [
    "fig, ax = plt.subplots()\n",
    "\n",
    "ax.axhline(1, color=\"k\", linestyle=\"--\")\n",
    "\n",
    "thickness = 10 ** np.linspace(-8, -2, 20)\n",
    "slme_data = np.array(\n",
    "    [solar_CuInSe2.slme(thickness=d)\n",
    "     for d in thickness]\n",
    ")\n",
    "sq = solar_CuInSe2.calculate_bandgap_sq()\n",
    "\n",
    "ax.plot(thickness, [d[1][\"v_oc\"]/sq[1][\"v_oc\"] for d in slme_data], \"o\", \n",
    "        markersize=2, color=color0)\n",
    "\n",
    "slme_data = np.array(\n",
    "    [solar_CuGaSe2.slme(thickness=d)\n",
    "     for d in thickness]\n",
    ")\n",
    "sq = solar_CuGaSe2.calculate_bandgap_sq()\n",
    "\n",
    "ax.plot(thickness, [d[1][\"v_oc\"]/sq[1][\"v_oc\"] for d in slme_data], \"s\",\n",
    "        markersize=2, color=color1)\n",
    "\n",
    "ax.set_xscale(\"log\")\n",
    "ax.set_xlabel(\"Thickness\")\n",
    "ax.set_ylabel(\"$V_{oc} /  V_{oc}^{SQ}$\")\n",
    "ax.set_xticks([1e-8, 1e-7, 1e-6, 1e-5, 1e-4, 1e-3, 1e-2])\n",
    "ax.set_xticklabels([\"10\", \"$10^2$\", \"$10^3$\", \"$10^4$\", \"$10^5$\", \"$10^6$\", \"$10^7$\"]);\n",
    "tikzplotlib.save(filepath=os.path.join(figures_dir, \"Voc_thickness.tex\"), \n",
    "                 add_axis_environment=False)"
   ]
  },
  {
   "cell_type": "code",
   "execution_count": 7,
   "metadata": {},
   "outputs": [
    {
     "data": {
      "image/png": "[encoded data removed]",
      "text/plain": [
       "<Figure size 432x288 with 1 Axes>"
      ]
     },
     "metadata": {
      "needs_background": "light"
     },
     "output_type": "display_data"
    }
   ],
   "source": [
    "fig, ax = plt.subplots()\n",
    "\n",
    "ax.axhline(1, color=\"k\", linestyle=\"--\")\n",
    "\n",
    "thickness = 10 ** np.linspace(-8, -2, 20)\n",
    "slme_data = np.array(\n",
    "    [solar_CuInSe2.slme(thickness=d)\n",
    "     for d in thickness]\n",
    ")\n",
    "sq = solar_CuInSe2.calculate_bandgap_sq()\n",
    "\n",
    "ax.plot(thickness, [d[1][\"j_sc\"]/sq[1][\"j_sc\"] for d in slme_data], \"o\", \n",
    "        markersize=2, color=color0)\n",
    "\n",
    "slme_data = np.array(\n",
    "    [solar_CuGaSe2.slme(thickness=d)\n",
    "     for d in thickness]\n",
    ")\n",
    "sq = solar_CuGaSe2.calculate_bandgap_sq()\n",
    "\n",
    "ax.plot(thickness, [d[1][\"j_sc\"]/sq[1][\"j_sc\"] for d in slme_data], \"s\", \n",
    "        markersize=2, color=color1)\n",
    "\n",
    "ax.set_xscale(\"log\")\n",
    "ax.set_xlabel(\"Thickness\")\n",
    "ax.set_ylabel(\"$J_{sc} /  J_{sc}^{SQ}$\")\n",
    "ax.set_xticks([1e-8, 1e-7, 1e-6, 1e-5, 1e-4, 1e-3, 1e-2])\n",
    "ax.set_xticklabels([\"10\", \"$10^2$\", \"$10^3$\", \"$10^4$\", \"$10^5$\", \"$10^6$\", \"$10^7$\"]);\n",
    "tikzplotlib.save(filepath=os.path.join(figures_dir, \"Jsc_thickness.tex\"), \n",
    "                 add_axis_environment=False)"
   ]
  },
  {
   "cell_type": "code",
   "execution_count": 8,
   "metadata": {},
   "outputs": [
    {
     "name": "stdout",
     "output_type": "stream",
     "text": [
      "J_0^SQ 0.00023536164906273613\n",
      "J_0^SQ 4.529037504138192e-14\n"
     ]
    },
    {
     "data": {
      "image/png": "[encoded data removed]",
      "text/plain": [
       "<Figure size 432x288 with 1 Axes>"
      ]
     },
     "metadata": {
      "needs_background": "light"
     },
     "output_type": "display_data"
    }
   ],
   "source": [
    "fig, ax = plt.subplots()\n",
    "\n",
    "ax.axhline(1, color=\"k\", linestyle=\"--\")\n",
    "\n",
    "thickness = 10 ** np.linspace(-8, -2, 20)\n",
    "slme_data = np.array(\n",
    "    [solar_CuInSe2.slme(thickness=d)\n",
    "     for d in thickness]\n",
    ")\n",
    "sq = solar_CuInSe2.calculate_bandgap_sq()\n",
    "print(\"J_0^SQ\", sq[1][\"j_0\"])\n",
    "\n",
    "ax.plot(thickness, [d[1][\"j_0\"]/sq[1][\"j_0\"] for d in slme_data], \"o\", \n",
    "        markersize=2, color=color0)\n",
    "\n",
    "slme_data = np.array(\n",
    "    [solar_CuGaSe2.slme(thickness=d)\n",
    "     for d in thickness]\n",
    ")\n",
    "sq = solar_CuGaSe2.calculate_bandgap_sq()\n",
    "print(\"J_0^SQ\", sq[1][\"j_0\"])\n",
    "\n",
    "ax.plot(thickness, [d[1][\"j_0\"]/sq[1][\"j_0\"] for d in slme_data], \"s\",\n",
    "        markersize=2, color=color1)\n",
    "\n",
    "ax.set_xscale(\"log\")\n",
    "ax.set_xlabel(\"Thickness\")\n",
    "ax.set_ylabel(\"$J_0$ / $J_0^{SQ}$\")\n",
    "ax.set_xticks([1e-8, 1e-7, 1e-6, 1e-5, 1e-4, 1e-3, 1e-2])\n",
    "ax.set_xticklabels([\"10\", \"$10^2$\", \"$10^3$\", \"$10^4$\", \"$10^5$\", \"$10^6$\", \"$10^7$\"]);\n",
    "tikzplotlib.save(filepath=os.path.join(figures_dir, \"J0_thickness.tex\"), \n",
    "                 add_axis_environment=False)"
   ]
  },
  {
   "cell_type": "code",
   "execution_count": 17,
   "metadata": {},
   "outputs": [
    {
     "name": "stdout",
     "output_type": "stream",
     "text": [
      "SQ 0.33482365061194946\n",
      "SQ 0.1317627884107037\n"
     ]
    },
    {
     "data": {
      "image/png": "[encoded data removed]",
      "text/plain": [
       "<Figure size 432x288 with 1 Axes>"
      ]
     },
     "metadata": {
      "needs_background": "light"
     },
     "output_type": "display_data"
    }
   ],
   "source": [
    "fig, ax = plt.subplots()\n",
    "\n",
    "thickness = 10 ** np.linspace(-8, -2, 20)\n",
    "ax.axhline(1, color=\"k\", linestyle=\"--\")\n",
    "\n",
    "slme_data = np.array(\n",
    "    [solar_CuGaSe2.slme(thickness=d)\n",
    "     for d in thickness]\n",
    ")\n",
    "sq = solar_CuGaSe2.calculate_bandgap_sq()\n",
    "print(\"SQ\", sq[0])\n",
    "\n",
    "ax.plot(thickness, [d[0]/sq[0] for d in slme_data], \"s\", \n",
    "        markersize=2, color=color0)\n",
    "\n",
    "slme_data = np.array(\n",
    "    [solar_CuGaSe2.slme(thickness=d, temperature=750)\n",
    "     for d in thickness]\n",
    ")\n",
    "sq = solar_CuGaSe2.calculate_bandgap_sq(temperature=750)\n",
    "print(\"SQ\", sq[0])\n",
    "\n",
    "ax.plot(thickness, [d[0]/sq[0] for d in slme_data], \"s\", \n",
    "        markersize=2, color=color1)\n",
    "\n",
    "ax.set_xscale(\"log\")\n",
    "ax.legend([\"SQ limit\", \"300 K\", \"750 K\"])\n",
    "ax.set_xlabel(\"Thickness\")\n",
    "ax.set_ylabel(\"SLME / SQ\")\n",
    "ax.set_xticks([1e-8, 1e-7, 1e-6, 1e-5, 1e-4, 1e-3, 1e-2])\n",
    "ax.set_xticklabels([\"10\", \"$10^2$\", \"$10^3$\", \"$10^4$\", \"$10^5$\", \"$10^6$\", \"$10^7$\"]);\n",
    "tikzplotlib.save(filepath=os.path.join(figures_dir, \"slme_temperature.tex\"), \n",
    "                 add_axis_environment=False)"
   ]
  },
  {
   "cell_type": "code",
   "execution_count": 15,
   "metadata": {},
   "outputs": [
    {
     "data": {
      "image/png": "[encoded data removed]",
      "text/plain": [
       "<Figure size 432x288 with 1 Axes>"
      ]
     },
     "metadata": {
      "needs_background": "light"
     },
     "output_type": "display_data"
    }
   ],
   "source": [
    "fig, ax = plt.subplots()\n",
    "\n",
    "ax.axhline(1, color=\"k\", linestyle=\"--\")\n",
    "\n",
    "thickness = 10 ** np.linspace(-7, -3, 20)\n",
    "slme_data = np.array(\n",
    "    [solar_CuInSe2.slme(thickness=d)\n",
    "     for d in thickness]\n",
    ")\n",
    "sq = solar_CuInSe2.calculate_bandgap_sq()\n",
    "\n",
    "ax.plot(thickness, [d[1][\"v_m\"]/sq[1][\"v_m\"] for d in slme_data], \"o\", \n",
    "        markersize=2, color=color0)\n",
    "\n",
    "ax.plot(thickness, [sq[1][\"j_m\"]/d[1][\"j_m\"] for d in slme_data], \"s\",\n",
    "        markersize=2, color=color1)\n",
    "\n",
    "ax.set_xscale(\"log\")\n",
    "ax.set_xlabel(\"Thickness\")\n",
    "ax.set_xticks([1e-7, 1e-6, 1e-5, 1e-4, 1e-3])\n",
    "ax.set_xticklabels([\"$10^2$\", \"$10^3$\", \"$10^4$\", \"$10^5$\", \"$10^6$\"]);\n",
    "tikzplotlib.save(filepath=os.path.join(figures_dir, \"JVmax_CuInSe2.tex\"), \n",
    "                 add_axis_environment=False)"
   ]
  },
  {
   "cell_type": "code",
   "execution_count": 16,
   "metadata": {},
   "outputs": [
    {
     "data": {
      "image/png": "[encoded data removed]",
      "text/plain": [
       "<Figure size 432x288 with 1 Axes>"
      ]
     },
     "metadata": {
      "needs_background": "light"
     },
     "output_type": "display_data"
    }
   ],
   "source": [
    "fig, ax = plt.subplots()\n",
    "\n",
    "ax.axhline(1, color=\"k\", linestyle=\"--\")\n",
    "\n",
    "thickness = 10 ** np.linspace(-7, -3, 20)\n",
    "slme_data = np.array(\n",
    "    [solar_CuGaSe2.slme(thickness=d)\n",
    "     for d in thickness]\n",
    ")\n",
    "sq = solar_CuGaSe2.calculate_bandgap_sq()\n",
    "\n",
    "ax.plot(thickness, [d[1][\"v_m\"]/sq[1][\"v_m\"] for d in slme_data], \"o\", \n",
    "        markersize=2, color=color0)\n",
    "\n",
    "ax.plot(thickness, [sq[1][\"j_m\"]/d[1][\"j_m\"] for d in slme_data], \"s\",\n",
    "        markersize=2, color=color1)\n",
    "\n",
    "ax.set_xscale(\"log\")\n",
    "ax.set_xlabel(\"Thickness\")\n",
    "ax.set_xticks([1e-7, 1e-6, 1e-5, 1e-4, 1e-3])\n",
    "ax.set_xticklabels([\"$10^2$\", \"$10^3$\", \"$10^4$\", \"$10^5$\", \"$10^6$\"]);\n",
    "tikzplotlib.save(filepath=os.path.join(figures_dir, \"JVmax_CuGaSe2.tex\"), \n",
    "                 add_axis_environment=False)"
   ]
  },
  {
   "cell_type": "code",
   "execution_count": null,
   "metadata": {},
   "outputs": [],
   "source": []
  }
 ],
 "metadata": {
  "kernelspec": {
   "display_name": "Python 3",
   "language": "python",
   "name": "python3"
  },
  "language_info": {
   "codemirror_mode": {
    "name": "ipython",
    "version": 3
   },
   "file_extension": ".py",
   "mimetype": "text/x-python",
   "name": "python",
   "nbconvert_exporter": "python",
   "pygments_lexer": "ipython3",
   "version": "3.8.1"
  }
 },
 "nbformat": 4,
 "nbformat_minor": 4
}
