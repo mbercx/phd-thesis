{
 "cells": [
  {
   "cell_type": "code",
   "execution_count": 21,
   "metadata": {},
   "outputs": [],
   "source": [
    "import os, json\n",
    "import numpy as np\n",
    "import matplotlib.pyplot as plt\n",
    "import tikzplotlib\n",
    "\n",
    "color0 = \"#B81F1F\"\n",
    "color1 = \"#2368A2\"\n",
    "\n",
    "from matplotlib import rc\n",
    "rc('text', usetex=True)\n",
    "\n",
    "from monty.json import MontyEncoder, MontyDecoder\n",
    "from vscworkflows.tools.optics import SolarCell\n",
    "\n",
    "figures_dir = \"../../figures/slme/\""
   ]
  },
  {
   "cell_type": "markdown",
   "metadata": {},
   "source": [
    "# The curious case of CA-CuInSe2"
   ]
  },
  {
   "cell_type": "code",
   "execution_count": 22,
   "metadata": {},
   "outputs": [
    {
     "name": "stderr",
     "output_type": "stream",
     "text": [
      "/Users/mbercx/miniconda3/envs/vsc/lib/python3.8/site-packages/pymatgen/io/vasp/outputs.py:155: UserWarning: Float overflow (*******) encountered in vasprun\n",
      "  warnings.warn('Float overflow (*******) encountered in vasprun')\n"
     ]
    }
   ],
   "source": [
    "solar_CuInSe2 = SolarCell.from_file(\"data/CuInSe2_nedos6000.xml\")\n",
    "solar_CuGaS2 = SolarCell.from_file(\"data/CuGaS2_nedos2000.xml\")"
   ]
  },
  {
   "cell_type": "code",
   "execution_count": 23,
   "metadata": {},
   "outputs": [],
   "source": [
    "solar_CuInSe2.shift_bandgap_to(0.58)"
   ]
  },
  {
   "cell_type": "markdown",
   "metadata": {},
   "source": [
    "First, let's compare the thickness dependence of the efficiency for the two materials."
   ]
  },
  {
   "cell_type": "code",
   "execution_count": 24,
   "metadata": {},
   "outputs": [
    {
     "data": {
      "image/png": "[encoded data removed]",
      "text/plain": [
       "<Figure size 432x288 with 1 Axes>"
      ]
     },
     "metadata": {
      "needs_background": "light"
     },
     "output_type": "display_data"
    }
   ],
   "source": [
    "fig, ax = plt.subplots()\n",
    "\n",
    "solar_CuInSe2.get_iv_curve(iv_mesh=0.01, add_to_axis=ax)\n",
    "\n",
    "ax.set_xlabel(\"Voltage (V)\")\n",
    "ax.set_xlim([0, 0.52])\n",
    "ax.set_ylabel(r\"$J$ (A/m$^2$), $P$ (W/m$^2$)\")\n",
    "ax.legend([\"Current\", \"Power\"])\n",
    "tikzplotlib.save(filepath=os.path.join(figures_dir, \"IV_curve.tex\"), \n",
    "                 add_axis_environment=False)"
   ]
  },
  {
   "cell_type": "code",
   "execution_count": 25,
   "metadata": {},
   "outputs": [
    {
     "data": {
      "image/png": "[encoded data removed]",
      "text/plain": [
       "<Figure size 432x288 with 1 Axes>"
      ]
     },
     "metadata": {
      "needs_background": "light"
     },
     "output_type": "display_data"
    }
   ],
   "source": [
    "fig, ax = plt.subplots()\n",
    "\n",
    "ax.axhline(1, color=\"k\", linestyle=\"--\")\n",
    "\n",
    "thickness = 10 ** np.linspace(-8, -2, 20)\n",
    "slme_data = np.array(\n",
    "    [solar_CuInSe2.slme(thickness=d)\n",
    "     for d in thickness]\n",
    ")\n",
    "sq = solar_CuInSe2.calculate_bandgap_sq()\n",
    "\n",
    "ax.plot(thickness, [d[0]/sq[0] for d in slme_data], \"o\", \n",
    "        markersize=2, color=color0)\n",
    "\n",
    "slme_data = np.array(\n",
    "    [solar_CuGaS2.slme(thickness=d)\n",
    "     for d in thickness]\n",
    ")\n",
    "sq = solar_CuGaS2.calculate_bandgap_sq()\n",
    "\n",
    "ax.plot(thickness, [d[0]/sq[0] for d in slme_data], \"s\", \n",
    "        markersize=2, color=color1)\n",
    "\n",
    "ax.set_xscale(\"log\")\n",
    "ax.legend([\"SQ limit\", \"CuInSe2\", \"CuGaS2\"])\n",
    "ax.set_xlabel(\"Thickness\")\n",
    "ax.set_ylabel(\"Efficiency (\\%)\")\n",
    "ax.set_xticks([1e-8, 1e-7, 1e-6, 1e-5, 1e-4, 1e-3, 1e-2])\n",
    "ax.set_xticklabels([\"10\", \"$10^2$\", \"$10^3$\", \"$10^4$\", \"$10^5$\", \"$10^6$\", \"$10^7$\"]);\n",
    "tikzplotlib.save(filepath=os.path.join(figures_dir, \"SLME_thickness.tex\"), \n",
    "                 add_axis_environment=False)"
   ]
  },
  {
   "cell_type": "code",
   "execution_count": 26,
   "metadata": {},
   "outputs": [
    {
     "data": {
      "image/png": "[encoded data removed]",
      "text/plain": [
       "<Figure size 432x288 with 1 Axes>"
      ]
     },
     "metadata": {
      "needs_background": "light"
     },
     "output_type": "display_data"
    }
   ],
   "source": [
    "fig, ax = plt.subplots()\n",
    "\n",
    "ax.axhline(1, color=\"k\", linestyle=\"--\")\n",
    "\n",
    "thickness = 10 ** np.linspace(-8, -2, 20)\n",
    "slme_data = np.array(\n",
    "    [solar_CuInSe2.slme(thickness=d)\n",
    "     for d in thickness]\n",
    ")\n",
    "sq = solar_CuInSe2.calculate_bandgap_sq()\n",
    "\n",
    "ax.plot(thickness, [d[1]/sq[1] for d in slme_data], \"o\", \n",
    "        markersize=2, color=color0)\n",
    "\n",
    "slme_data = np.array(\n",
    "    [solar_CuGaS2.slme(thickness=d)\n",
    "     for d in thickness]\n",
    ")\n",
    "sq = solar_CuGaS2.calculate_bandgap_sq()\n",
    "\n",
    "ax.plot(thickness, [d[1]/sq[1] for d in slme_data], \"s\",\n",
    "        markersize=2, color=color1)\n",
    "\n",
    "ax.set_xscale(\"log\")\n",
    "ax.set_xlabel(\"Thickness\")\n",
    "ax.set_ylabel(\"$V_{oc} /  V_{oc}^{SQ}$\")\n",
    "ax.set_xticks([1e-8, 1e-7, 1e-6, 1e-5, 1e-4, 1e-3, 1e-2])\n",
    "ax.set_xticklabels([\"10\", \"$10^2$\", \"$10^3$\", \"$10^4$\", \"$10^5$\", \"$10^6$\", \"$10^7$\"]);\n",
    "tikzplotlib.save(filepath=os.path.join(figures_dir, \"Voc_thickness.tex\"), \n",
    "                 add_axis_environment=False)"
   ]
  },
  {
   "cell_type": "code",
   "execution_count": 8,
   "metadata": {},
   "outputs": [
    {
     "data": {
      "image/png": "[encoded data removed]",
      "text/plain": [
       "<Figure size 432x288 with 1 Axes>"
      ]
     },
     "metadata": {
      "needs_background": "light"
     },
     "output_type": "display_data"
    }
   ],
   "source": [
    "fig, ax = plt.subplots()\n",
    "\n",
    "ax.axhline(1, color=\"k\", linestyle=\"--\")\n",
    "\n",
    "thickness = 10 ** np.linspace(-8, -2, 20)\n",
    "slme_data = np.array(\n",
    "    [solar_CuInSe2.slme(thickness=d)\n",
    "     for d in thickness]\n",
    ")\n",
    "sq = solar_CuInSe2.calculate_bandgap_sq()\n",
    "\n",
    "ax.plot(thickness, [d[2]/sq[2] for d in slme_data], \"o\", \n",
    "        markersize=2, color=color0)\n",
    "\n",
    "slme_data = np.array(\n",
    "    [solar_CuGaS2.slme(thickness=d)\n",
    "     for d in thickness]\n",
    ")\n",
    "sq = solar_CuGaS2.calculate_bandgap_sq()\n",
    "\n",
    "ax.plot(thickness, [d[2]/sq[2] for d in slme_data], \"s\", \n",
    "        markersize=2, color=color1)\n",
    "\n",
    "ax.set_xscale(\"log\")\n",
    "ax.set_xlabel(\"Thickness\")\n",
    "ax.set_ylabel(\"$J_{sc} /  J_{sc}^{SQ}$\")\n",
    "ax.set_xticks([1e-8, 1e-7, 1e-6, 1e-5, 1e-4, 1e-3, 1e-2])\n",
    "ax.set_xticklabels([\"10\", \"$10^2$\", \"$10^3$\", \"$10^4$\", \"$10^5$\", \"$10^6$\", \"$10^7$\"]);\n",
    "tikzplotlib.save(filepath=os.path.join(figures_dir, \"Jsc_thickness.tex\"), \n",
    "                 add_axis_environment=False)"
   ]
  },
  {
   "cell_type": "code",
   "execution_count": 10,
   "metadata": {},
   "outputs": [
    {
     "name": "stdout",
     "output_type": "stream",
     "text": [
      "J_0^SQ 0.00023536164906273613\n",
      "J_0^SQ 3.236380685582544e-23\n"
     ]
    },
    {
     "data": {
      "image/png": "[encoded data removed]",
      "text/plain": [
       "<Figure size 432x288 with 1 Axes>"
      ]
     },
     "metadata": {
      "needs_background": "light"
     },
     "output_type": "display_data"
    }
   ],
   "source": [
    "fig, ax = plt.subplots()\n",
    "\n",
    "ax.axhline(1, color=\"k\", linestyle=\"--\")\n",
    "\n",
    "thickness = 10 ** np.linspace(-8, -2, 20)\n",
    "slme_data = np.array(\n",
    "    [solar_CuInSe2.slme(thickness=d)\n",
    "     for d in thickness]\n",
    ")\n",
    "sq = solar_CuInSe2.calculate_bandgap_sq()\n",
    "print(\"J_0^SQ\", sq[3])\n",
    "\n",
    "ax.plot(thickness, [d[3]/sq[3] for d in slme_data], \"o\", \n",
    "        markersize=2, color=color0)\n",
    "\n",
    "slme_data = np.array(\n",
    "    [solar_CuGaS2.slme(thickness=d)\n",
    "     for d in thickness]\n",
    ")\n",
    "sq = solar_CuGaS2.calculate_bandgap_sq()\n",
    "print(\"J_0^SQ\", sq[3])\n",
    "\n",
    "ax.plot(thickness, [d[3]/sq[3] for d in slme_data], \"s\",\n",
    "        markersize=2, color=color1)\n",
    "\n",
    "ax.set_xscale(\"log\")\n",
    "ax.set_xlabel(\"Thickness\")\n",
    "ax.set_ylabel(\"$J_0$ / $J_0^{SQ}$\")c\n",
    "ax.set_xticks([1e-8, 1e-7, 1e-6, 1e-5, 1e-4, 1e-3, 1e-2])\n",
    "ax.set_xticklabels([\"10\", \"$10^2$\", \"$10^3$\", \"$10^4$\", \"$10^5$\", \"$10^6$\", \"$10^7$\"]);\n",
    "tikzplotlib.save(filepath=os.path.join(figures_dir, \"J0_thickness.tex\"), \n",
    "                 add_axis_environment=False)"
   ]
  },
  {
   "cell_type": "code",
   "execution_count": 20,
   "metadata": {},
   "outputs": [
    {
     "data": {
      "image/png": "[encoded data removed]",
      "text/plain": [
       "<Figure size 432x288 with 1 Axes>"
      ]
     },
     "metadata": {
      "needs_background": "light"
     },
     "output_type": "display_data"
    }
   ],
   "source": [
    "fig, ax = plt.subplots()\n",
    "\n",
    "thickness = 10 ** np.linspace(-8, -2, 20)\n",
    "ax.axhline(1, color=\"k\", linestyle=\"--\")\n",
    "\n",
    "slme_data = np.array(\n",
    "    [solar_CuGaS2.slme(thickness=d, temperature=600)\n",
    "     for d in thickness]\n",
    ")\n",
    "sq = solar_CuGaS2.calculate_bandgap_sq(temperature=600)\n",
    "\n",
    "ax.plot(thickness, [d[0]/sq[0] for d in slme_data], \"s\", \n",
    "        markersize=2, color=color1)\n",
    "\n",
    "ax.set_xscale(\"log\")\n",
    "ax.legend([\"SQ limit\", \"CuInSe2\", \"CuGaS2\"])\n",
    "ax.set_xlabel(\"Thickness\")\n",
    "ax.set_ylabel(\"Efficiency (\\%)\")\n",
    "ax.set_xticks([1e-8, 1e-7, 1e-6, 1e-5, 1e-4, 1e-3, 1e-2])\n",
    "ax.set_xticklabels([\"10\", \"$10^2$\", \"$10^3$\", \"$10^4$\", \"$10^5$\", \"$10^6$\", \"$10^7$\"]);\n",
    "# tikzplotlib.save(filepath=os.path.join(figures_dir, \"SLME_thickness.tex\"), \n",
    "#                  add_axis_environment=False)"
   ]
  },
  {
   "cell_type": "code",
   "execution_count": null,
   "metadata": {},
   "outputs": [],
   "source": []
  }
 ],
 "metadata": {
  "kernelspec": {
   "display_name": "Python 3",
   "language": "python",
   "name": "python3"
  },
  "language_info": {
   "codemirror_mode": {
    "name": "ipython",
    "version": 3
   },
   "file_extension": ".py",
   "mimetype": "text/x-python",
   "name": "python",
   "nbconvert_exporter": "python",
   "pygments_lexer": "ipython3",
   "version": "3.8.1"
  }
 },
 "nbformat": 4,
 "nbformat_minor": 4
}
