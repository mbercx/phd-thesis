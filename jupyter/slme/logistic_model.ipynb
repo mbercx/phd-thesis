{
 "cells": [
  {
   "cell_type": "code",
   "execution_count": 12,
   "metadata": {},
   "outputs": [],
   "source": [
    "import os, json\n",
    "import numpy as np\n",
    "\n",
    "from vscworkflows.tools.optics import SolarCell\n",
    "from scipy.io import loadmat\n",
    "\n",
    "import matplotlib.pyplot as plt\n",
    "from matplotlib import rc\n",
    "rc('text', usetex=True)\n",
    "import tikzplotlib\n",
    "\n",
    "figures_dir = \"../../figures/slme\"\n",
    "\n",
    "color0 = \"#B81F1F\"\n",
    "color1 = \"#2368A2\""
   ]
  },
  {
   "cell_type": "code",
   "execution_count": 13,
   "metadata": {},
   "outputs": [],
   "source": [
    "data = loadmat(\"data/Effiency_models.mat\")\n",
    "data.update(loadmat(\"data/SLME_results.mat\"))"
   ]
  },
  {
   "cell_type": "code",
   "execution_count": 14,
   "metadata": {},
   "outputs": [
    {
     "data": {
      "text/plain": [
       "dict_keys(['__header__', '__version__', '__globals__', 'EgRange', 'mEff_abscoeff', 'mEff_fermi', 'mEff_logistic', 'testRange', 'BandGap', 'Compounds', 'None', 'SLME', '__function_workspace__'])"
      ]
     },
     "execution_count": 14,
     "metadata": {},
     "output_type": "execute_result"
    }
   ],
   "source": [
    "data.keys()"
   ]
  },
  {
   "cell_type": "code",
   "execution_count": 15,
   "metadata": {},
   "outputs": [],
   "source": [
    "bandgaps = np.linspace(0.3, 3, 100)\n",
    "sq_limit = np.array([SolarCell.sq(bg)[0] for bg in bandgaps])"
   ]
  },
  {
   "cell_type": "code",
   "execution_count": 16,
   "metadata": {},
   "outputs": [
    {
     "data": {
      "image/png": "[encoded data removed]",
      "text/plain": [
       "<Figure size 432x288 with 1 Axes>"
      ]
     },
     "metadata": {
      "needs_background": "light"
     },
     "output_type": "display_data"
    }
   ],
   "source": [
    "plt.plot(bandgaps, sq_limit*1e2, \"k\")\n",
    "plt.plot(data[\"EgRange\"][0,:], data[\"mEff_logistic\"][0], color=color0)\n",
    "plt.plot(data[\"BandGap\"], data[\"SLME\"], \"sk\", markersize=2, color=color1)\n",
    "plt.legend([\"SQ limit\", \"Logistic\", \"SLME\"])\n",
    "tikzplotlib.save(filepath=os.path.join(figures_dir, \"logistic_data.tex\"), \n",
    "                 add_axis_environment=False)"
   ]
  },
  {
   "cell_type": "code",
   "execution_count": 6,
   "metadata": {},
   "outputs": [
    {
     "name": "stdout",
     "output_type": "stream",
     "text": [
      "\\node [datapoint] (CuInSe2-115) at (axis cs:0.58, 20.7) {};\n",
      "\\node [datapoint] (Cu2ZnGeTe4-121) at (axis cs:0.49, 17.06) {};\n",
      "\\node [datapoint] (Cu2ZnSnTe4-121) at (axis cs:0.58, 21.16) {};\n",
      "\\node [datapoint] (Cu2CdSnSe4-121) at (axis cs:0.7, 24.47) {};\n",
      "\\node [datapoint] (Cu2HgGeSe4-121) at (axis cs:0.54, 18.51) {};\n",
      "\\node [datapoint] (Cu2HgGeTe4-121) at (axis cs:0.38, 12.72) {};\n",
      "\\node [datapoint] (Cu2HgSnSe4-121) at (axis cs:0.36, 11.64) {};\n",
      "\\node [datapoint] (Cu2HgSnTe4-121) at (axis cs:0.39, 12.4) {};\n",
      "\\node [datapoint] (CuInSe2-122) at (axis cs:1.33, 22.1) {};\n",
      "\\node [datapoint] (CuInS2-122) at (axis cs:1.54, 23.1) {};\n",
      "\\node [datapoint] (CuInTe2-122) at (axis cs:1.03, 28.0) {};\n",
      "\\node [datapoint] (CuGaTe2-122) at (axis cs:1.47, 24.8) {};\n",
      "\\node [datapoint] (AgGaSe2-216) at (axis cs:1.3, 24.7) {};\n",
      "\\node [datapoint] (AgInTe2-216) at (axis cs:1.17, 27.6) {};\n",
      "\\node [datapoint] (Cu7TlS4-87) at (axis cs:0.97, 22.8) {};\n",
      "\\node [datapoint] (AgInS2-122) at (axis cs:1.74, 19.7) {};\n",
      "\\node [datapoint] (CuInS2-115) at (axis cs:1.13, 29.0) {};\n",
      "\n",
      "\\node [compound] (CuInSe2-115_label) at (axis cs:0.58, 20.7) {\\ce{CuInSe_2^{\\#115}}};\n",
      "\\draw [] (CuInSe2-115) -- (CuInSe2-115_label);\n",
      "\\node [compound] (Cu2ZnGeTe4-121_label) at (axis cs:0.49, 17.06) {\\ce{Cu_2ZnGeTe_4^{\\#121}}};\n",
      "\\draw [] (Cu2ZnGeTe4-121) -- (Cu2ZnGeTe4-121_label);\n",
      "\\node [compound] (Cu2ZnSnTe4-121_label) at (axis cs:0.58, 21.16) {\\ce{Cu_2ZnSnTe_4^{\\#121}}};\n",
      "\\draw [] (Cu2ZnSnTe4-121) -- (Cu2ZnSnTe4-121_label);\n",
      "\\node [compound] (Cu2CdSnSe4-121_label) at (axis cs:0.7, 24.47) {\\ce{Cu_2CdSnSe_4^{\\#121}}};\n",
      "\\draw [] (Cu2CdSnSe4-121) -- (Cu2CdSnSe4-121_label);\n",
      "\\node [compound] (Cu2HgGeSe4-121_label) at (axis cs:0.54, 18.51) {\\ce{Cu_2HgGeSe_4^{\\#121}}};\n",
      "\\draw [] (Cu2HgGeSe4-121) -- (Cu2HgGeSe4-121_label);\n",
      "\\node [compound] (Cu2HgGeTe4-121_label) at (axis cs:0.38, 12.72) {\\ce{Cu_2HgGeTe_4^{\\#121}}};\n",
      "\\draw [] (Cu2HgGeTe4-121) -- (Cu2HgGeTe4-121_label);\n",
      "\\node [compound] (Cu2HgSnSe4-121_label) at (axis cs:0.36, 11.64) {\\ce{Cu_2HgSnSe_4^{\\#121}}};\n",
      "\\draw [] (Cu2HgSnSe4-121) -- (Cu2HgSnSe4-121_label);\n",
      "\\node [compound] (Cu2HgSnTe4-121_label) at (axis cs:0.39, 12.4) {\\ce{Cu_2HgSnTe_4^{\\#121}}};\n",
      "\\draw [] (Cu2HgSnTe4-121) -- (Cu2HgSnTe4-121_label);\n",
      "\\node [compound] (CuInSe2-122_label) at (axis cs:1.33, 22.1) {\\ce{CuInSe_2^{\\#122}}};\n",
      "\\draw [] (CuInSe2-122) -- (CuInSe2-122_label);\n",
      "\\node [compound] (CuInS2-122_label) at (axis cs:1.54, 23.1) {\\ce{CuInS_2^{\\#122}}};\n",
      "\\draw [] (CuInS2-122) -- (CuInS2-122_label);\n",
      "\\node [compound] (CuInTe2-122_label) at (axis cs:1.03, 28.0) {\\ce{CuInTe_2^{\\#122}}};\n",
      "\\draw [] (CuInTe2-122) -- (CuInTe2-122_label);\n",
      "\\node [compound] (CuGaTe2-122_label) at (axis cs:1.47, 24.8) {\\ce{CuGaTe_2^{\\#122}}};\n",
      "\\draw [] (CuGaTe2-122) -- (CuGaTe2-122_label);\n",
      "\\node [compound] (AgGaSe2-216_label) at (axis cs:1.3, 24.7) {\\ce{AgGaSe_2^{\\#216}}};\n",
      "\\draw [] (AgGaSe2-216) -- (AgGaSe2-216_label);\n",
      "\\node [compound] (AgInTe2-216_label) at (axis cs:1.17, 27.6) {\\ce{AgInTe_2^{\\#216}}};\n",
      "\\draw [] (AgInTe2-216) -- (AgInTe2-216_label);\n",
      "\\node [compound] (Cu7TlS4-87_label) at (axis cs:0.97, 22.8) {\\ce{Cu_7TlS_4^{\\#87}}};\n",
      "\\draw [] (Cu7TlS4-87) -- (Cu7TlS4-87_label);\n",
      "\\node [compound] (AgInS2-122_label) at (axis cs:1.74, 19.7) {\\ce{AgInS_2^{\\#122}}};\n",
      "\\draw [] (AgInS2-122) -- (AgInS2-122_label);\n",
      "\\node [compound] (CuInS2-115_label) at (axis cs:1.13, 29.0) {\\ce{CuInS_2^{\\#115}}};\n",
      "\\draw [] (CuInS2-115) -- (CuInS2-115_label);\n"
     ]
    }
   ],
   "source": [
    "for compound, bandgap, slme in zip(data[\"Compounds\"], data[\"BandGap\"], data[\"SLME\"]):\n",
    "    data_str = \"\\\\node [datapoint] (\" + compound[0][0].split(\"^\")[0].replace(\"_\",\"\") + \\\n",
    "        \"-\" + compound[0][0].split(\"^\")[1].replace(\"#\",\"\").replace(\"{\", \"\").replace(\"}\", \"\") + \\\n",
    "        \") at (axis cs:\" + str(bandgap[0]) + \", \" + str(slme[0]) + \") {};\"\n",
    "    print(data_str)\n",
    "    \n",
    "print()\n",
    "\n",
    "for compound, bandgap, slme in zip(data[\"Compounds\"], data[\"BandGap\"], data[\"SLME\"]):\n",
    "    label_str = \"\\\\node [compound] (\" + compound[0][0].split(\"^\")[0].replace(\"_\",\"\") + \\\n",
    "        \"-\" + compound[0][0].split(\"^\")[1].replace(\"#\",\"\").replace(\"{\", \"\").replace(\"}\", \"\") + \\\n",
    "        \"_label) at (axis cs:\" + str(bandgap[0]) + \", \" + str(slme[0]) + \") {\\\\ce{\" + \\\n",
    "        compound[0][0].replace(\"#\", \"\\\\#\") + \"}};\"\n",
    "    \n",
    "    print(label_str)\n",
    "    \n",
    "    connection_str = \"\\draw [] (\" +compound[0][0].split(\"^\")[0].replace(\"_\",\"\") + \\\n",
    "        \"-\" + compound[0][0].split(\"^\")[1].replace(\"#\",\"\").replace(\"{\", \"\").replace(\"}\", \"\") +\\\n",
    "    \") -- (\" + compound[0][0].split(\"^\")[0].replace(\"_\",\"\") + \\\n",
    "        \"-\" + compound[0][0].split(\"^\")[1].replace(\"#\",\"\").replace(\"{\", \"\").replace(\"}\", \"\") + \\\n",
    "        \"_label);\"\n",
    "    \n",
    "    print(connection_str)"
   ]
  },
  {
   "cell_type": "code",
   "execution_count": null,
   "metadata": {},
   "outputs": [],
   "source": []
  }
 ],
 "metadata": {
  "kernelspec": {
   "display_name": "Python 3",
   "language": "python",
   "name": "python3"
  },
  "language_info": {
   "codemirror_mode": {
    "name": "ipython",
    "version": 3
   },
   "file_extension": ".py",
   "mimetype": "text/x-python",
   "name": "python",
   "nbconvert_exporter": "python",
   "pygments_lexer": "ipython3",
   "version": "3.8.1"
  }
 },
 "nbformat": 4,
 "nbformat_minor": 4
}
