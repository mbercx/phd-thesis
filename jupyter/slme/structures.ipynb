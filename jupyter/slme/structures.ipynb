{
 "cells": [
  {
   "cell_type": "markdown",
   "metadata": {},
   "source": [
    "# SLME - Structures\n",
    "\n",
    "Before we can start calculating the optical properties required for the SLME, we need to generate the initial structures of the various compounds, both in the chalcopyrite and the CuAu phase. For this, we'll start from the CuAlS2 structure in both phases, and substitute the elements by those of the same group, i.e. we'll be exploring the [Cu, Ag][Al, Ga, In][S, Se, Te]2 chemical space."
   ]
  },
  {
   "cell_type": "code",
   "execution_count": 1,
   "metadata": {},
   "outputs": [],
   "source": [
    "# Notebook header\n",
    "\n",
    "import os\n",
    "from pymatgen import Structure, Element\n",
    "from pymatgen.symmetry.analyzer import SpacegroupAnalyzer"
   ]
  },
  {
   "cell_type": "markdown",
   "metadata": {},
   "source": [
    "The cell below loads the structures for both the CuAu-like phase (#115) and the chalcopyrite phase (#122), then converts them to the primitive structure using `pymatgen`'s handy `SpaceGroupAnalyzer` class."
   ]
  },
  {
   "cell_type": "code",
   "execution_count": 23,
   "metadata": {},
   "outputs": [],
   "source": [
    "# Load the structure\n",
    "conv_115 = Structure.from_file(\"conv_115.cif\")\n",
    "conv_122 = Structure.from_file(\"conv_122.cif\")\n",
    "\n",
    "# Convert them to the primitive structure\n",
    "prim_115 = SpacegroupAnalyzer(conv_115).get_primitive_standard_structure()\n",
    "prim_122 = SpacegroupAnalyzer(conv_122).get_primitive_standard_structure()"
   ]
  },
  {
   "cell_type": "markdown",
   "metadata": {},
   "source": [
    "We'll generate all of the structures and put them in the `structures` directory. First we'll make the directory (in case it does not exist). Next, we define the chemical space we want to investigate."
   ]
  },
  {
   "cell_type": "code",
   "execution_count": 26,
   "metadata": {},
   "outputs": [],
   "source": [
    "# Make the structures directory\n",
    "try:\n",
    "    os.makedirs(\"structures\")\n",
    "except FileExistsError:\n",
    "    pass\n",
    "\n",
    "chemical_space = [\n",
    "    [Element(\"Cu\"), Element(\"Ag\")],                 # Group I elements\n",
    "    [Element(\"Al\"), Element(\"Ga\"), Element(\"In\")],  # Group III elements\n",
    "    [Element(\"S\"), Element(\"Se\"), Element(\"Te\")]    # Group VI elements\n",
    "]"
   ]
  },
  {
   "cell_type": "markdown",
   "metadata": {},
   "source": [
    "Finally, we generate all of the possible compounds, based on combinations of the chemical space defined above. Using the handy `itertools.product` method, we can easily generate all of the possible combinations possible by taking one of each of the lists in `chemical_space`:"
   ]
  },
  {
   "cell_type": "code",
   "execution_count": 27,
   "metadata": {},
   "outputs": [],
   "source": [
    "from itertools import product\n",
    "\n",
    "for compound in product(*chemical_space):\n",
    "    \n",
    "    s_115 = prim_115.copy()\n",
    "    s_122 = prim_122.copy()\n",
    "    \n",
    "    s_115.replace_species({Element(\"Cu\"): compound[0],\n",
    "                           Element(\"Al\"): compound[1], \n",
    "                           Element(\"S\"): compound[2], })\n",
    "    s_122.replace_species({Element(\"Cu\"): compound[0],\n",
    "                           Element(\"Al\"): compound[1], \n",
    "                           Element(\"S\"): compound[2], })\n",
    "    \n",
    "    compound_name = \"\".join([str(el) for el in compound]) + \"2\"\n",
    "    s_115.to(\"json\", os.path.join(\"structures\", compound_name + \"_115.json\"))\n",
    "    s_115.to(\"cif\", os.path.join(\"structures\", compound_name + \"_115.cif\"))\n",
    "    s_122.to(\"json\", os.path.join(\"structures\", compound_name + \"_122.json\"))\n",
    "    s_122.to(\"cif\", os.path.join(\"structures\", compound_name + \"_122.cif\"))\n"
   ]
  },
  {
   "cell_type": "markdown",
   "metadata": {},
   "source": [
    "There we go! All of the structures of interested should now be in the `structures` directory, both in the `.cif` and `.json` formats."
   ]
  },
  {
   "cell_type": "code",
   "execution_count": null,
   "metadata": {},
   "outputs": [],
   "source": []
  }
 ],
 "metadata": {
  "kernelspec": {
   "display_name": "Python 3",
   "language": "python",
   "name": "python3"
  },
  "language_info": {
   "codemirror_mode": {
    "name": "ipython",
    "version": 3
   },
   "file_extension": ".py",
   "mimetype": "text/x-python",
   "name": "python",
   "nbconvert_exporter": "python",
   "pygments_lexer": "ipython3",
   "version": "3.7.5"
  }
 },
 "nbformat": 4,
 "nbformat_minor": 4
}
