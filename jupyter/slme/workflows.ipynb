{
 "cells": [
  {
   "cell_type": "markdown",
   "metadata": {},
   "source": [
    "# SLME - Workflows\n",
    "\n",
    "To calculate the SLME, we require the absorption coefficient of the material, as well as the direct and indirect band gap. As the CuAu and chalcopyrite materials we investigate all have direct band gaps in the $\\Gamma$ point, we can obtain a very accurate band gap from the optics calculation itself."
   ]
  },
  {
   "cell_type": "code",
   "execution_count": 1,
   "metadata": {},
   "outputs": [],
   "source": [
    "# Notebook header\n",
    "\n",
    "import os\n",
    "from pymatgen import Structure\n",
    "from custodian.vasp.handlers import VaspErrorHandler\n",
    "from vscworkflows.config import load_config\n",
    "from vscworkflows.handlers.core import ElectronicConvergenceMonitor\n",
    "from vscworkflows.fireworks.core import OptimizeFW, OpticsFW\n",
    "from vscworkflows.workflows.core import _set_up_functional_params, \\\n",
    "    _set_up_relative_directory, Workflow"
   ]
  },
  {
   "cell_type": "markdown",
   "metadata": {},
   "source": [
    "First we will define the directory in which we will perform the calculations on the cluster. Note that if you want to run this notebook to replicate my results, you will have to adjust this directory!"
   ]
  },
  {
   "cell_type": "code",
   "execution_count": 2,
   "metadata": {},
   "outputs": [],
   "source": [
    "cluster = \"hopper\"\n",
    "\n",
    "# Set up the scratch dir\n",
    "if cluster == \"breniac\":\n",
    "    scratch_dir = \"/scratch/leuven/202/vsc20248/slme/high-throughput\"   # This should be changed to your directory\n",
    "else:\n",
    "    scratch_dir = \"/scratch/antwerpen/202/vsc20248/slme/high-throughput\"   # This should be changed to your directory"
   ]
  },
  {
   "cell_type": "markdown",
   "metadata": {},
   "source": [
    "Next we'll load the launchpad on which we will store the fireworks. If you haven't configured a launchpad yet, open a terminal and use `vsc config launchpad` to do so. The command below loads the 'base' launchpad (i.e. the default). Change this if necessary."
   ]
  },
  {
   "cell_type": "code",
   "execution_count": 3,
   "metadata": {},
   "outputs": [],
   "source": [
    "# Load the base launchpad\n",
    "lpad = load_config(\"launchpad\", cluster)                # Load whichever launchpad you have configured "
   ]
  },
  {
   "cell_type": "markdown",
   "metadata": {},
   "source": [
    "After running the [`structures.ipynb`](structures.ipynb) notebook, you should have all structure files stored in the `structures` directory. The line of code below makes a list of all the `.json` files in this directory."
   ]
  },
  {
   "cell_type": "code",
   "execution_count": 4,
   "metadata": {},
   "outputs": [],
   "source": [
    "structure_files = [file for file in os.listdir(\"structures\") if \".json\" in file]"
   ]
  },
  {
   "cell_type": "markdown",
   "metadata": {},
   "source": [
    "To submit the workflows to the mongoDB server specified by the `Launchpad` defined above, we will loop over all of the structure files and generate a workflow using the `get_wf_optics` method. This is done in the cell below."
   ]
  },
  {
   "cell_type": "code",
   "execution_count": 5,
   "metadata": {},
   "outputs": [
    {
     "name": "stderr",
     "output_type": "stream",
     "text": [
      "/Users/mbercx/miniconda3/envs/vsc/lib/python3.8/site-packages/pymatgen/io/vasp/sets.py:406: BadInputSetWarning: Overriding the POTCAR functional is generally not recommended  as it significantly affect the results of calculations and compatibility with other calculations done with the same input set. Note that some POTCAR symbols specified in the configuration file may not be available in the selected functional.\n",
      "  warnings.warn(\n"
     ]
    }
   ],
   "source": [
    "# Functional\n",
    "# functional=(\"pbe\", {})\n",
    "functional=(\"hse06\", {})\n",
    "number_nodes = 8\n",
    "\n",
    "scratch_dir = \"/scratch/antwerpen/202/vsc20248/slme/test\"\n",
    "\n",
    "# Set the error handlers\n",
    "handlers = [\n",
    "    VaspErrorHandler(errors_subset_to_catch=[\"zbrent\"]),\n",
    "    ElectronicConvergenceMonitor()\n",
    "]\n",
    "\n",
    "# Change default settings, for e.g. parallelization\n",
    "user_incar_settings = {\n",
    "    \"KPAR\": 2,\n",
    "    \"NPAR\": 5,\n",
    "    \"ALGO\": \"Normal\"\n",
    "}\n",
    "\n",
    "user_kpoints_settings_optimize = {\"reciprocal_density\": 100}\n",
    "user_kpoints_settings_optics = {\"gamma_density\": 500}\n",
    "\n",
    "wf_list = []\n",
    "\n",
    "for file in structure_files:\n",
    "    \n",
    "    structure = Structure.from_file(os.path.join(\"structures\", file)) \n",
    "    directory = os.path.join(scratch_dir, \n",
    "                             file.split(\".\")[0].split(\"_\")[1],\n",
    "                             file.split(\".\")[0].split(\"_\")[0])\n",
    "    \n",
    "    # Add number of nodes to spec, or \"none\"\n",
    "    if number_nodes is not None and number_nodes != 0:\n",
    "        spec = {\"_fworker\": str(number_nodes) + \"nodes\"}\n",
    "    else:\n",
    "        spec = {}\n",
    "    \n",
    "    # 1. Set up the geometry optimization with PBE\n",
    "    vasp_input_params = _set_up_functional_params(\n",
    "        functional=(\"pbe\", {})\n",
    "    )\n",
    "    spec.update(\n",
    "        {\"_launch_dir\": _set_up_relative_directory(directory, (\"pbe\", {}), \"optimize\")}\n",
    "    )\n",
    "\n",
    "    # Override the settings with the user specifications\n",
    "    if user_kpoints_settings_optimize is not None:\n",
    "        vasp_input_params[\"user_kpoints_settings\"] = user_kpoints_settings_optimize\n",
    "    if user_incar_settings is not None:\n",
    "        vasp_input_params[\"user_incar_settings\"].update(user_incar_settings)\n",
    "\n",
    "    # Set up the Firework\n",
    "    optimize_fw_pbe = OptimizeFW(structure=structure,\n",
    "                             vasp_input_params=vasp_input_params,\n",
    "                             custodian=handlers,\n",
    "                             spec=spec)\n",
    "\n",
    "    # 2. Set up the geometry optimization with chosen functional\n",
    "    vasp_input_params = _set_up_functional_params(functional)\n",
    "    spec.update(\n",
    "        {\"_launch_dir\": _set_up_relative_directory(directory, functional, \"optimize\")}\n",
    "    )\n",
    "\n",
    "    # Override the settings with the user specifications\n",
    "    if user_kpoints_settings_optimize is not None:\n",
    "        vasp_input_params[\"user_kpoints_settings\"] = user_kpoints_settings_optimize\n",
    "    if user_incar_settings is not None:\n",
    "        vasp_input_params[\"user_incar_settings\"].update(user_incar_settings)\n",
    "\n",
    "    # Set up the Firework\n",
    "    optimize_fw = OptimizeFW(parents=optimize_fw_pbe,\n",
    "                             vasp_input_params=vasp_input_params,\n",
    "                             custodian=handlers,\n",
    "                             spec=spec)\n",
    "\n",
    "    # 3. Set up the optics calculation\n",
    "    vasp_input_params = _set_up_functional_params(functional)\n",
    "    spec.update({\"_launch_dir\": _set_up_relative_directory(directory, functional,\n",
    "                                                           \"optics\")})\n",
    "    \n",
    "    # Override the settings with the user specifications\n",
    "    if user_kpoints_settings_optics is not None:\n",
    "        vasp_input_params[\"user_kpoints_settings\"] = user_kpoints_settings_optics\n",
    "    if user_incar_settings is not None:\n",
    "        vasp_input_params[\"user_incar_settings\"].update(user_incar_settings)\n",
    "\n",
    "    # Set up the geometry optimization Firework\n",
    "    optics_fw = OpticsFW(\n",
    "        parents=optimize_fw,\n",
    "        vasp_input_params=vasp_input_params,\n",
    "        custodian=handlers,\n",
    "        spec=spec\n",
    "    )\n",
    "\n",
    "    # Set up a clear name for the workflow\n",
    "    workflow_name = \"Optics \"\n",
    "    workflow_name += str(structure.composition.reduced_formula).replace(\" \", \"\")\n",
    "    workflow_name += \" \" + str(functional[0])\n",
    "\n",
    "    # Create the workflow\n",
    "    wf_list.append(\n",
    "        Workflow(fireworks=[optimize_fw_pbe, optimize_fw, optics_fw],\n",
    "                 links_dict={optimize_fw_pbe: [optimize_fw], optimize_fw: [optics_fw]},\n",
    "                 name=workflow_name)\n",
    "    )"
   ]
  },
  {
   "cell_type": "code",
   "execution_count": 7,
   "metadata": {},
   "outputs": [
    {
     "name": "stdout",
     "output_type": "stream",
     "text": [
      "0\n",
      "/scratch/antwerpen/202/vsc20248/slme/test/122/CuAlS2/pbe_optimize\n",
      "1\n",
      "/scratch/antwerpen/202/vsc20248/slme/test/115/CuGaSe2/pbe_optimize\n",
      "2\n",
      "/scratch/antwerpen/202/vsc20248/slme/test/122/AgGaTe2/pbe_optimize\n",
      "3\n",
      "/scratch/antwerpen/202/vsc20248/slme/test/115/CuAlS2/pbe_optimize\n",
      "4\n",
      "/scratch/antwerpen/202/vsc20248/slme/test/122/CuGaSe2/pbe_optimize\n",
      "5\n",
      "/scratch/antwerpen/202/vsc20248/slme/test/115/AgGaTe2/pbe_optimize\n",
      "6\n",
      "/scratch/antwerpen/202/vsc20248/slme/test/115/AgGaSe2/pbe_optimize\n",
      "7\n",
      "/scratch/antwerpen/202/vsc20248/slme/test/122/CuGaTe2/pbe_optimize\n",
      "8\n",
      "/scratch/antwerpen/202/vsc20248/slme/test/122/CuGaS2/pbe_optimize\n",
      "9\n",
      "/scratch/antwerpen/202/vsc20248/slme/test/122/AgInS2/pbe_optimize\n",
      "10\n",
      "/scratch/antwerpen/202/vsc20248/slme/test/122/AgGaSe2/pbe_optimize\n",
      "11\n",
      "/scratch/antwerpen/202/vsc20248/slme/test/115/CuGaTe2/pbe_optimize\n",
      "12\n",
      "/scratch/antwerpen/202/vsc20248/slme/test/115/CuGaS2/pbe_optimize\n",
      "13\n",
      "/scratch/antwerpen/202/vsc20248/slme/test/115/AgInS2/pbe_optimize\n",
      "14\n",
      "/scratch/antwerpen/202/vsc20248/slme/test/115/CuInTe2/pbe_optimize\n",
      "15\n",
      "/scratch/antwerpen/202/vsc20248/slme/test/122/CuAlSe2/pbe_optimize\n",
      "16\n",
      "/scratch/antwerpen/202/vsc20248/slme/test/115/AgAlTe2/pbe_optimize\n",
      "17\n",
      "/scratch/antwerpen/202/vsc20248/slme/test/122/AgInSe2/pbe_optimize\n",
      "18\n",
      "/scratch/antwerpen/202/vsc20248/slme/test/115/AgAlS2/pbe_optimize\n",
      "19\n",
      "/scratch/antwerpen/202/vsc20248/slme/test/122/CuInTe2/pbe_optimize\n",
      "20\n",
      "/scratch/antwerpen/202/vsc20248/slme/test/115/CuAlSe2/pbe_optimize\n",
      "21\n",
      "/scratch/antwerpen/202/vsc20248/slme/test/122/AgAlTe2/pbe_optimize\n",
      "22\n",
      "/scratch/antwerpen/202/vsc20248/slme/test/115/AgInSe2/pbe_optimize\n",
      "23\n",
      "/scratch/antwerpen/202/vsc20248/slme/test/122/AgAlS2/pbe_optimize\n",
      "24\n",
      "/scratch/antwerpen/202/vsc20248/slme/test/115/AgGaS2/pbe_optimize\n",
      "25\n",
      "/scratch/antwerpen/202/vsc20248/slme/test/115/CuInS2/pbe_optimize\n",
      "26\n",
      "/scratch/antwerpen/202/vsc20248/slme/test/122/AgAlSe2/pbe_optimize\n",
      "27\n",
      "/scratch/antwerpen/202/vsc20248/slme/test/115/AgInTe2/pbe_optimize\n",
      "28\n",
      "/scratch/antwerpen/202/vsc20248/slme/test/122/CuInSe2/pbe_optimize\n",
      "29\n",
      "/scratch/antwerpen/202/vsc20248/slme/test/115/CuAlTe2/pbe_optimize\n",
      "30\n",
      "/scratch/antwerpen/202/vsc20248/slme/test/122/AgGaS2/pbe_optimize\n",
      "31\n",
      "/scratch/antwerpen/202/vsc20248/slme/test/122/CuInS2/pbe_optimize\n",
      "32\n",
      "/scratch/antwerpen/202/vsc20248/slme/test/115/AgAlSe2/pbe_optimize\n",
      "33\n",
      "/scratch/antwerpen/202/vsc20248/slme/test/122/AgInTe2/pbe_optimize\n",
      "34\n",
      "/scratch/antwerpen/202/vsc20248/slme/test/115/CuInSe2/pbe_optimize\n",
      "35\n",
      "/scratch/antwerpen/202/vsc20248/slme/test/122/CuAlTe2/pbe_optimize\n"
     ]
    }
   ],
   "source": [
    "for i, l in enumerate(wf_list):\n",
    "    print(i)\n",
    "    print(l.as_dict()[\"fws\"][0][\"spec\"][\"_launch_dir\"])"
   ]
  },
  {
   "cell_type": "code",
   "execution_count": 9,
   "metadata": {},
   "outputs": [
    {
     "name": "stdout",
     "output_type": "stream",
     "text": [
      "2020-01-25 08:36:09,884 INFO Added a workflow. id_map: {-105: 4, -104: 5, -103: 6}\n"
     ]
    },
    {
     "data": {
      "text/plain": [
       "{-105: 4, -104: 5, -103: 6}"
      ]
     },
     "execution_count": 9,
     "metadata": {},
     "output_type": "execute_result"
    }
   ],
   "source": [
    "# lpad.bulk_add_wfs(wf_list)\n",
    "lpad.add_wf(wf_list[34])"
   ]
  },
  {
   "cell_type": "code",
   "execution_count": null,
   "metadata": {},
   "outputs": [],
   "source": []
  }
 ],
 "metadata": {
  "kernelspec": {
   "display_name": "Python 3",
   "language": "python",
   "name": "python3"
  },
  "language_info": {
   "codemirror_mode": {
    "name": "ipython",
    "version": 3
   },
   "file_extension": ".py",
   "mimetype": "text/x-python",
   "name": "python",
   "nbconvert_exporter": "python",
   "pygments_lexer": "ipython3",
   "version": "3.8.1"
  }
 },
 "nbformat": 4,
 "nbformat_minor": 4
}
