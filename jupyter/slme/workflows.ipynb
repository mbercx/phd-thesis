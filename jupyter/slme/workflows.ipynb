{
 "cells": [
  {
   "cell_type": "markdown",
   "metadata": {},
   "source": [
    "# SLME - Workflows\n",
    "\n",
    "To calculate the SLME, we require the absorption coefficient of the material, as well as the direct and indirect band gap. As the CuAu and chalcopyrite materials we investigate all have direct band gaps in the $\\Gamma$ point, we can obtain a very accurate band gap from the optics calculation itself."
   ]
  },
  {
   "cell_type": "code",
   "execution_count": 1,
   "metadata": {},
   "outputs": [],
   "source": [
    "# Notebook header\n",
    "\n",
    "import os, json\n",
    "from monty.json import MontyDecoder\n",
    "from pymatgen import Structure\n",
    "from custodian.vasp.handlers import VaspErrorHandler\n",
    "from vscworkflows.config import load_config\n",
    "from vscworkflows.handlers.core import ElectronicConvergenceMonitor\n",
    "from vscworkflows.fireworks.core import OptimizeFW, OpticsFW\n",
    "from vscworkflows.workflows.core import _set_up_functional_params, \\\n",
    "    _set_up_relative_directory, Workflow"
   ]
  },
  {
   "cell_type": "markdown",
   "metadata": {},
   "source": [
    "First we will define the directory in which we will perform the calculations on the cluster. Note that if you want to run this notebook to replicate my results, you will have to adjust this directory!"
   ]
  },
  {
   "cell_type": "code",
   "execution_count": 2,
   "metadata": {},
   "outputs": [],
   "source": [
    "cluster = \"leibniz\"\n",
    "\n",
    "# Set up the scratch dir\n",
    "if cluster == \"breniac\":\n",
    "    scratch_dir = \"/scratch/leuven/202/vsc20248/slme/high-throughput\"   # This should be changed to your directory\n",
    "else:\n",
    "    scratch_dir = \"/scratch/antwerpen/202/vsc20248/slme/high-throughput\"   # This should be changed to your directory"
   ]
  },
  {
   "cell_type": "markdown",
   "metadata": {},
   "source": [
    "Next we'll load the launchpad on which we will store the fireworks. If you haven't configured a launchpad yet, open a terminal and use `vsc config launchpad` to do so. The command below loads the 'base' launchpad (i.e. the default). Change this if necessary."
   ]
  },
  {
   "cell_type": "code",
   "execution_count": 3,
   "metadata": {},
   "outputs": [],
   "source": [
    "# Load the base launchpad\n",
    "lpad = load_config(\"launchpad\", cluster)                # Load whichever launchpad you have configured "
   ]
  },
  {
   "cell_type": "markdown",
   "metadata": {},
   "source": [
    "After running the [`structures.ipynb`](structures.ipynb) notebook, you should have all structure files stored in the `structures` directory. The line of code below makes a list of all the `.json` files in this directory."
   ]
  },
  {
   "cell_type": "code",
   "execution_count": 4,
   "metadata": {},
   "outputs": [],
   "source": [
    "structure_files = [file for file in os.listdir(\"structures\") if \".json\" in file]"
   ]
  },
  {
   "cell_type": "markdown",
   "metadata": {},
   "source": [
    "To submit the workflows to the mongoDB server specified by the `Launchpad` defined above, we will loop over all of the structure files and generate a workflow using the `get_wf_optics` method. This is done in the cell below."
   ]
  },
  {
   "cell_type": "code",
   "execution_count": 5,
   "metadata": {},
   "outputs": [],
   "source": [
    "# Functional\n",
    "# functional=(\"pbe\", {})\n",
    "functional=(\"hse06\", {})\n",
    "number_nodes = 8\n",
    "\n",
    "scratch_dir = \"/scratch/antwerpen/202/vsc20248/slme/high-throughput\"\n",
    "\n",
    "# Set the error handlers\n",
    "handlers = [\n",
    "    VaspErrorHandler(errors_subset_to_catch=[\"zbrent\"]),\n",
    "    ElectronicConvergenceMonitor()\n",
    "]\n",
    "\n",
    "# Change default settings, for e.g. parallelization\n",
    "user_incar_settings = {\n",
    "    \"KPAR\": 4,\n",
    "    \"NPAR\": 8,\n",
    "    \"ALGO\": \"Normal\",\n",
    "}\n",
    "\n",
    "user_kpoints_settings_optimize = {\"reciprocal_density\": 100}\n",
    "user_kpoints_settings_optics = {\"gamma_density\": 500}\n",
    "\n",
    "wf_list = []\n",
    "\n",
    "for file in structure_files:\n",
    "    \n",
    "    structure = Structure.from_file(os.path.join(\"structures\", file)) \n",
    "    directory = os.path.join(scratch_dir, \n",
    "                             file.split(\".\")[0].split(\"_\")[1],\n",
    "                             file.split(\".\")[0].split(\"_\")[0])\n",
    "    \n",
    "    # Add number of nodes to spec, or \"none\"\n",
    "    if number_nodes is not None and number_nodes != 0:\n",
    "        spec = {\"_fworker\": str(number_nodes) + \"nodes\"}\n",
    "    else:\n",
    "        spec = {}\n",
    "    \n",
    "    # 1. Set up the geometry optimization with PBE\n",
    "    vasp_input_params = _set_up_functional_params(\n",
    "        functional=(\"pbe\", {})\n",
    "    )\n",
    "    spec.update(\n",
    "        {\"_launch_dir\": _set_up_relative_directory(directory, (\"pbe\", {}), \"optimize\")}\n",
    "    )\n",
    "\n",
    "    # Override the settings with the user specifications\n",
    "    if user_kpoints_settings_optimize is not None:\n",
    "        vasp_input_params[\"user_kpoints_settings\"] = user_kpoints_settings_optimize\n",
    "    if user_incar_settings is not None:\n",
    "        vasp_input_params[\"user_incar_settings\"].update(user_incar_settings)\n",
    "\n",
    "    # Set up the Firework\n",
    "    optimize_fw_pbe = OptimizeFW(structure=structure,\n",
    "                             vasp_input_params=vasp_input_params,\n",
    "                             custodian=handlers,\n",
    "                             spec=spec)\n",
    "\n",
    "    # 2. Set up the geometry optimization with chosen functional\n",
    "    vasp_input_params = _set_up_functional_params(functional)\n",
    "    spec.update(\n",
    "        {\"_launch_dir\": _set_up_relative_directory(directory, functional, \"optimize\")}\n",
    "    )\n",
    "\n",
    "    # Override the settings with the user specifications\n",
    "    if user_kpoints_settings_optimize is not None:\n",
    "        vasp_input_params[\"user_kpoints_settings\"] = user_kpoints_settings_optimize\n",
    "    if user_incar_settings is not None:\n",
    "        vasp_input_params[\"user_incar_settings\"].update(user_incar_settings)\n",
    "\n",
    "    # Set up the Firework\n",
    "    optimize_fw = OptimizeFW(parents=optimize_fw_pbe,\n",
    "                             vasp_input_params=vasp_input_params,\n",
    "                             custodian=handlers,\n",
    "                             spec=spec)\n",
    "\n",
    "    # 3. Set up the optics calculation\n",
    "    vasp_input_params = _set_up_functional_params(functional)\n",
    "    spec.update({\"_launch_dir\": _set_up_relative_directory(directory, functional,\n",
    "                                                           \"optics\")})\n",
    "    \n",
    "    # Override the settings with the user specifications\n",
    "    if user_kpoints_settings_optics is not None:\n",
    "        vasp_input_params[\"user_kpoints_settings\"] = user_kpoints_settings_optics\n",
    "    if user_incar_settings is not None:\n",
    "        vasp_input_params[\"user_incar_settings\"].update(user_incar_settings)\n",
    "\n",
    "    # Set up the geometry optimization Firework\n",
    "    optics_fw = OpticsFW(\n",
    "        parents=optimize_fw,\n",
    "        vasp_input_params=vasp_input_params,\n",
    "        custodian=handlers,\n",
    "        spec=spec\n",
    "    )\n",
    "\n",
    "    # Set up a clear name for the workflow\n",
    "    workflow_name = \"Optics \"\n",
    "    workflow_name += str(structure.composition.reduced_formula).replace(\" \", \"\")\n",
    "    workflow_name += \" \" + str(functional[0])\n",
    "\n",
    "    # Create the workflow\n",
    "    wf_list.append(\n",
    "        Workflow(fireworks=[optimize_fw_pbe, optimize_fw, optics_fw],\n",
    "                 links_dict={optimize_fw_pbe: [optimize_fw], optimize_fw: [optics_fw]},\n",
    "                 name=workflow_name)\n",
    "    )"
   ]
  },
  {
   "cell_type": "code",
   "execution_count": 14,
   "metadata": {},
   "outputs": [
    {
     "name": "stdout",
     "output_type": "stream",
     "text": [
      "('I-42d', 122)\n",
      "Cu2 Al2 S4\n",
      "('P-4m2', 115)\n",
      "Cu1 Ga1 Se2\n",
      "('I-42d', 122)\n",
      "Ag2 Ga2 Te4\n",
      "('P-4m2', 115)\n",
      "Cu1 Al1 S2\n",
      "('I-42d', 122)\n",
      "Cu2 Ga2 Se4\n",
      "('P-4m2', 115)\n",
      "Ag1 Ga1 Te2\n",
      "('P-4m2', 115)\n",
      "Ag1 Ga1 Se2\n",
      "('I-42d', 122)\n",
      "Cu2 Ga2 Te4\n",
      "('I-42d', 122)\n",
      "Cu2 Ga2 S4\n",
      "('I-42d', 122)\n",
      "Ag2 In2 S4\n",
      "('I-42d', 122)\n",
      "Ag2 Ga2 Se4\n",
      "('P-4m2', 115)\n",
      "Cu1 Ga1 Te2\n",
      "('P-4m2', 115)\n",
      "Cu1 Ga1 S2\n",
      "('P-4m2', 115)\n",
      "Ag1 In1 S2\n",
      "('P-4m2', 115)\n",
      "Cu1 In1 Te2\n",
      "('I-42d', 122)\n",
      "Cu2 Al2 Se4\n",
      "('P-4m2', 115)\n",
      "Ag1 Al1 Te2\n",
      "('I-42d', 122)\n",
      "Ag2 In2 Se4\n",
      "('P-4m2', 115)\n",
      "Ag1 Al1 S2\n",
      "('I-42d', 122)\n",
      "Cu2 In2 Te4\n",
      "('P-4m2', 115)\n",
      "Cu1 Al1 Se2\n",
      "('I-42d', 122)\n",
      "Ag2 Al2 Te4\n",
      "('P-4m2', 115)\n",
      "Ag1 In1 Se2\n",
      "('I-42d', 122)\n",
      "Ag2 Al2 S4\n",
      "('P-4m2', 115)\n",
      "Ag1 Ga1 S2\n",
      "('P-4m2', 115)\n",
      "Cu1 In1 S2\n",
      "('I-42d', 122)\n",
      "Ag2 Al2 Se4\n",
      "('P-4m2', 115)\n",
      "Ag1 In1 Te2\n",
      "('I-42d', 122)\n",
      "Cu2 In2 Se4\n",
      "('P-4m2', 115)\n",
      "Cu1 Al1 Te2\n",
      "('I-42d', 122)\n",
      "Ag2 Ga2 S4\n",
      "('I-42d', 122)\n",
      "Cu2 In2 S4\n",
      "('P-4m2', 115)\n",
      "Ag1 Al1 Se2\n",
      "('I-42d', 122)\n",
      "Ag2 In2 Te4\n",
      "('P-4m2', 115)\n",
      "Cu1 In1 Se2\n",
      "('I-42d', 122)\n",
      "Cu2 Al2 Te4\n"
     ]
    }
   ],
   "source": [
    "with open(\"data/solar.json\", \"r\") as file:\n",
    "    solar_data = json.loads(file.read(), cls=MontyDecoder)\n",
    "    \n",
    "issue_structures = [v[\"structure\"] for v in solar_data.values() \n",
    "                    if v[\"issues\"][\"solar\"] is None]\n",
    "# issue_structures = [str(s.get_space_group_info()[1]) +  for s in issue_structures]\n",
    "\n",
    "for i, l in enumerate(wf_list):\n",
    "    s = Structure.from_dict(l.as_dict()[\"fws\"][0][\"spec\"][\"_tasks\"][0][\"vasp_input_set\"][\"structure\"])\n",
    "    print(s.get_space_group_info())\n",
    "    print(s.composition.iupac_formula)"
   ]
  },
  {
   "cell_type": "code",
   "execution_count": 6,
   "metadata": {},
   "outputs": [
    {
     "name": "stdout",
     "output_type": "stream",
     "text": [
      "2020-02-07 15:48:24,186 INFO Added a workflow. id_map: {-99: 8, -98: 9, -97: 10}\n"
     ]
    },
    {
     "data": {
      "text/plain": [
       "{-99: 8, -98: 9, -97: 10}"
      ]
     },
     "execution_count": 6,
     "metadata": {},
     "output_type": "execute_result"
    }
   ],
   "source": [
    "# lpad.bulk_add_wfs(wf_list)\n",
    "lpad.add_wf(wf_list[32])"
   ]
  },
  {
   "cell_type": "code",
   "execution_count": null,
   "metadata": {},
   "outputs": [],
   "source": []
  }
 ],
 "metadata": {
  "kernelspec": {
   "display_name": "Python 3",
   "language": "python",
   "name": "python3"
  },
  "language_info": {
   "codemirror_mode": {
    "name": "ipython",
    "version": 3
   },
   "file_extension": ".py",
   "mimetype": "text/x-python",
   "name": "python",
   "nbconvert_exporter": "python",
   "pygments_lexer": "ipython3",
   "version": "3.8.1"
  }
 },
 "nbformat": 4,
 "nbformat_minor": 4
}
