{
 "cells": [
  {
   "cell_type": "markdown",
   "metadata": {},
   "source": [
    "# SLME - Workflows\n",
    "\n",
    "To calculate the SLME, we require the absorption coefficient of the material, as well as the direct and indirect band gap. As the CuAu and chalcopyrite materials we investigate all have direct band gaps in the $\\Gamma$ point, we can obtain a very accurate band gap from the optics calculation itself."
   ]
  },
  {
   "cell_type": "code",
   "execution_count": 2,
   "metadata": {},
   "outputs": [],
   "source": [
    "# Notebook header\n",
    "\n",
    "import os\n",
    "from pymatgen import Structure\n",
    "from custodian.vasp.handlers import VaspErrorHandler\n",
    "from vscworkflows.config import load_config\n",
    "from vscworkflows.fireworks.core import OptimizeFW, OpticsFW\n",
    "from vscworkflows.workflows.core import _set_up_functional_params, \\\n",
    "    _set_up_relative_directory, Workflow"
   ]
  },
  {
   "cell_type": "markdown",
   "metadata": {},
   "source": [
    "First we will define the directory in which we will perform the calculations on the cluster. Note that if you want to run this notebook to replicate my results, you will have to adjust this directory!"
   ]
  },
  {
   "cell_type": "code",
   "execution_count": 3,
   "metadata": {},
   "outputs": [],
   "source": [
    "cluster = \"breniac\"\n",
    "\n",
    "# Set up the scratch dir\n",
    "if cluster == \"breniac\":\n",
    "    scratch_dir = \"/scratch/leuven/202/vsc20248/slme/test\"   # This should be changed to your directory\n",
    "else:\n",
    "    scratch_dir = \"/scratch/antwerpen/202/vsc20248/slme/test\"   # This should be changed to your directory"
   ]
  },
  {
   "cell_type": "markdown",
   "metadata": {},
   "source": [
    "Next we'll load the launchpad on which we will store the fireworks. If you haven't configured a launchpad yet, open a terminal and use `vsc config launchpad` to do so. The command below loads the 'base' launchpad (i.e. the default). Change this if necessary."
   ]
  },
  {
   "cell_type": "code",
   "execution_count": 4,
   "metadata": {},
   "outputs": [],
   "source": [
    "# Load the base launchpad\n",
    "lpad = load_config(\"launchpad\", cluster)                # Load whichever launchpad you have configured "
   ]
  },
  {
   "cell_type": "markdown",
   "metadata": {},
   "source": [
    "After running the [`structures.ipynb`](structures.ipynb) notebook, you should have all structure files stored in the `structures` directory. The line of code below makes a list of all the `.json` files in this directory."
   ]
  },
  {
   "cell_type": "code",
   "execution_count": 5,
   "metadata": {},
   "outputs": [],
   "source": [
    "structure_files = [file for file in os.listdir(\"structures\") if \".json\" in file]"
   ]
  },
  {
   "cell_type": "markdown",
   "metadata": {},
   "source": [
    "To submit the workflows to the mongoDB server specified by the `Launchpad` defined above, we will loop over all of the structure files and generate a workflow using the `get_wf_optics` method. This is done in the cell below."
   ]
  },
  {
   "cell_type": "code",
   "execution_count": 5,
   "metadata": {},
   "outputs": [
    {
     "name": "stdout",
     "output_type": "stream",
     "text": [
      "2019-11-25 14:35:25,617 INFO Added a workflow. id_map: {-3: 1262, -2: 1263, -1: 1264}\n",
      "2019-11-25 14:35:25,707 INFO Added a workflow. id_map: {-6: 1265, -5: 1266, -4: 1267}\n",
      "2019-11-25 14:35:25,795 INFO Added a workflow. id_map: {-9: 1268, -8: 1269, -7: 1270}\n",
      "2019-11-25 14:35:25,886 INFO Added a workflow. id_map: {-12: 1271, -11: 1272, -10: 1273}\n",
      "2019-11-25 14:35:25,982 INFO Added a workflow. id_map: {-15: 1274, -14: 1275, -13: 1276}\n",
      "2019-11-25 14:35:26,078 INFO Added a workflow. id_map: {-18: 1277, -17: 1278, -16: 1279}\n",
      "2019-11-25 14:35:26,166 INFO Added a workflow. id_map: {-21: 1280, -20: 1281, -19: 1282}\n",
      "2019-11-25 14:35:26,261 INFO Added a workflow. id_map: {-24: 1283, -23: 1284, -22: 1285}\n",
      "2019-11-25 14:35:26,353 INFO Added a workflow. id_map: {-27: 1286, -26: 1287, -25: 1288}\n",
      "2019-11-25 14:35:26,450 INFO Added a workflow. id_map: {-30: 1289, -29: 1290, -28: 1291}\n",
      "2019-11-25 14:35:26,543 INFO Added a workflow. id_map: {-33: 1292, -32: 1293, -31: 1294}\n",
      "2019-11-25 14:35:26,638 INFO Added a workflow. id_map: {-36: 1295, -35: 1296, -34: 1297}\n",
      "2019-11-25 14:35:26,729 INFO Added a workflow. id_map: {-39: 1298, -38: 1299, -37: 1300}\n",
      "2019-11-25 14:35:26,825 INFO Added a workflow. id_map: {-42: 1301, -41: 1302, -40: 1303}\n",
      "2019-11-25 14:35:26,918 INFO Added a workflow. id_map: {-45: 1304, -44: 1305, -43: 1306}\n",
      "2019-11-25 14:35:27,012 INFO Added a workflow. id_map: {-48: 1307, -47: 1308, -46: 1309}\n",
      "2019-11-25 14:35:27,110 INFO Added a workflow. id_map: {-51: 1310, -50: 1311, -49: 1312}\n",
      "2019-11-25 14:35:27,203 INFO Added a workflow. id_map: {-54: 1313, -53: 1314, -52: 1315}\n",
      "2019-11-25 14:35:27,299 INFO Added a workflow. id_map: {-57: 1316, -56: 1317, -55: 1318}\n",
      "2019-11-25 14:35:27,392 INFO Added a workflow. id_map: {-60: 1319, -59: 1320, -58: 1321}\n",
      "2019-11-25 14:35:27,488 INFO Added a workflow. id_map: {-63: 1322, -62: 1323, -61: 1324}\n",
      "2019-11-25 14:35:27,585 INFO Added a workflow. id_map: {-66: 1325, -65: 1326, -64: 1327}\n",
      "2019-11-25 14:35:27,677 INFO Added a workflow. id_map: {-69: 1328, -68: 1329, -67: 1330}\n",
      "2019-11-25 14:35:27,771 INFO Added a workflow. id_map: {-72: 1331, -71: 1332, -70: 1333}\n",
      "2019-11-25 14:35:27,861 INFO Added a workflow. id_map: {-75: 1334, -74: 1335, -73: 1336}\n",
      "2019-11-25 14:35:27,955 INFO Added a workflow. id_map: {-78: 1337, -77: 1338, -76: 1339}\n"
     ]
    }
   ],
   "source": [
    "# Functional\n",
    "functional=(\"hse06\", {})\n",
    "number_nodes = 8\n",
    "\n",
    "# Set the error handlers\n",
    "handlers = [\n",
    "    VaspErrorHandler(errors_subset_to_catch=[\"zbrent\"])\n",
    "]\n",
    "\n",
    "# Change default settings, for e.g. parallelization\n",
    "user_incar_settings = {\n",
    "    \"KPAR\": 2,\n",
    "    \"NPAR\": 7\n",
    "}\n",
    "\n",
    "user_kpoints_settings_optimize = {\"reciprocal_density\": 100}\n",
    "user_kpoints_settings_optics = {\"gamma_density\": 500}\n",
    "\n",
    "for file in structure_files[10:]:\n",
    "    \n",
    "    structure = Structure.from_file(os.path.join(\"structures\", file)) \n",
    "    directory = os.path.join(scratch_dir, \n",
    "                             file.split(\".\")[0].split(\"_\")[1],\n",
    "                             file.split(\".\")[0].split(\"_\")[0])\n",
    "    \n",
    "    # Add number of nodes to spec, or \"none\"\n",
    "    if number_nodes is not None and number_nodes != 0:\n",
    "        spec = {\"_fworker\": str(number_nodes) + \"nodes\"}\n",
    "    else:\n",
    "        spec = {}\n",
    "    \n",
    "    # 1. Set up the geometry optimization with PBE\n",
    "    vasp_input_params = _set_up_functional_params(\n",
    "        functional=(\"pbe\", {})\n",
    "    )\n",
    "    spec.update(\n",
    "        {\"_launch_dir\": _set_up_relative_directory(directory, (\"pbe\", {}), \"optimize\")}\n",
    "    )\n",
    "\n",
    "    # Override the settings with the user specifications\n",
    "    if user_kpoints_settings_optimize is not None:\n",
    "        vasp_input_params[\"user_kpoints_settings\"] = user_kpoints_settings_optimize\n",
    "    if user_incar_settings is not None:\n",
    "        vasp_input_params[\"user_incar_settings\"].update(user_incar_settings)\n",
    "\n",
    "    # Set up the Firework\n",
    "    optimize_fw_pbe = OptimizeFW(structure=structure,\n",
    "                             vasp_input_params=vasp_input_params,\n",
    "                             custodian=handlers,\n",
    "                             spec=spec)\n",
    "\n",
    "    # 2. Set up the geometry optimization with chosen functional\n",
    "    vasp_input_params = _set_up_functional_params(functional)\n",
    "    spec.update(\n",
    "        {\"_launch_dir\": _set_up_relative_directory(directory, functional, \"optimize\")}\n",
    "    )\n",
    "\n",
    "    # Override the settings with the user specifications\n",
    "    if user_kpoints_settings_optimize is not None:\n",
    "        vasp_input_params[\"user_kpoints_settings\"] = user_kpoints_settings_optimize\n",
    "    if user_incar_settings is not None:\n",
    "        vasp_input_params[\"user_incar_settings\"].update(user_incar_settings)\n",
    "\n",
    "    # Set up the Firework\n",
    "    optimize_fw = OptimizeFW(parents=optimize_fw_pbe,\n",
    "                             vasp_input_params=vasp_input_params,\n",
    "                             custodian=handlers,\n",
    "                             spec=spec)\n",
    "\n",
    "    # 3. Set up the optics calculation\n",
    "    vasp_input_params = _set_up_functional_params(functional)\n",
    "    spec.update({\"_launch_dir\": _set_up_relative_directory(directory, functional,\n",
    "                                                           \"optics\")})\n",
    "    \n",
    "    # Override the settings with the user specifications\n",
    "    if user_kpoints_settings_optics is not None:\n",
    "        vasp_input_params[\"user_kpoints_settings\"] = user_kpoints_settings_optics\n",
    "    if user_incar_settings is not None:\n",
    "        vasp_input_params[\"user_incar_settings\"].update(user_incar_settings)\n",
    "\n",
    "    # Set up the geometry optimization Firework\n",
    "    optics_fw = OpticsFW(\n",
    "        parents=optimize_fw,\n",
    "        vasp_input_params=vasp_input_params,\n",
    "        custodian=handlers,\n",
    "        spec=spec\n",
    "    )\n",
    "\n",
    "    # Set up a clear name for the workflow\n",
    "    workflow_name = \"Optics \"\n",
    "    workflow_name += str(structure.composition.reduced_formula).replace(\" \", \"\")\n",
    "    workflow_name += \" \" + str(functional[0])\n",
    "\n",
    "    # Create the workflow\n",
    "    lpad.add_wf(\n",
    "        Workflow(fireworks=[optimize_fw_pbe, optimize_fw, optics_fw],\n",
    "                 links_dict={optimize_fw_pbe: [optimize_fw], optimize_fw: [optics_fw]},\n",
    "                 name=workflow_name)\n",
    "    )"
   ]
  },
  {
   "cell_type": "code",
   "execution_count": null,
   "metadata": {},
   "outputs": [],
   "source": []
  }
 ],
 "metadata": {
  "kernelspec": {
   "display_name": "Python 3",
   "language": "python",
   "name": "python3"
  },
  "language_info": {
   "codemirror_mode": {
    "name": "ipython",
    "version": 3
   },
   "file_extension": ".py",
   "mimetype": "text/x-python",
   "name": "python",
   "nbconvert_exporter": "python",
   "pygments_lexer": "ipython3",
   "version": "3.7.5"
  }
 },
 "nbformat": 4,
 "nbformat_minor": 4
}
