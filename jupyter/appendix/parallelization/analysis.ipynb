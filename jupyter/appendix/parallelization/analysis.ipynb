{
 "cells": [
  {
   "cell_type": "markdown",
   "metadata": {},
   "source": [
    "# Parallelization Analysis\n",
    "\n",
    "The cell below starts an interface for analyzing timing data from parallelization tests. First choose one of the `.json` files from the `data` directory, and then click the 'Analyze Data' button. The resulting interface will have 4 tabs, each containing one of the plots we've been experimenting with. Here's a short description of each:\n",
    "\n",
    "- **Timestep**: This simple plot plots the average time per electronic step (in seconds) versus the number of nodes used in the calculation, or the KPAR setting.\n",
    "- **Chessboard**: Here you can see a colormap of the average time per electronic step (in seconds) for all KPAR and NCORE/NPAR settings that are possible for a chosen number of nodes.\n",
    "- **Tetris**: This one is similar to the chessboard plot, but you can choose which settings, including the number of nodes, to plot. The chessboard plots for the chosen node resources are plotted next to each other. \n",
    "- **Optimal**: Here the timing of the optimal NPAR/KPAR settings for each of the resouce choices is plotted, along with the efficiency compared to the lowest amount of resources."
   ]
  },
  {
   "cell_type": "code",
   "execution_count": 1,
   "metadata": {},
   "outputs": [
    {
     "data": {
      "application/vnd.jupyter.widget-view+json": {
       "model_id": "e80e755f4e2546fdaede0bb930952b32",
       "version_major": 2,
       "version_minor": 0
      },
      "text/plain": [
       "FileChooser(path='data', filename='', show_hidden='False')"
      ]
     },
     "metadata": {},
     "output_type": "display_data"
    },
    {
     "data": {
      "application/vnd.jupyter.widget-view+json": {
       "model_id": "bc03b33140ff40a19065915f7d461171",
       "version_major": 2,
       "version_minor": 0
      },
      "text/plain": [
       "Button(description='Analyze Data', style=ButtonStyle())"
      ]
     },
     "metadata": {},
     "output_type": "display_data"
    },
    {
     "data": {
      "application/vnd.jupyter.widget-view+json": {
       "model_id": "c7d9df88bf1049fcb1634954fc4e96e6",
       "version_major": 2,
       "version_minor": 0
      },
      "text/plain": [
       "Output()"
      ]
     },
     "metadata": {},
     "output_type": "display_data"
    }
   ],
   "source": [
    "from ipyfilechooser import FileChooser\n",
    "from parallel_plots import interface\n",
    "from ipywidgets import Button, Output\n",
    "\n",
    "button = Button(description=\"Analyze Data\")\n",
    "output = Output()\n",
    "\n",
    "f = FileChooser(\"data\")\n",
    "display(f, button, output)\n",
    "\n",
    "def on_button_clicked(b):\n",
    "    with output:\n",
    "        output.clear_output()\n",
    "        display(interface(f))\n",
    "\n",
    "button.on_click(on_button_clicked)"
   ]
  },
  {
   "cell_type": "code",
   "execution_count": null,
   "metadata": {},
   "outputs": [],
   "source": []
  }
 ],
 "metadata": {
  "kernelspec": {
   "display_name": "Python 3",
   "language": "python",
   "name": "python3"
  },
  "language_info": {
   "codemirror_mode": {
    "name": "ipython",
    "version": 3
   },
   "file_extension": ".py",
   "mimetype": "text/x-python",
   "name": "python",
   "nbconvert_exporter": "python",
   "pygments_lexer": "ipython3",
   "version": "3.8.1"
  }
 },
 "nbformat": 4,
 "nbformat_minor": 4
}
