{
 "cells": [
  {
   "cell_type": "markdown",
   "metadata": {},
   "source": [
    "# Optics - Workflows\n",
    "\n",
    "The optical workflows used to calculate the dielectric tensor are a basic combination of a geometry optimization workflow and a calculation of the dielectric tensor using VASP's `LOPTICS` tag. In this notebook we'll show how to set up a basic optical workflow."
   ]
  },
  {
   "cell_type": "code",
   "execution_count": 1,
   "metadata": {},
   "outputs": [],
   "source": [
    "# Notebook header\n",
    "\n",
    "import os\n",
    "\n",
    "from pymatgen import Structure\n",
    "from custodian.vasp.handlers import VaspErrorHandler\n",
    "\n",
    "from vscworkflows.config import load_config\n",
    "from vscworkflows.handlers.core import ElectronicConvergenceMonitor\n",
    "from vscworkflows.workflows.core import get_wf_optics"
   ]
  },
  {
   "cell_type": "markdown",
   "metadata": {},
   "source": [
    "As an example structure, we'll load the structure of silicon. This has been previously downloaded from the materials project using the `MPRester`. Now, we will load it from the `data` directory."
   ]
  },
  {
   "cell_type": "code",
   "execution_count": 2,
   "metadata": {},
   "outputs": [],
   "source": [
    "si_structure = Structure.from_file(\"data/Si_227.json\")"
   ]
  },
  {
   "cell_type": "markdown",
   "metadata": {},
   "source": [
    "First we will define the directory in which we will perform the calculations on the cluster. Note that if you want to run this notebook and test the optics workflow, **you will have to adjust this directory**."
   ]
  },
  {
   "cell_type": "code",
   "execution_count": 3,
   "metadata": {},
   "outputs": [],
   "source": [
    "# This should be changed to your directory\n",
    "scratch_dir = \"/scratch/antwerpen/202/vsc20248/workflows/optics\"   "
   ]
  },
  {
   "cell_type": "markdown",
   "metadata": {},
   "source": [
    "Next we'll load the launchpad on which we will store the fireworks. If you haven't configured a launchpad yet, open a terminal and use `vsc config launchpad` to do so. If you don't know what a launchpad is, read the [introductory tutorial of Fireworks](https://materialsproject.github.io/fireworks/introduction.html) and/or follow the short tutorial I have written on [setting up the workflow server and launchpad](https://github.com/mbercx/jupyter/blob/master/vsc-workflows/tutorials/configuration/server_setup.md). The command below loads the 'base' launchpad (i.e. the default). Change this if necessary.\n",
    "\n",
    "> If you're new to Jupyter lab, remember that you can use `Shift+Tab` to see the signature and docstring of any function you have your text cursor on."
   ]
  },
  {
   "cell_type": "code",
   "execution_count": 4,
   "metadata": {},
   "outputs": [],
   "source": [
    "# Load the base launchpad\n",
    "lpad = load_config(\"launchpad\")                # Load whichever launchpad you have configured "
   ]
  },
  {
   "cell_type": "markdown",
   "metadata": {},
   "source": [
    "Next, we'll set up the workflow using the minimal input arguments, i.e. with the basic settings."
   ]
  },
  {
   "cell_type": "code",
   "execution_count": 5,
   "metadata": {},
   "outputs": [],
   "source": [
    "wf_basic = get_wf_optics(\n",
    "    structure=si_structure, \n",
    "    directory=scratch_dir\n",
    ")"
   ]
  },
  {
   "cell_type": "markdown",
   "metadata": {},
   "source": [
    "The final step is to send the workflows to the mongoDB server, _a.k.a._ the `Launchpad`."
   ]
  },
  {
   "cell_type": "code",
   "execution_count": 7,
   "metadata": {},
   "outputs": [
    {
     "name": "stdout",
     "output_type": "stream",
     "text": [
      "2020-01-26 19:41:47,347 INFO Added a workflow. id_map: {-2: 4, -1: 5}\n"
     ]
    },
    {
     "data": {
      "text/plain": [
       "{-2: 4, -1: 5}"
      ]
     },
     "execution_count": 7,
     "metadata": {},
     "output_type": "execute_result"
    }
   ],
   "source": [
    "lpad.add_wf(wf_basic)"
   ]
  },
  {
   "cell_type": "code",
   "execution_count": null,
   "metadata": {},
   "outputs": [],
   "source": []
  }
 ],
 "metadata": {
  "kernelspec": {
   "display_name": "Python 3",
   "language": "python",
   "name": "python3"
  },
  "language_info": {
   "codemirror_mode": {
    "name": "ipython",
    "version": 3
   },
   "file_extension": ".py",
   "mimetype": "text/x-python",
   "name": "python",
   "nbconvert_exporter": "python",
   "pygments_lexer": "ipython3",
   "version": "3.8.1"
  }
 },
 "nbformat": 4,
 "nbformat_minor": 4
}
