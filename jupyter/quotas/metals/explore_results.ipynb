{
 "cells": [
  {
   "cell_type": "code",
   "execution_count": 3,
   "metadata": {},
   "outputs": [
    {
     "data": {
      "application/vnd.jupyter.widget-view+json": {
       "model_id": "bbbea46c54444285993aa090e61f3086",
       "version_major": 2,
       "version_minor": 0
      },
      "text/plain": [
       "interactive(children=(Dropdown(description='element', options=('Ag', 'Al', 'As', 'Au', 'Ba', 'Be', 'Bi', 'Ca',…"
      ]
     },
     "metadata": {},
     "output_type": "display_data"
    }
   ],
   "source": [
    "import ruamel.yaml as yaml\n",
    "\n",
    "from ipywidgets import interact    \n",
    "from explore_interface import element_interface\n",
    "\n",
    "with open(\"../data/structure_dict.yaml\", \"r\") as file:\n",
    "    structure_dict = yaml.safe_load(file.read())\n",
    "\n",
    "interact(element_interface, element=structure_dict.keys(),\n",
    "         calculation=[\"Secondary Electron Emission\", \"DOS\",\n",
    "                          \"Projected DOS\", \"Local Potential\", \"Loss Function\"]);"
   ]
  },
  {
   "cell_type": "code",
   "execution_count": null,
   "metadata": {},
   "outputs": [],
   "source": []
  }
 ],
 "metadata": {
  "kernelspec": {
   "display_name": "Python 3",
   "language": "python",
   "name": "python3"
  },
  "language_info": {
   "codemirror_mode": {
    "name": "ipython",
    "version": 3
   },
   "file_extension": ".py",
   "mimetype": "text/x-python",
   "name": "python",
   "nbconvert_exporter": "python",
   "pygments_lexer": "ipython3",
   "version": "3.8.1"
  }
 },
 "nbformat": 4,
 "nbformat_minor": 4
}
