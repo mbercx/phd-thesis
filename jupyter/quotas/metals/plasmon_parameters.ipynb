{
 "cells": [
  {
   "cell_type": "markdown",
   "metadata": {},
   "source": [
    "# Setting the plasmon parameters\n",
    "\n",
    "For the QUOTAS model, we have introduced two parameters used in the calculation of plasmon excitations. As we want to make predictions for the secondary emission yield of other materials, we want to fix these parameters for the model before applying it to the metals for which we have calculated the required input. As we only have experimental results for Mg, Al, Be, Cu(110), Ni(111) and W, we will fit the parameters to these yield distributions.\n",
    "\n",
    "We'll begin by importing the required packages/objects, as well as the experimental data."
   ]
  },
  {
   "cell_type": "code",
   "execution_count": 2,
   "metadata": {},
   "outputs": [],
   "source": [
    "# Notebook header <--- Always run this cell first!\n",
    "import os, json\n",
    "import numpy as np\n",
    "import matplotlib.pyplot as plt\n",
    "import ruamel.yaml as yaml\n",
    "%matplotlib inline\n",
    "\n",
    "from ipywidgets import interact, FloatSlider, FloatText\n",
    "from monty.json import MontyDecoder, MontyEncoder\n",
    "from pymatgen.io.vasp.outputs import Outcar, Vasprun\n",
    "\n",
    "from quotas.core import QuotasCalculator, WorkFunctionData, DielTensor\n",
    "\n",
    "data_dir = \"../data/\"\n",
    "\n",
    "# Load the experimental data\n",
    "with open(os.path.join(data_dir, \"experimental_data.json\"), \"r\") as file:\n",
    "    exp_data = json.loads(file.read(), cls=MontyDecoder)\n",
    "    \n",
    "# Load the dictionary of all the structures for which we have calculated the required properties\n",
    "with open(\"../structure_dict.yaml\", \"r\") as file:\n",
    "    structure_dict = yaml.safe_load(file.read())\n",
    "    \n",
    "def get_smeared_densities(energies, densities, sigma):\n",
    "    \"\"\"\n",
    "    Use a Gaussian kernel to smear a density distribution.\n",
    "\n",
    "    Args:\n",
    "        sigma: Std dev of Gaussian smearing function.\n",
    "\n",
    "    Returns:\n",
    "        Gaussian-smeared densities.\n",
    "    \"\"\"\n",
    "    from scipy.ndimage.filters import gaussian_filter1d\n",
    "    \n",
    "    diff = np.diff(energies)\n",
    "    avgdiff = sum(diff) / len(diff)\n",
    "    \n",
    "    smeared_dens = gaussian_filter1d(densities, sigma / avgdiff)\n",
    "    return smeared_dens"
   ]
  },
  {
   "cell_type": "markdown",
   "metadata": {},
   "source": [
    "The data for the surfaces are stored as `QuotasCalculator` json files in the `data` directory. Here's an example of how to load one and calculate the yield spectrum:"
   ]
  },
  {
   "cell_type": "code",
   "execution_count": 3,
   "metadata": {},
   "outputs": [],
   "source": [
    "quotas = QuotasCalculator.from_file(os.path.join(data_dir, \"Al_100_pbe.json\"))\n",
    "see = quotas.calculate_yield(22.58)"
   ]
  },
  {
   "cell_type": "code",
   "execution_count": 4,
   "metadata": {},
   "outputs": [
    {
     "data": {
      "text/plain": [
       "(0, 20)"
      ]
     },
     "execution_count": 4,
     "metadata": {},
     "output_type": "execute_result"
    },
    {
     "data": {
      "image/png": "[encoded data removed]",
      "text/plain": [
       "<Figure size 432x288 with 1 Axes>"
      ]
     },
     "metadata": {
      "needs_background": "light"
     },
     "output_type": "display_data"
    }
   ],
   "source": [
    "plt.plot(see[\"energy\"], see[\"yield\"]*1e3)\n",
    "plt.plot(exp_data[\"Al\"][\"He\"][\"energy\"], exp_data[\"Al\"][\"He\"][\"yield\"])\n",
    "plt.xlim([0, 20])"
   ]
  },
  {
   "cell_type": "markdown",
   "metadata": {},
   "source": [
    "## Influence of the plasmon parameters\n",
    "\n",
    "We'll first check the influence of the plasmon parameters using an interactive tool. The cell below sets up a dictionary that contains all of the `QuotasCalculator` objects for the various surfaces. This takes a little while to load."
   ]
  },
  {
   "cell_type": "code",
   "execution_count": 5,
   "metadata": {},
   "outputs": [],
   "source": [
    "quotas_dict = {\n",
    "    \"Al\": {\"100\": None, \"110\": None, \"111\": None},\n",
    "    \"Mg\": {\"100\": None, \"110\": None, \"001\": None},\n",
    "    \"Be\": {\"100\": None, \"110\": None, \"001\": None},\n",
    "    \"Ni\": {\"100\": None, \"110\": None, \"111\": None},\n",
    "    \"W\": {\"100\": None, \"110\": None, \"111\": None},\n",
    "    \"Cu\": {\"100\": None, \"110\": None, \"111\": None}\n",
    "}\n",
    "\n",
    "for element in quotas_dict.keys():\n",
    "    for surface in quotas_dict[element].keys():\n",
    "        quotas_dict[element][surface] = QuotasCalculator.from_file(\n",
    "            os.path.join(data_dir, element + \"_\" + surface + \"_pbe.json\")\n",
    "        )"
   ]
  },
  {
   "cell_type": "markdown",
   "metadata": {},
   "source": [
    "Let's also set up a little dictionary with the ionization energies. Note the substractions from the free atom ionization energies, these represent the correction due to the image charge."
   ]
  },
  {
   "cell_type": "code",
   "execution_count": 6,
   "metadata": {},
   "outputs": [],
   "source": [
    "ionization_energies = {\n",
    "    \"He\": 24.59 - 2,\n",
    "    \"Ne\": 21.56 - 1,\n",
    "    \"Ar\": 15.76 - 0.5,\n",
    "    \"Kr\": 14.00,\n",
    "    \"Xe\": 12.13\n",
    "}"
   ]
  },
  {
   "cell_type": "markdown",
   "metadata": {},
   "source": [
    "The function below allows us to test a range of parameters for a choice of surface and incident ion, using the `interact` method of `ipywidgets`."
   ]
  },
  {
   "cell_type": "code",
   "execution_count": 7,
   "metadata": {},
   "outputs": [],
   "source": [
    "def test_plasmon_parameters(element, surface, ion, bulk_parameter, surface_parameter):\n",
    "    \n",
    "    if surface == \"average\":\n",
    "        see_results = []\n",
    "        for surf in quotas_dict[element].keys():\n",
    "            quotas = quotas_dict[element][surf]\n",
    "            quotas.set_up_plasmon_probabilities(bulk_parameter, surface_parameter)\n",
    "            see_results.append(quotas.calculate_yield(ionization_energies[ion]))\n",
    "        energy = exp_data[element][ion][\"energy\"]\n",
    "        see_yield = np.zeros(energy.shape)\n",
    "        for see in see_results:\n",
    "            see_yield += np.interp(energy, see[\"energy\"], see[\"yield\"])/len(see_results)\n",
    "        plt.plot(energy, see_yield * 1e3)\n",
    "        plt.plot(exp_data[element][ion][\"energy\"], exp_data[element][ion][\"yield\"])\n",
    "        plt.xlabel(\"Electron Energy (eV)\")\n",
    "        plt.ylabel(\"10^3 yield/ion\")\n",
    "        print(\"Total Yield = \" + str(np.trapz(see_yield, energy)))\n",
    "        print(\"Experimental Yield = \" + str(np.trapz(exp_data[element][ion][\"yield\"]/1e3, energy)))\n",
    "        \n",
    "    else:\n",
    "        try:\n",
    "            quotas = quotas_dict[element][surface]\n",
    "        except KeyError:\n",
    "            print(\"The chosen element/surface combination is not available.\")\n",
    "        else:\n",
    "            print(\"Surface work function = \" + str(round(quotas.workfunction_data.work_function, 2)))\n",
    "            quotas.set_up_plasmon_probabilities(bulk_parameter, surface_parameter)\n",
    "            see = quotas.calculate_yield(ionization_energies[ion])\n",
    "            plt.plot(see[\"energy\"], see[\"yield\"] * 1e3)\n",
    "            plt.plot(exp_data[element][ion][\"energy\"], exp_data[element][ion][\"yield\"])\n",
    "            plt.xlabel(\"Electron Energy (eV)\")\n",
    "            plt.ylabel(\"10^3 yield/ion\")\n",
    "            print(\"Total yield = \" + str(see[\"total_yield\"]))\n",
    "            print(\"Experimental Yield = \" + str(np.trapz(exp_data[element][ion][\"yield\"] / 1e3, exp_data[element][ion][\"energy\"])))"
   ]
  },
  {
   "cell_type": "markdown",
   "metadata": {},
   "source": [
    "Running the cell below will boot the interactive interface for testing out the plasmon parameters."
   ]
  },
  {
   "cell_type": "code",
   "execution_count": 8,
   "metadata": {},
   "outputs": [
    {
     "data": {
      "application/vnd.jupyter.widget-view+json": {
       "model_id": "07407fd623dc4f5b8f06e96ed6201965",
       "version_major": 2,
       "version_minor": 0
      },
      "text/plain": [
       "interactive(children=(Dropdown(description='element', options=('Al', 'Mg', 'Be', 'Ni', 'W', 'Cu'), value='Al')…"
      ]
     },
     "metadata": {},
     "output_type": "display_data"
    }
   ],
   "source": [
    "interact(test_plasmon_parameters,\n",
    "         element=quotas_dict.keys(), \n",
    "         surface=[\"100\", \"110\", \"001\", \"111\", \"average\"], \n",
    "         ion=ionization_energies.keys(), \n",
    "         bulk_parameter=FloatSlider(0.11, min=0, max=0.2, step=0.005, readout_format=\".3f\"), \n",
    "         surface_parameter=FloatSlider(1.6, min=0, max=2, step=0.01));"
   ]
  },
  {
   "cell_type": "markdown",
   "metadata": {},
   "source": [
    "## Fitting the plasmon parameters\n",
    "\n",
    "To find the optimal plasmon parameters, we'll evaluate each set of parameters for a range of bulk and surface parameters by comparing the calculated yield spectra to the experimental ones. The function below calculates the yield spectra for He$^+$ and Ne$^+$ incident on all surfaces of Al, Mg and Be. It then calculates the average spectrum, and interpolates it to the experimental data points. It then adds the absolute value of the difference between experimental and calculated spectra, normalizes it to the number of experimental data points and returns it."
   ]
  },
  {
   "cell_type": "code",
   "execution_count": 8,
   "metadata": {},
   "outputs": [],
   "source": [
    "def evaluate_plasmon_parameters(bulk_parameter, surface_parameter,\n",
    "                               element_dict, ion_list):\n",
    "    \n",
    "    total_difference = 0\n",
    "    \n",
    "    for element in element_dict.keys():\n",
    "        for ion in ion_list:\n",
    "\n",
    "            see_results = []\n",
    "\n",
    "            for surf in element_dict[element]:\n",
    "                quotas = quotas_dict[element][surf]\n",
    "                quotas.set_up_plasmon_probabilities(bulk_parameter, surface_parameter)\n",
    "                see_results.append(quotas.calculate_yield(ionization_energies[ion]))\n",
    "            energy = exp_data[element][ion][\"energy\"]\n",
    "            see_yield = np.zeros(energy.shape)\n",
    "            for see in see_results:\n",
    "                see_yield += np.interp(energy, see[\"energy\"], see[\"yield\"])/len(see_results)\n",
    "                \n",
    "            total_difference += sum(abs(see_yield * 1e3 -  exp_data[element][ion][\"yield\"])) / len(energy)\n",
    "            \n",
    "    return total_difference\n"
   ]
  },
  {
   "cell_type": "markdown",
   "metadata": {},
   "source": [
    "Based on the interactive widget above, we determine a reasonable range for the bulk and surface parameters and calculate the total difference for each pair of parameters. As this takes a fair bit of time, we've done this calculation previously and have saved the data in `diff.json`. You can find the cell that we used in Appendix A. Below we simply define the meshes for the parameters and load the corresponding .json file."
   ]
  },
  {
   "cell_type": "code",
   "execution_count": 18,
   "metadata": {},
   "outputs": [
    {
     "name": "stdout",
     "output_type": "stream",
     "text": [
      "[0.1   0.105 0.11  0.115 0.12 ]\n",
      "[1.5  1.55 1.6  1.65 1.7 ]\n"
     ]
    }
   ],
   "source": [
    "with open(\"diff_data.json\", \"r\") as file:\n",
    "    diff_dict = json.loads(file.read(), cls=MontyDecoder)\n",
    "    bulk_range = diff_dict[\"bulk_range\"]\n",
    "    surface_range = diff_dict[\"surface_range\"]\n",
    "    diff = diff_dict[\"diff\"]\n",
    "\n",
    "print(bulk_range)\n",
    "print(surface_range)"
   ]
  },
  {
   "cell_type": "code",
   "execution_count": 19,
   "metadata": {},
   "outputs": [
    {
     "data": {
      "text/plain": [
       "<matplotlib.image.AxesImage at 0x7f34f57571d0>"
      ]
     },
     "execution_count": 19,
     "metadata": {},
     "output_type": "execute_result"
    },
    {
     "data": {
      "image/png": "[encoded data removed]",
      "text/plain": [
       "<Figure size 432x288 with 1 Axes>"
      ]
     },
     "metadata": {
      "needs_background": "light"
     },
     "output_type": "display_data"
    }
   ],
   "source": [
    "plt.imshow(diff)"
   ]
  },
  {
   "cell_type": "markdown",
   "metadata": {},
   "source": [
    "Based on these results, we can find the optimal plasmon parameters:"
   ]
  },
  {
   "cell_type": "code",
   "execution_count": 20,
   "metadata": {},
   "outputs": [
    {
     "name": "stdout",
     "output_type": "stream",
     "text": [
      "Optimal bulk parameter = 0.11000000000000001\n",
      "Optimal surface parameter = 1.6\n"
     ]
    }
   ],
   "source": [
    "j = diff.argmin() % diff.shape[1]\n",
    "i = diff[:, j].argmin()\n",
    "print(\"Optimal bulk parameter = \" + str(bulk_range[i]))\n",
    "print(\"Optimal surface parameter = \" + str(surface_range[j]))"
   ]
  },
  {
   "cell_type": "markdown",
   "metadata": {},
   "source": [
    "These parameters have now been set as the defaults in the `QuotasCalculator`."
   ]
  },
  {
   "cell_type": "markdown",
   "metadata": {},
   "source": [
    "## Other metals"
   ]
  },
  {
   "cell_type": "code",
   "execution_count": 16,
   "metadata": {},
   "outputs": [],
   "source": [
    "def display_see(element, surface, ion, smearing=0.001,\n",
    "                bulk_parameter=None, surface_parameter=None):\n",
    "    try:\n",
    "        quotas = QuotasCalculator.from_file(\n",
    "                os.path.join(data_dir, element + \"_\" + surface + \"_pbe.json\")\n",
    "            )\n",
    "        quotas.set_up_plasmon_probabilities(bulk_parameter, surface_parameter)\n",
    "        see = quotas.calculate_yield(ionization_energies[ion])\n",
    "        energy = see[\"energy\"]\n",
    "        yield_spectrum = get_smeared_densities(energy, see[\"yield\"], smearing)\n",
    "        total_yield = see[\"total_yield\"]\n",
    "        \n",
    "        workfunction_data = quotas.workfunction_data\n",
    "        \n",
    "        print(\"Surface work function = \" \n",
    "              + str(round(workfunction_data.work_function, 3)))\n",
    "        print(\"Total Yield = \" + str(round(total_yield, 3)))\n",
    "        print()\n",
    "         \n",
    "        # Plot the yield spectrum\n",
    "        plt.rcParams[\"font.size\"] = 16\n",
    "        plt.plot(energy, yield_spectrum)\n",
    "        plt.xlabel(\"Energy (eV)\")\n",
    "        plt.ylabel(\"$\\gamma$ (#electrons/ion)\")\n",
    "        plt.xlim([0, 20])\n",
    "        \n",
    "    except FileNotFoundError:\n",
    "        print(\"Requested element/surface combination is not available\")\n"
   ]
  },
  {
   "cell_type": "code",
   "execution_count": 17,
   "metadata": {},
   "outputs": [
    {
     "data": {
      "application/vnd.jupyter.widget-view+json": {
       "model_id": "7d8b07f53b91487aba8c60b108ef5f2f",
       "version_major": 2,
       "version_minor": 0
      },
      "text/plain": [
       "interactive(children=(Dropdown(description='element', options=('Ag', 'Al', 'As', 'Au', 'Ba', 'Be', 'Bi', 'Ca',…"
      ]
     },
     "metadata": {},
     "output_type": "display_data"
    }
   ],
   "source": [
    "interact(display_see,\n",
    "         element=structure_dict.keys(), \n",
    "         surface=[\"100\", \"110\", \"001\", \"111\"], \n",
    "         ion=ionization_energies.keys(), \n",
    "         smearing=FloatText(0.2, step=0.02),\n",
    "         bulk_parameter=FloatSlider(0.095, min=0, max=0.2, step=0.005, readout_format=\".3f\"), \n",
    "         surface_parameter=FloatSlider(1.6, min=0, max=2, step=0.01));"
   ]
  },
  {
   "cell_type": "markdown",
   "metadata": {},
   "source": [
    "### Appendix A: Calculation of the total differences"
   ]
  },
  {
   "cell_type": "code",
   "execution_count": 17,
   "metadata": {},
   "outputs": [
    {
     "name": "stdout",
     "output_type": "stream",
     "text": [
      "Evaluating 0;0\n",
      "Evaluating 0;1\n",
      "Evaluating 0;2\n",
      "Evaluating 0;3\n",
      "Evaluating 0;4\n",
      "Evaluating 1;0\n",
      "Evaluating 1;1\n",
      "Evaluating 1;2\n",
      "Evaluating 1;3\n",
      "Evaluating 1;4\n",
      "Evaluating 2;0\n",
      "Evaluating 2;1\n",
      "Evaluating 2;2\n",
      "Evaluating 2;3\n",
      "Evaluating 2;4\n",
      "Evaluating 3;0\n",
      "Evaluating 3;1\n",
      "Evaluating 3;2\n",
      "Evaluating 3;3\n",
      "Evaluating 3;4\n",
      "Evaluating 4;0\n",
      "Evaluating 4;1\n",
      "Evaluating 4;2\n",
      "Evaluating 4;3\n",
      "Evaluating 4;4\n"
     ]
    }
   ],
   "source": [
    "bulk_range = np.arange(0.10, 0.125, 0.005)\n",
    "surface_range = np.arange(1.50, 1.75, 0.05)\n",
    "diff = np.zeros([len(bulk_range), len(surface_range)])\n",
    "\n",
    "plasmon_element_dict = {\n",
    "    \"Al\": [\"100\", \"110\", \"111\"],\n",
    "    \"Mg\": [\"100\", \"110\", \"001\"],\n",
    "    # \"Be\": [\"110\"],\n",
    "    \"Ni\": [\"111\"],\n",
    "    # \"W\": [\"111\"],\n",
    "    \"Cu\": [\"100\"]\n",
    "}\n",
    "\n",
    "plasmon_ion_list = [\"He\", \"Ne\"]\n",
    "\n",
    "for i, bulk in enumerate(bulk_range):\n",
    "    for j, surf in enumerate(surface_range):\n",
    "        print(\"Evaluating \" + str(i) + \";\" + str(j))\n",
    "        diff[i][j] = evaluate_plasmon_parameters(\n",
    "            bulk, surf, plasmon_element_dict, plasmon_ion_list\n",
    "        )\n",
    "        \n",
    "diff_dict = {\n",
    "    \"bulk_range\": bulk_range,\n",
    "    \"surface_range\": surface_range,\n",
    "    \"diff\": diff\n",
    "}\n",
    "\n",
    "with open(\"diff_data.json\", \"w\") as file:\n",
    "    file.write(json.dumps(diff_dict, cls=MontyEncoder))"
   ]
  },
  {
   "cell_type": "code",
   "execution_count": null,
   "metadata": {},
   "outputs": [],
   "source": []
  },
  {
   "cell_type": "code",
   "execution_count": null,
   "metadata": {},
   "outputs": [],
   "source": []
  }
 ],
 "metadata": {
  "kernelspec": {
   "display_name": "Python 3",
   "language": "python",
   "name": "python3"
  },
  "language_info": {
   "codemirror_mode": {
    "name": "ipython",
    "version": 3
   },
   "file_extension": ".py",
   "mimetype": "text/x-python",
   "name": "python",
   "nbconvert_exporter": "python",
   "pygments_lexer": "ipython3",
   "version": "3.7.6"
  }
 },
 "nbformat": 4,
 "nbformat_minor": 4
}
