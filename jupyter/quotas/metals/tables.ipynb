{
 "cells": [
  {
   "cell_type": "markdown",
   "metadata": {},
   "source": [
    "# Al, Mg and Be results"
   ]
  },
  {
   "cell_type": "code",
   "execution_count": 1,
   "metadata": {},
   "outputs": [],
   "source": [
    "import os, json\n",
    "import numpy as np\n",
    "\n",
    "from monty.json import MontyDecoder, MontyEncoder\n",
    "from quotas.core import QuotasCalculator\n",
    "\n",
    "data_dir = \"/Users/mbercx/Dropbox/Phd/thesis/jupyter/quotas/data\"\n",
    "tables_dir = \"/Users/mbercx/Dropbox/Phd/thesis/tables/quotas\"\n",
    "\n",
    "# Load the experimental data\n",
    "with open(os.path.join(data_dir, \"experimental_data.json\"), \"r\") as file:\n",
    "    exp_data = json.loads(file.read(), cls=MontyDecoder)\n",
    "    \n",
    "# Define the effective ionization energies of the rare gas ions\n",
    "ionization_energies = {\n",
    "    \"He\": 24.56 - 2,\n",
    "    \"Ne\": 21.56 - 1,\n",
    "    \"Ar\": 15.76 - 0.5,\n",
    "    \"Kr\": 12.00,\n",
    "    \"Xe\": 10.13\n",
    "}\n",
    "\n",
    "exp_work_function = {\n",
    "    \"Al\": {\n",
    "        \"111\": 4.28,\n",
    "        \"100\": 4.36,\n",
    "        \"110\": 4.21\n",
    "    },\n",
    "    \"Mg\": {\n",
    "        \"100\": 3.66,\n",
    "        \"001\": 3.66,\n",
    "        \"110\": 3.66\n",
    "    },\n",
    "    \"Ni\": {\n",
    "        \"111\": 5.28,\n",
    "        \"100\": 5.23,\n",
    "        \"110\": 4.64\n",
    "    },\n",
    "    \"Cu\": {\n",
    "        \"110\": 4.48,\n",
    "        \"111\": 4.91,\n",
    "        \"100\": 4.57\n",
    "    },\n",
    "    \"Be\": {\n",
    "        \"100\": 4.98,\n",
    "        \"001\": 4.98,\n",
    "        \"110\": 4.98\n",
    "    },\n",
    "    \"W\": {\n",
    "        \"111\": 4.38,\n",
    "        \"100\": 4.57,\n",
    "        \"110\": 5.31\n",
    "    }\n",
    "}"
   ]
  },
  {
   "cell_type": "code",
   "execution_count": 2,
   "metadata": {},
   "outputs": [],
   "source": [
    "data_array = []\n",
    "\n",
    "for element in exp_work_function.keys():\n",
    "    \n",
    "    for i, surface in enumerate(exp_work_function[element].keys()):\n",
    "        \n",
    "        quotas = QuotasCalculator.from_file(\n",
    "            os.path.join(data_dir, element + \"_\" + surface + \"_pbe.json\")\n",
    "        )\n",
    "        \n",
    "        row = []\n",
    "        if i == 0 and element is not \"Al\":\n",
    "            row.append(r\"\\hline\")\n",
    "        elif i == 1:\n",
    "            row.append(element)\n",
    "        else:\n",
    "            row.append(\"\")\n",
    "            \n",
    "        row.append(\"(\" + surface + \")\")\n",
    "        row.append(round(quotas.workfunction_data.work_function, 2),)\n",
    "        if i == 0 or element in [\"Al\", \"W\", \"Cu\", \"Ni\"]:\n",
    "            row.append(exp_work_function[element][surface])\n",
    "        else:\n",
    "            row.append(r'\"')\n",
    "        \n",
    "        see_He = quotas.calculate_yield(ionization_energies[\"He\"])\n",
    "        row.append(round(see_He[\"total_yield\"], 3))\n",
    "        exp_yield_He = np.trapz(\n",
    "            exp_data[element][\"He\"][\"yield\"], exp_data[element][\"He\"][\"energy\"]\n",
    "        ) / 1e3\n",
    "        if i == 0:\n",
    "            row.append(round(exp_yield_He, 3))\n",
    "        elif element in [\"Ni\", \"Cu\"]:\n",
    "            row.append(r'-')\n",
    "        else:\n",
    "            row.append(r'\"')\n",
    "        \n",
    "        see_Ne = quotas.calculate_yield(ionization_energies[\"Ne\"])\n",
    "        row.append(round(see_Ne[\"total_yield\"], 3))\n",
    "        exp_yield_Ne = np.trapz(\n",
    "            exp_data[element][\"Ne\"][\"yield\"], exp_data[element][\"Ne\"][\"energy\"]\n",
    "        ) / 1e3\n",
    "        if i == 0:\n",
    "            row.append(round(exp_yield_Ne, 3))\n",
    "        elif element in [\"Ni\", \"Cu\"]:\n",
    "            row.append(r'-')\n",
    "        else:\n",
    "            row.append(r'\"')\n",
    "        \n",
    "        data_array.append(row)"
   ]
  },
  {
   "cell_type": "code",
   "execution_count": 3,
   "metadata": {},
   "outputs": [
    {
     "data": {
      "text/plain": [
       "[['', '(111)', 4.05, 4.28, 0.193, 0.231, 0.157, 0.202],\n",
       " ['Al', '(100)', 4.26, 4.36, 0.175, '\"', 0.141, '\"'],\n",
       " ['', '(110)', 4.04, 4.21, 0.195, '\"', 0.159, '\"'],\n",
       " ['\\\\hline', '(100)', 3.65, 3.66, 0.286, 0.257, 0.222, 0.202],\n",
       " ['Mg', '(001)', 3.7, '\"', 0.242, '\"', 0.195, '\"'],\n",
       " ['', '(110)', 3.49, '\"', 0.316, '\"', 0.245, '\"'],\n",
       " ['\\\\hline', '(111)', 5.05, 5.28, 0.173, 0.175, 0.142, 0.124],\n",
       " ['Ni', '(100)', 4.91, 5.23, 0.181, '-', 0.15, '-'],\n",
       " ['', '(110)', 4.67, 4.64, 0.203, '-', 0.171, '-'],\n",
       " ['\\\\hline', '(110)', 4.4, 4.48, 0.145, 0.155, 0.12, 0.12],\n",
       " ['Cu', '(111)', 4.77, 4.91, 0.125, '-', 0.101, '-'],\n",
       " ['', '(100)', 4.52, 4.57, 0.139, '-', 0.114, '-'],\n",
       " ['\\\\hline', '(100)', 4.5, 4.98, 0.083, 0.117, 0.054, 0.095],\n",
       " ['Be', '(001)', 5.31, '\"', 0.049, '\"', 0.029, '\"'],\n",
       " ['', '(110)', 3.82, '\"', 0.119, '\"', 0.081, '\"'],\n",
       " ['\\\\hline', '(111)', 4.15, 4.38, 0.161, 0.292, 0.124, 0.224],\n",
       " ['W', '(100)', 4.1, 4.57, 0.158, '\"', 0.121, '\"'],\n",
       " ['', '(110)', 4.79, 5.31, 0.117, '\"', 0.082, '\"']]"
      ]
     },
     "execution_count": 3,
     "metadata": {},
     "output_type": "execute_result"
    }
   ],
   "source": [
    "data_array"
   ]
  },
  {
   "cell_type": "code",
   "execution_count": 4,
   "metadata": {},
   "outputs": [],
   "source": [
    "np.savetxt(os.path.join(tables_dir, \"metal_results.tex\"), \n",
    "           data_array, \n",
    "           delimiter=' & ', \n",
    "           fmt='%s',#['%s', '%s', '%2.2e', '%2.2e', '%2.2e', '%2.2e', '%2.2e', '%2.2e'], \n",
    "           newline=' \\\\\\\\\\n')\n"
   ]
  },
  {
   "cell_type": "code",
   "execution_count": null,
   "metadata": {},
   "outputs": [],
   "source": []
  }
 ],
 "metadata": {
  "kernelspec": {
   "display_name": "Python 3",
   "language": "python",
   "name": "python3"
  },
  "language_info": {
   "codemirror_mode": {
    "name": "ipython",
    "version": 3
   },
   "file_extension": ".py",
   "mimetype": "text/x-python",
   "name": "python",
   "nbconvert_exporter": "python",
   "pygments_lexer": "ipython3",
   "version": "3.7.6"
  }
 },
 "nbformat": 4,
 "nbformat_minor": 4
}
