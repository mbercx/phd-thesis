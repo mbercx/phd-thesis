{
 "cells": [
  {
   "cell_type": "markdown",
   "metadata": {},
   "source": [
    "# Workflow setup\n",
    "\n",
    "In this notebook we will set up the workflows for all of the bulk metals and corresponding slab structures from [De Waele et al](https://journals.aps.org/prb/abstract/10.1103/PhysRevB.94.235418).\n",
    "\n",
    "The functions defined in the `support_functions.py` module are used to either load the slab structures from the `.cif` files of [De Waele et al](https://journals.aps.org/prb/abstract/10.1103/PhysRevB.94.235418), or generate the slabs in the `structure_dict` from the bulk structure file specified."
   ]
  },
  {
   "cell_type": "code",
   "execution_count": 1,
   "metadata": {},
   "outputs": [],
   "source": [
    "# Notebook header  <---- Always execute this cell first!\n",
    "\n",
    "import os, re\n",
    "import numpy as np\n",
    "import ruamel.yaml as yaml\n",
    "\n",
    "from warnings import warn\n",
    "\n",
    "from pymatgen import Structure\n",
    "from custodian.vasp.handlers import VaspErrorHandler, NonConvergingErrorHandler, UnconvergedErrorHandler\n",
    "\n",
    "from vscworkflows.config import load_config\n",
    "from vscworkflows.workflows.core import get_wf_quotas\n",
    "from vscworkflows.handlers.core import ElectronicConvergenceMonitor, QuotasErrorHandler\n",
    "\n",
    "from support_functions import get_dewaele_slab_list, get_generated_slab_list\n"
   ]
  },
  {
   "cell_type": "markdown",
   "metadata": {},
   "source": [
    "## Loading the bulk/slab structures"
   ]
  },
  {
   "cell_type": "markdown",
   "metadata": {},
   "source": [
    "In order to construct the workflow, we need the bulk structure and slab structures, along with the number of fixed layers in the center of each slab. The cell below loads a dictionary that specifies which bulk structure files to use, as well as the number of fixed layers for each element and miller index, based on the convergence information in the supplementary information of [De Waele et al](https://journals.aps.org/prb/abstract/10.1103/PhysRevB.94.235418)."
   ]
  },
  {
   "cell_type": "code",
   "execution_count": 2,
   "metadata": {},
   "outputs": [],
   "source": [
    "with open(\"../data/structure_dict.yaml\", \"r\") as file:\n",
    "    structure_dict = yaml.safe_load(file.read())"
   ]
  },
  {
   "cell_type": "markdown",
   "metadata": {},
   "source": [
    "## Submit Workflow\n",
    "\n",
    "Next we need to submit the workflow to the preferred mongoDB server that hosts our calculations."
   ]
  },
  {
   "cell_type": "code",
   "execution_count": 3,
   "metadata": {},
   "outputs": [],
   "source": [
    "# Set the calculation settings\n",
    "\n",
    "lpad = load_config(\"launchpad\", \"test\")\n",
    "scratch_dir = \"/scratch/antwerpen/202/vsc20248/quotas\"\n",
    "\n",
    "functional=('pbe', {})\n",
    "\n",
    "handlers = [VaspErrorHandler(errors_subset_to_catch=[\"zbrent\"]), \n",
    "            UnconvergedErrorHandler(), \n",
    "            NonConvergingErrorHandler(nionic_steps=3), \n",
    "            ElectronicConvergenceMonitor(max_fit_range=100),\n",
    "            QuotasErrorHandler()]"
   ]
  },
  {
   "cell_type": "code",
   "execution_count": 5,
   "metadata": {},
   "outputs": [],
   "source": [
    "# Choose the element for the workflow\n",
    "\n",
    "element = \"Al\"\n",
    "magnetic_moment = None # Only needs to be specified in case the slabs \n",
    "                       # are loaded from dewaele's cif files\n",
    "slab_choice = \"self_generated\" # Either \"dewaele\" or \"self_generated\"\n",
    "\n",
    "bulk = Structure.from_file(\n",
    "    os.path.join(\"../data/cifs\", element, structure_dict[element][\"bulk\"])\n",
    ")\n",
    "\n",
    "if slab_choice == \"self_generated\":\n",
    "    slab_list = get_generated_slab_list(\n",
    "        element, structure_dict, \"../data/cifs/\"\n",
    "    )\n",
    "elif slab_choice == \"dewaele\":\n",
    "    slab_list = get_dewaele_slab_list(\n",
    "        element, structure_dict, \"../data/cifs/\"\n",
    "    )\n",
    "else:\n",
    "    raise ValueError()\n",
    "        \n",
    "if slab_choice == \"dewaele\" and magnetic_moment is not None:\n",
    "    for slab_dict in slab_list:\n",
    "        slab_dict[\"slab\"].add_site_property(\"magmom\", [2] * len(slab_dict[\"slab\"]))"
   ]
  },
  {
   "cell_type": "code",
   "execution_count": 7,
   "metadata": {},
   "outputs": [
    {
     "name": "stdout",
     "output_type": "stream",
     "text": [
      "2020-01-01 10:54:51,151 INFO Added a workflow. id_map: {-16: 1236, -15: 1237, -14: 1238, -13: 1239, -12: 1240, -11: 1241, -10: 1242, -9: 1243}\n"
     ]
    },
    {
     "data": {
      "text/plain": [
       "{-16: 1236,\n",
       " -15: 1237,\n",
       " -14: 1238,\n",
       " -13: 1239,\n",
       " -12: 1240,\n",
       " -11: 1241,\n",
       " -10: 1242,\n",
       " -9: 1243}"
      ]
     },
     "execution_count": 7,
     "metadata": {},
     "output_type": "execute_result"
    }
   ],
   "source": [
    "lpad.add_wf(\n",
    "    get_wf_quotas(\n",
    "        bulk=bulk,\n",
    "        slab_list=slab_list,\n",
    "        directory=os.path.join(scratch_dir, slab_choice, element),\n",
    "        functional=functional,\n",
    "        is_metal=True,\n",
    "        in_custodian=handlers\n",
    "    ))"
   ]
  },
  {
   "cell_type": "markdown",
   "metadata": {},
   "source": [
    "### Separate surfaces - DOS workflow\n",
    "\n",
    "For some of the problematic surfaces, we want to set up a separate DOS workflow where we specify the user_incar_settings to improve the convergence. Note that the `ElectronicConvergenceMonitor` is not used here, as some of these surfaces simply require a very large amount of electronic steps to converge, and might show signs of not converging even after a couple of hundred electronic steps."
   ]
  },
  {
   "cell_type": "code",
   "execution_count": 14,
   "metadata": {},
   "outputs": [],
   "source": [
    "from vscworkflows.workflows.core import get_wf_slab_dos\n",
    "\n",
    "lpad = load_config(\"launchpad\", \"test\")\n",
    "scratch_dir = \"/scratch/leuven/202/vsc20248/\"\n",
    "\n",
    "handlers = [VaspErrorHandler(errors_subset_to_catch=[\"zbrent\"]), \n",
    "            UnconvergedErrorHandler(), \n",
    "            NonConvergingErrorHandler(nionic_steps=3), \n",
    "            #ElectronicConvergenceMonitor(max_interp_range=100),\n",
    "            QuotasErrorHandler()]\n",
    "\n",
    "user_incar_settings = {\n",
    "    \"ALGO\": \"All\",\n",
    "    \"NELM\": 1000,\n",
    "    \"NELMDL\": -8,\n",
    "}"
   ]
  },
  {
   "cell_type": "code",
   "execution_count": 18,
   "metadata": {},
   "outputs": [],
   "source": [
    "element = \"Cr_afm\"\n",
    "miller_index = (1, 1, 0)\n",
    "slab_choice = \"self_generated\"\n",
    "magnetic_moment = None\n",
    "\n",
    "if slab_choice == \"self_generated\":\n",
    "    slab_list = get_generated_slab_list(\n",
    "        element, structure_dict, \"../data/cifs/\"\n",
    "    )\n",
    "elif slab_choice == \"dewaele\":\n",
    "    slab_list = get_dewaele_slab_list(\n",
    "        element, structure_dict, \"../data/cifs/\"\n",
    "    )\n",
    "else:\n",
    "    raise ValueError()\n",
    "\n",
    "slab_dict = None\n",
    "\n",
    "for slab in slab_list:\n",
    "    try:\n",
    "        if slab[\"slab\"].miller_index == miller_index:\n",
    "            slab_dict = slab\n",
    "    except AttributeError:\n",
    "        print(\"Found str instead of slab. This indicates multiple terminations. \" +\n",
    "              \"Figure out how to deal with this!\")\n",
    "        \n",
    "if slab_choice == \"dewaele\" and magnetic_moment is not None:\n",
    "    slab_dict[\"slab\"].add_site_property(\"magmom\", [2] * len(slab_dict[\"slab\"]))"
   ]
  },
  {
   "cell_type": "code",
   "execution_count": 19,
   "metadata": {},
   "outputs": [],
   "source": [
    "wf = get_wf_slab_dos(\n",
    "    slab=slab_dict[\"slab\"], \n",
    "    directory=os.path.join(scratch_dir, \"quotas\", slab_choice, element, \"\".join([str(i) for i in miller_index])),\n",
    "    user_slab_settings=slab_dict[\"user_slab_settings\"],\n",
    "    calculate_locpot=True,\n",
    "    is_metal=True,\n",
    "    user_incar_settings=user_incar_settings,\n",
    "    in_custodian=handlers,\n",
    "    auto_parallelization=True\n",
    ")"
   ]
  },
  {
   "cell_type": "code",
   "execution_count": 20,
   "metadata": {},
   "outputs": [
    {
     "name": "stdout",
     "output_type": "stream",
     "text": [
      "2019-10-29 12:55:00,977 INFO Added a workflow. id_map: {-8: 23, -7: 24}\n"
     ]
    },
    {
     "data": {
      "text/plain": [
       "{-8: 23, -7: 24}"
      ]
     },
     "execution_count": 20,
     "metadata": {},
     "output_type": "execute_result"
    }
   ],
   "source": [
    "lpad.add_wf(wf)"
   ]
  },
  {
   "cell_type": "code",
   "execution_count": null,
   "metadata": {},
   "outputs": [],
   "source": []
  }
 ],
 "metadata": {
  "kernelspec": {
   "display_name": "Python 3",
   "language": "python",
   "name": "python3"
  },
  "language_info": {
   "codemirror_mode": {
    "name": "ipython",
    "version": 3
   },
   "file_extension": ".py",
   "mimetype": "text/x-python",
   "name": "python",
   "nbconvert_exporter": "python",
   "pygments_lexer": "ipython3",
   "version": "3.8.1"
  }
 },
 "nbformat": 4,
 "nbformat_minor": 4
}
