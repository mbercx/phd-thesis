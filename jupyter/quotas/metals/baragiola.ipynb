{
 "cells": [
  {
   "cell_type": "code",
   "execution_count": 1,
   "metadata": {},
   "outputs": [],
   "source": [
    "# Notebook header <--- Always run this cell first!\n",
    "import os, json\n",
    "import ruamel.yaml as yaml\n",
    "import numpy as np\n",
    "import matplotlib, tikzplotlib\n",
    "matplotlib.rcParams['text.usetex'] = True\n",
    "import matplotlib.pyplot as plt\n",
    "%matplotlib inline\n",
    "\n",
    "from monty.json import MontyDecoder, MontyEncoder\n",
    "from ipywidgets import SelectMultiple, FloatSlider, FloatRangeSlider, SelectionSlider, Combobox\n",
    "from ipywidgets import interact, fixed, jslink\n",
    "from pymatgen.electronic_structure.plotter import DosPlotter\n",
    "from quotas.core import QuotasCalculator\n",
    "\n",
    "figures_dir = \"../../../figures/quotas\"\n",
    "data_dir = \"/mnt/data/mbercx/quotas\"\n",
    "\n",
    "# Load the dictionary of all the structures for which we have calculated the required properties\n",
    "with open(\"../data/structure_dict.yaml\", \"r\") as file:\n",
    "    structure_dict = yaml.safe_load(file.read())\n",
    "    \n",
    "with open(\"../data/yield.json\", \"r\") as file:\n",
    "    yield_dict = json.loads(file.read(), cls=MontyDecoder)\n",
    "    \n",
    "# Define the effective ionization energies of the rare gas ions\n",
    "ionization_energies = {\n",
    "    \"He\": 24.56 - 2,\n",
    "    \"Ne\": 21.56 - 1,\n",
    "#     \"Ar\": 15.76 - 0.5,\n",
    "#     \"Kr\": 12.00,\n",
    "#     \"Xe\": 10.13\n",
    "}\n",
    "\n",
    "color0 = (0.72156862745098,0.12156862745098,0.12156862745098)\n",
    "color1 = (0.137254901960784,0.407843137254902,0.635294117647059)\n",
    "\n",
    "# Baragiola parameters\n",
    "param1=0.78\n",
    "param2=-2"
   ]
  },
  {
   "cell_type": "code",
   "execution_count": 2,
   "metadata": {},
   "outputs": [],
   "source": [
    "with open(\"../data/results.json\", \"r\") as file:\n",
    "    results_dict = json.loads(file.read(), cls=MontyDecoder)"
   ]
  },
  {
   "cell_type": "code",
   "execution_count": 3,
   "metadata": {},
   "outputs": [],
   "source": [
    "total_yield_dict = {}\n",
    "\n",
    "for ion in ionization_energies.keys():\n",
    "    work_functions = []\n",
    "    yields = []\n",
    "    yields_np = []\n",
    "\n",
    "    for element in yield_dict.keys():\n",
    "        work_functions.extend([yield_dict[element][surface]['work_function']\n",
    "                               for surface in yield_dict[element].keys()])\n",
    "        yields.extend([surface[ion][\"total_yield\"] for surface in yield_dict[element].values()])\n",
    "#         yields_np.extend([surface[ion][\"total_yield\"] for surface in yield_np_dict[element].values()])\n",
    "        \n",
    "    total_yield_dict[ion] = {\n",
    "        \"ionization_energy\": ionization_energies[ion],\n",
    "        \"work_functions\": work_functions,\n",
    "        \"yields\": yields,\n",
    "        \"yields_no_plasmons\": yields_np\n",
    "    }"
   ]
  },
  {
   "cell_type": "code",
   "execution_count": 4,
   "metadata": {},
   "outputs": [
    {
     "data": {
      "image/png": "[encoded data removed]",
      "text/plain": [
       "<Figure size 432x288 with 1 Axes>"
      ]
     },
     "metadata": {
      "needs_background": "light"
     },
     "output_type": "display_data"
    }
   ],
   "source": [
    "color_dict = {\n",
    "    \"He\": color0,\n",
    "    \"Ne\": color1\n",
    "}\n",
    "\n",
    "x = np.linspace(3, 14, 100)\n",
    "plt.plot(x,  x*0.032, \"k\")\n",
    "\n",
    "for ion, ionization_energy in ionization_energies.items():\n",
    "    x_values = param2 * np.array(total_yield_dict[ion][\"work_functions\"]) + param1 * ionization_energy\n",
    "    plt.plot(x_values, total_yield_dict[ion][\"yields\"], \"o\", color=color_dict[ion], markersize=2)\n",
    "    plt.xlabel(str(param1) + r\" $E_i$ \" + str(param2) + r\" $\\phi$ (eV)\")\n",
    "    plt.ylabel(r\"$\\gamma$\")\n",
    "\n",
    "plt.legend([\"Baragiola\"] + list(ionization_energies.keys()))\n",
    "plt.ylim([0.08, 0.5])\n",
    "tikzplotlib.save(filepath=os.path.join(figures_dir, \"baragiola_calc.tex\"), \n",
    "                 add_axis_environment=False)"
   ]
  },
  {
   "cell_type": "code",
   "execution_count": 5,
   "metadata": {},
   "outputs": [],
   "source": [
    "with open(\"../data/experimental_data.json\", \"r\") as file:\n",
    "    exp_spectra = json.loads(file.read(), cls=MontyDecoder)\n",
    "\n",
    "with open(\"../data/yield_data.json\", \"r\") as file:\n",
    "    exp_data = json.loads(file.read(), cls=MontyDecoder)"
   ]
  },
  {
   "cell_type": "code",
   "execution_count": 6,
   "metadata": {},
   "outputs": [],
   "source": [
    "total_yield_dict = {}\n",
    "\n",
    "for ion in [\"He\", \"Ne\"]:\n",
    "    work_functions = []\n",
    "    yields = []\n",
    "\n",
    "    for element in exp_spectra.keys():\n",
    "        work_functions.extend([yield_dict[element][surface]['work_function']\n",
    "                               for surface in yield_dict[element].keys()])\n",
    "        yields.extend([exp_spectra[element][ion][\"total_yield\"]/1e3] * 3)\n",
    "        \n",
    "    total_yield_dict[ion] = {\n",
    "        \"ionization_energy\": ionization_energies[ion],\n",
    "        \"work_functions\": work_functions,\n",
    "        \"yields\": yields,\n",
    "    }"
   ]
  },
  {
   "cell_type": "code",
   "execution_count": 11,
   "metadata": {},
   "outputs": [],
   "source": [
    "# This if for the Baragiola plot, so we don't \n",
    "# care which surface corresponds to which work function\n",
    "\n",
    "wf_data = {\n",
    "    \"Ge\": [5.0],\n",
    "    \"Si\": [4.79, 4.71, 4.84],\n",
    "    \"Al\": [4.28, 4.36, 4.21],\n",
    "    \"Mg\": [3.66],\n",
    "    \"Be\": [4.98],\n",
    "    \"W\": [4.38, 4.57, 5.31],\n",
    "    \"Ni\": [5.28], # , 5.23, 4.64\n",
    "    \"Cu\": [4.48] # \n",
    "}"
   ]
  },
  {
   "cell_type": "code",
   "execution_count": 12,
   "metadata": {},
   "outputs": [
    {
     "data": {
      "image/png": "[encoded data removed]",
      "text/plain": [
       "<Figure size 432x288 with 1 Axes>"
      ]
     },
     "metadata": {
      "needs_background": "light"
     },
     "output_type": "display_data"
    }
   ],
   "source": [
    "x = np.linspace(3, 14, 100)\n",
    "plt.plot(x,  x*0.032, \"k\")\n",
    "\n",
    "plot_dict = {\n",
    "    \"Ge\": {\"marker\": \"o\", \"color\": color0},\n",
    "    \"Si\": {\"marker\": \"d\", \"color\": color0},\n",
    "    \"Al\": {\"marker\": \"o\", \"color\": color1},\n",
    "    \"Mg\": {\"marker\": \"d\", \"color\": color1},\n",
    "    \"Be\": {\"marker\": \"^\", \"color\": color1},\n",
    "    \"W\": {\"marker\": \">\", \"color\": color1},\n",
    "    \"Ni\": {\"marker\": \"v\", \"color\": color1},\n",
    "    \"Cu\": {\"marker\": \"<\", \"color\": color1}\n",
    "}\n",
    "\n",
    "for element in exp_spectra.keys(): \n",
    "    \n",
    "    x_values = []\n",
    "    yields = []\n",
    "    \n",
    "    work_functions = np.array(wf_data[element])\n",
    "\n",
    "    for ion, ionization_energy in ionization_energies.items():\n",
    "        \n",
    "        x_values.extend(param2 * work_functions + param1 * np.array([ionization_energy] * len(work_functions)))\n",
    "        yields.extend([exp_spectra[element][ion][\"total_yield\"]/1e3] * len(work_functions))\n",
    "    \n",
    "    plt.plot(x_values, yields, markersize=3, linestyle='', **plot_dict[element])\n",
    "    \n",
    "plt.xlabel(str(param1) + r\" $E_i$ \" + str(param2) + r\" $\\phi$ (eV)\")\n",
    "plt.ylabel(r\"$\\gamma$\")\n",
    "plt.legend([\"Baragiola\"] + list(exp_spectra.keys()), ncol=3, loc=\"upper left\")\n",
    "plt.ylim([0.08, 0.5])\n",
    "tikzplotlib.save(filepath=os.path.join(figures_dir, \"baragiola_exp.tex\"), \n",
    "                 add_axis_environment=False)"
   ]
  },
  {
   "cell_type": "code",
   "execution_count": null,
   "metadata": {},
   "outputs": [],
   "source": []
  }
 ],
 "metadata": {
  "kernelspec": {
   "display_name": "Python 3",
   "language": "python",
   "name": "python3"
  },
  "language_info": {
   "codemirror_mode": {
    "name": "ipython",
    "version": 3
   },
   "file_extension": ".py",
   "mimetype": "text/x-python",
   "name": "python",
   "nbconvert_exporter": "python",
   "pygments_lexer": "ipython3",
   "version": "3.8.1"
  }
 },
 "nbformat": 4,
 "nbformat_minor": 4
}
